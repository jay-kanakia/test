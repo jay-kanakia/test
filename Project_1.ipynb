{
 "cells": [
  {
   "cell_type": "code",
   "execution_count": 1,
   "id": "ad4fe4ec-d96f-473f-ae92-140176694906",
   "metadata": {},
   "outputs": [],
   "source": [
    "import pandas as pd"
   ]
  },
  {
   "cell_type": "code",
   "execution_count": 2,
   "id": "f544397a-c50a-421b-8b73-433ddab2c925",
   "metadata": {},
   "outputs": [],
   "source": [
    "df=pd.read_csv(r\"C:\\Users\\abc\\Data Science and ML\\CampusX\\Project\\flats.csv\")"
   ]
  },
  {
   "cell_type": "code",
   "execution_count": 3,
   "id": "fbb17e9d-a3b7-4152-82d0-104c7e5bccc1",
   "metadata": {},
   "outputs": [
    {
     "data": {
      "text/html": [
       "<div>\n",
       "<style scoped>\n",
       "    .dataframe tbody tr th:only-of-type {\n",
       "        vertical-align: middle;\n",
       "    }\n",
       "\n",
       "    .dataframe tbody tr th {\n",
       "        vertical-align: top;\n",
       "    }\n",
       "\n",
       "    .dataframe thead th {\n",
       "        text-align: right;\n",
       "    }\n",
       "</style>\n",
       "<table border=\"1\" class=\"dataframe\">\n",
       "  <thead>\n",
       "    <tr style=\"text-align: right;\">\n",
       "      <th></th>\n",
       "      <th>property_name</th>\n",
       "      <th>link</th>\n",
       "      <th>society</th>\n",
       "      <th>price</th>\n",
       "      <th>area</th>\n",
       "      <th>areaWithType</th>\n",
       "      <th>bedRoom</th>\n",
       "      <th>bathroom</th>\n",
       "      <th>balcony</th>\n",
       "      <th>additionalRoom</th>\n",
       "      <th>address</th>\n",
       "      <th>floorNum</th>\n",
       "      <th>facing</th>\n",
       "      <th>agePossession</th>\n",
       "      <th>nearbyLocations</th>\n",
       "      <th>description</th>\n",
       "      <th>furnishDetails</th>\n",
       "      <th>features</th>\n",
       "      <th>rating</th>\n",
       "      <th>property_id</th>\n",
       "    </tr>\n",
       "  </thead>\n",
       "  <tbody>\n",
       "    <tr>\n",
       "      <th>2416</th>\n",
       "      <td>2 BHK Flat in Sector 89 Gurgaon</td>\n",
       "      <td>https://www.99acres.com/2-bhk-bedroom-apartmen...</td>\n",
       "      <td>Greenopolis</td>\n",
       "      <td>65 Lac</td>\n",
       "      <td>₹ 5,195/sq.ft.</td>\n",
       "      <td>Carpet area: 1251 (116.22 sq.m.)</td>\n",
       "      <td>2 Bedrooms</td>\n",
       "      <td>2 Bathrooms</td>\n",
       "      <td>2 Balconies</td>\n",
       "      <td>NaN</td>\n",
       "      <td>Sector 89 Gurgaon, Gurgaon, Haryana</td>\n",
       "      <td>15th   of 21 Floors</td>\n",
       "      <td>NaN</td>\n",
       "      <td>Aug 2024</td>\n",
       "      <td>['Orris Community Center', 'Indian Oil', 'Essa...</td>\n",
       "      <td>Greenopolis 2bhk on high floor in tower 5</td>\n",
       "      <td>[]</td>\n",
       "      <td>['Security / Fire Alarm', 'Intercom Facility',...</td>\n",
       "      <td>['Environment4 out of 5', 'Lifestyle4 out of 5...</td>\n",
       "      <td>F69279446</td>\n",
       "    </tr>\n",
       "    <tr>\n",
       "      <th>2163</th>\n",
       "      <td>3 BHK Flat in Sector 32 Gurgaon</td>\n",
       "      <td>https://www.99acres.com/3-bhk-bedroom-apartmen...</td>\n",
       "      <td>Aqua Front Towers</td>\n",
       "      <td>2.5 Crore</td>\n",
       "      <td>₹ 11,715/sq.ft.</td>\n",
       "      <td>Built Up area: 2134 (198.26 sq.m.)</td>\n",
       "      <td>3 Bedrooms</td>\n",
       "      <td>4 Bathrooms</td>\n",
       "      <td>3 Balconies</td>\n",
       "      <td>NaN</td>\n",
       "      <td>Sohna Sector 32, Sector 32 Gurgaon, Gurgaon, H...</td>\n",
       "      <td>1st   of 1 Floors</td>\n",
       "      <td>NaN</td>\n",
       "      <td>undefined</td>\n",
       "      <td>NaN</td>\n",
       "      <td>Multistorey apartment is available for sale. I...</td>\n",
       "      <td>['1 Light', 'No AC', 'No Bed', 'No Chimney', '...</td>\n",
       "      <td>NaN</td>\n",
       "      <td>NaN</td>\n",
       "      <td>T69815480</td>\n",
       "    </tr>\n",
       "  </tbody>\n",
       "</table>\n",
       "</div>"
      ],
      "text/plain": [
       "                        property_name  \\\n",
       "2416  2 BHK Flat in Sector 89 Gurgaon   \n",
       "2163  3 BHK Flat in Sector 32 Gurgaon   \n",
       "\n",
       "                                                   link            society  \\\n",
       "2416  https://www.99acres.com/2-bhk-bedroom-apartmen...        Greenopolis   \n",
       "2163  https://www.99acres.com/3-bhk-bedroom-apartmen...  Aqua Front Towers   \n",
       "\n",
       "          price             area                        areaWithType  \\\n",
       "2416     65 Lac   ₹ 5,195/sq.ft.    Carpet area: 1251 (116.22 sq.m.)   \n",
       "2163  2.5 Crore  ₹ 11,715/sq.ft.  Built Up area: 2134 (198.26 sq.m.)   \n",
       "\n",
       "         bedRoom     bathroom      balcony additionalRoom  \\\n",
       "2416  2 Bedrooms  2 Bathrooms  2 Balconies            NaN   \n",
       "2163  3 Bedrooms  4 Bathrooms  3 Balconies            NaN   \n",
       "\n",
       "                                                address             floorNum  \\\n",
       "2416                Sector 89 Gurgaon, Gurgaon, Haryana  15th   of 21 Floors   \n",
       "2163  Sohna Sector 32, Sector 32 Gurgaon, Gurgaon, H...    1st   of 1 Floors   \n",
       "\n",
       "     facing agePossession                                    nearbyLocations  \\\n",
       "2416    NaN      Aug 2024  ['Orris Community Center', 'Indian Oil', 'Essa...   \n",
       "2163    NaN     undefined                                                NaN   \n",
       "\n",
       "                                            description  \\\n",
       "2416          Greenopolis 2bhk on high floor in tower 5   \n",
       "2163  Multistorey apartment is available for sale. I...   \n",
       "\n",
       "                                         furnishDetails  \\\n",
       "2416                                                 []   \n",
       "2163  ['1 Light', 'No AC', 'No Bed', 'No Chimney', '...   \n",
       "\n",
       "                                               features  \\\n",
       "2416  ['Security / Fire Alarm', 'Intercom Facility',...   \n",
       "2163                                                NaN   \n",
       "\n",
       "                                                 rating property_id  \n",
       "2416  ['Environment4 out of 5', 'Lifestyle4 out of 5...   F69279446  \n",
       "2163                                                NaN   T69815480  "
      ]
     },
     "execution_count": 3,
     "metadata": {},
     "output_type": "execute_result"
    }
   ],
   "source": [
    "df.sample(2)"
   ]
  },
  {
   "cell_type": "code",
   "execution_count": 4,
   "id": "eb6964a7-d746-4406-b86d-338de3f4f207",
   "metadata": {},
   "outputs": [
    {
     "data": {
      "text/plain": [
       "(3017, 20)"
      ]
     },
     "execution_count": 4,
     "metadata": {},
     "output_type": "execute_result"
    }
   ],
   "source": [
    "df.shape"
   ]
  },
  {
   "cell_type": "code",
   "execution_count": 5,
   "id": "f6c61a71-76a1-4701-ae35-effe14a4c42c",
   "metadata": {},
   "outputs": [],
   "source": [
    "pd.set_option('display.max_rows', None)\n",
    "pd.set_option('display.max_columns', None)"
   ]
  },
  {
   "cell_type": "code",
   "execution_count": 6,
   "id": "4c5e4c41-e36c-4160-9b85-c5f7c4d48260",
   "metadata": {},
   "outputs": [
    {
     "data": {
      "text/plain": [
       "property_name         0\n",
       "link                  0\n",
       "society               1\n",
       "price                10\n",
       "area                 13\n",
       "areaWithType          9\n",
       "bedRoom               9\n",
       "bathroom              9\n",
       "balcony               9\n",
       "additionalRoom     1323\n",
       "address              15\n",
       "floorNum             11\n",
       "facing              890\n",
       "agePossession        10\n",
       "nearbyLocations     104\n",
       "description           9\n",
       "furnishDetails      814\n",
       "features            423\n",
       "rating              341\n",
       "property_id           9\n",
       "dtype: int64"
      ]
     },
     "execution_count": 6,
     "metadata": {},
     "output_type": "execute_result"
    }
   ],
   "source": [
    "df.isnull().sum()"
   ]
  },
  {
   "cell_type": "code",
   "execution_count": 7,
   "id": "bfce5804-2b52-4970-95a7-e9ba1684d240",
   "metadata": {},
   "outputs": [
    {
     "name": "stdout",
     "output_type": "stream",
     "text": [
      "<class 'pandas.core.frame.DataFrame'>\n",
      "RangeIndex: 3017 entries, 0 to 3016\n",
      "Data columns (total 20 columns):\n",
      " #   Column           Non-Null Count  Dtype \n",
      "---  ------           --------------  ----- \n",
      " 0   property_name    3017 non-null   object\n",
      " 1   link             3017 non-null   object\n",
      " 2   society          3016 non-null   object\n",
      " 3   price            3007 non-null   object\n",
      " 4   area             3004 non-null   object\n",
      " 5   areaWithType     3008 non-null   object\n",
      " 6   bedRoom          3008 non-null   object\n",
      " 7   bathroom         3008 non-null   object\n",
      " 8   balcony          3008 non-null   object\n",
      " 9   additionalRoom   1694 non-null   object\n",
      " 10  address          3002 non-null   object\n",
      " 11  floorNum         3006 non-null   object\n",
      " 12  facing           2127 non-null   object\n",
      " 13  agePossession    3007 non-null   object\n",
      " 14  nearbyLocations  2913 non-null   object\n",
      " 15  description      3008 non-null   object\n",
      " 16  furnishDetails   2203 non-null   object\n",
      " 17  features         2594 non-null   object\n",
      " 18  rating           2676 non-null   object\n",
      " 19  property_id      3008 non-null   object\n",
      "dtypes: object(20)\n",
      "memory usage: 471.5+ KB\n"
     ]
    }
   ],
   "source": [
    "df.info()"
   ]
  },
  {
   "cell_type": "code",
   "execution_count": 8,
   "id": "8e7e28bf-8327-4b0d-ad24-40cee1be5d76",
   "metadata": {},
   "outputs": [
    {
     "data": {
      "text/plain": [
       "0"
      ]
     },
     "execution_count": 8,
     "metadata": {},
     "output_type": "execute_result"
    }
   ],
   "source": [
    "df.duplicated().sum()"
   ]
  },
  {
   "cell_type": "code",
   "execution_count": 9,
   "id": "6d430965-e201-4418-8f5a-7ef341fb8c38",
   "metadata": {},
   "outputs": [],
   "source": [
    "df.drop(columns=['link','property_id'],inplace=True)"
   ]
  },
  {
   "cell_type": "code",
   "execution_count": 10,
   "id": "19aee25c-5440-445a-80bb-75dc13f7fcd9",
   "metadata": {},
   "outputs": [
    {
     "data": {
      "text/plain": [
       "(3017, 18)"
      ]
     },
     "execution_count": 10,
     "metadata": {},
     "output_type": "execute_result"
    }
   ],
   "source": [
    "df.shape"
   ]
  },
  {
   "cell_type": "markdown",
   "id": "8d4f077f-0149-4de2-af03-e33fee5e1efd",
   "metadata": {},
   "source": [
    "# Adding Sector Column"
   ]
  },
  {
   "cell_type": "code",
   "execution_count": 11,
   "id": "02801282-4258-464a-9098-bd2207b5ed17",
   "metadata": {},
   "outputs": [],
   "source": [
    "sector=df['property_name'][df['property_name'].str.contains('Sector')]\n",
    "no_sector=df['property_name'][~df['property_name'].str.contains('Sector')]"
   ]
  },
  {
   "cell_type": "code",
   "execution_count": 12,
   "id": "4b0dffd2-3cdc-4488-a4a2-92494939337e",
   "metadata": {},
   "outputs": [],
   "source": [
    "sector=sector.str.split(\" \").apply(lambda x : ' '.join(x[-2:-1]))"
   ]
  },
  {
   "cell_type": "code",
   "execution_count": 13,
   "id": "edaf38b5-1b02-4ad5-9caa-4ab3c8275806",
   "metadata": {},
   "outputs": [],
   "source": [
    "no_sector=no_sector.str.lower().str.split(\"in\").str.get(-1)"
   ]
  },
  {
   "cell_type": "code",
   "execution_count": 14,
   "id": "2cfb73cc-4077-4d90-8d4c-a152c3ae6141",
   "metadata": {},
   "outputs": [],
   "source": [
    "replacements = {\n",
    "    'dharam colony': 'sector 12',\n",
    "    'krishna colony': 'sector 7',\n",
    "    'suncity': 'sector 54',\n",
    "    'prem nagar': 'sector 13',\n",
    "    'mg road': 'sector 28',\n",
    "    'gandhi nagar': 'sector 28',\n",
    "    'laxmi garden': 'sector 11',\n",
    "    'shakti nagar': 'sector 11',\n",
    "    'baldev nagar': 'sector 7',\n",
    "    'shivpuri': 'sector 7',\n",
    "    'garhi harsaru': 'sector 17',\n",
    "    'imt manesar': 'manesar',\n",
    "    'adarsh nagar': 'sector 12',\n",
    "    'shivaji nagar': 'sector 11',\n",
    "    'bhim nagar': 'sector 6',\n",
    "    'madanpuri': 'sector 7',\n",
    "    'saraswati vihar': 'sector 28',\n",
    "    'arjun nagar': 'sector 8',\n",
    "    'ravi nagar': 'sector 9',\n",
    "    'vishnu garden': 'sector 105',\n",
    "    'bhondsi': 'sector 11',\n",
    "    'surya vihar': 'sector 21',\n",
    "    'devilal colony': 'sector 9',\n",
    "    'valley view estate': 'gwal pahari',\n",
    "    'mehrauli  road': 'sector 14',\n",
    "    'jyoti park': 'sector 7',\n",
    "    'ansal plaza': 'sector 23',\n",
    "    'dayanand colony': 'sector 6',\n",
    "    'sushant lok phase 2': 'sector 55',\n",
    "    'chakkarpur': 'sector 28',\n",
    "    'greenwood city': 'sector 45',\n",
    "    'subhash nagar': 'sector 12',\n",
    "    'sohna road road': 'sohna road',\n",
    "    'malibu town': 'sector 47',\n",
    "    'surat nagar 1': 'sector 104',\n",
    "    'new colony': 'sector 7',\n",
    "    'mianwali colony': 'sector 12',\n",
    "    'jacobpura': 'sector 12',\n",
    "    'rajiv nagar': 'sector 13',\n",
    "    'ashok vihar': 'sector 3',\n",
    "    'dlf phase 1': 'sector 26',\n",
    "    'nirvana country': 'sector 50',\n",
    "    'palam vihar': 'sector 2',\n",
    "    'dlf phase 2': 'sector 25',\n",
    "    'sushant lok phase 1': 'sector 43',\n",
    "    'laxman vihar': 'sector 4',\n",
    "    'dlf phase 4': 'sector 28',\n",
    "    'dlf phase 3': 'sector 24',\n",
    "    'sushant lok phase 3': 'sector 57',\n",
    "    'dlf phase 5': 'sector 43',\n",
    "    'rajendra park': 'sector 105',\n",
    "    'uppals southend': 'sector 49',\n",
    "    'sohna': 'sohna road',\n",
    "    'ashok vihar phase 3 extension': 'sector 5',\n",
    "    'south city 1': 'sector 41',\n",
    "    'ashok vihar phase 2': 'sector 5'\n",
    "}"
   ]
  },
  {
   "cell_type": "code",
   "execution_count": 15,
   "id": "0b051863-968c-4d91-b27a-2e908b73cca4",
   "metadata": {},
   "outputs": [],
   "source": [
    "no_sector = no_sector.replace(replacements)"
   ]
  },
  {
   "cell_type": "code",
   "execution_count": 16,
   "id": "5f2ad5ff-668f-46cb-80db-c4f7dd8d12c9",
   "metadata": {},
   "outputs": [],
   "source": [
    "new_sector=pd.concat([sector,no_sector])"
   ]
  },
  {
   "cell_type": "code",
   "execution_count": 17,
   "id": "bb8542d7-ee01-45c0-a6d8-36d93206c5ba",
   "metadata": {},
   "outputs": [],
   "source": [
    "df.insert(1,'sector',new_sector)"
   ]
  },
  {
   "cell_type": "code",
   "execution_count": 18,
   "id": "830cbc40-ff3e-4ee6-b27e-6e5a0f1aa001",
   "metadata": {},
   "outputs": [
    {
     "data": {
      "text/html": [
       "<div>\n",
       "<style scoped>\n",
       "    .dataframe tbody tr th:only-of-type {\n",
       "        vertical-align: middle;\n",
       "    }\n",
       "\n",
       "    .dataframe tbody tr th {\n",
       "        vertical-align: top;\n",
       "    }\n",
       "\n",
       "    .dataframe thead th {\n",
       "        text-align: right;\n",
       "    }\n",
       "</style>\n",
       "<table border=\"1\" class=\"dataframe\">\n",
       "  <thead>\n",
       "    <tr style=\"text-align: right;\">\n",
       "      <th></th>\n",
       "      <th>property_name</th>\n",
       "      <th>sector</th>\n",
       "      <th>society</th>\n",
       "      <th>price</th>\n",
       "      <th>area</th>\n",
       "      <th>areaWithType</th>\n",
       "      <th>bedRoom</th>\n",
       "      <th>bathroom</th>\n",
       "      <th>balcony</th>\n",
       "      <th>additionalRoom</th>\n",
       "      <th>address</th>\n",
       "      <th>floorNum</th>\n",
       "      <th>facing</th>\n",
       "      <th>agePossession</th>\n",
       "      <th>nearbyLocations</th>\n",
       "      <th>description</th>\n",
       "      <th>furnishDetails</th>\n",
       "      <th>features</th>\n",
       "      <th>rating</th>\n",
       "    </tr>\n",
       "  </thead>\n",
       "  <tbody>\n",
       "    <tr>\n",
       "      <th>2675</th>\n",
       "      <td>2 BHK Flat in Sohna</td>\n",
       "      <td>sohna</td>\n",
       "      <td>Ashiana Anmol3.5 ★</td>\n",
       "      <td>88 Lac</td>\n",
       "      <td>₹ 11,125/sq.ft.</td>\n",
       "      <td>Super Built up area 1275(118.45 sq.m.)Carpet a...</td>\n",
       "      <td>2 Bedrooms</td>\n",
       "      <td>2 Bathrooms</td>\n",
       "      <td>2 Balconies</td>\n",
       "      <td>NaN</td>\n",
       "      <td>Sohna, Gurgaon, Haryana</td>\n",
       "      <td>13rd   of 14 Floors</td>\n",
       "      <td>East</td>\n",
       "      <td>1 to 5 Year Old</td>\n",
       "      <td>['Global Signum Plaza', 'Airia Mall', 'Sohna R...</td>\n",
       "      <td>Fully furnished flat with southfacing balconie...</td>\n",
       "      <td>['1 Water Purifier', '4 Fan', '1 Exhaust Fan',...</td>\n",
       "      <td>['Security / Fire Alarm', 'Feng Shui / Vaastu ...</td>\n",
       "      <td>['Green Area4 out of 5', 'Amenities4 out of 5'...</td>\n",
       "    </tr>\n",
       "    <tr>\n",
       "      <th>1697</th>\n",
       "      <td>3 BHK Flat in Nirvana Country</td>\n",
       "      <td>nirvana country</td>\n",
       "      <td>The Close North4.0 ★</td>\n",
       "      <td>2.65 Crore</td>\n",
       "      <td>₹ 11,276/sq.ft.</td>\n",
       "      <td>Super Built up area 2605(242.01 sq.m.)Built Up...</td>\n",
       "      <td>3 Bedrooms</td>\n",
       "      <td>3 Bathrooms</td>\n",
       "      <td>3+ Balconies</td>\n",
       "      <td>Servant Room</td>\n",
       "      <td>Higher Floor, Nirvana Country, Gurgaon, Haryana</td>\n",
       "      <td>3rd   of 18 Floors</td>\n",
       "      <td>South-East</td>\n",
       "      <td>5 to 10 Year Old</td>\n",
       "      <td>['Sector 55-56 Metro Station', 'Eros City Squa...</td>\n",
       "      <td>Situated in nirvana country, gurgaon, the clos...</td>\n",
       "      <td>NaN</td>\n",
       "      <td>['Centrally Air Conditioned', 'Water purifier'...</td>\n",
       "      <td>['Green Area5 out of 5', 'Construction4 out of...</td>\n",
       "    </tr>\n",
       "  </tbody>\n",
       "</table>\n",
       "</div>"
      ],
      "text/plain": [
       "                      property_name            sector               society  \\\n",
       "2675            2 BHK Flat in Sohna             sohna    Ashiana Anmol3.5 ★   \n",
       "1697  3 BHK Flat in Nirvana Country   nirvana country  The Close North4.0 ★   \n",
       "\n",
       "           price             area  \\\n",
       "2675      88 Lac  ₹ 11,125/sq.ft.   \n",
       "1697  2.65 Crore  ₹ 11,276/sq.ft.   \n",
       "\n",
       "                                           areaWithType     bedRoom  \\\n",
       "2675  Super Built up area 1275(118.45 sq.m.)Carpet a...  2 Bedrooms   \n",
       "1697  Super Built up area 2605(242.01 sq.m.)Built Up...  3 Bedrooms   \n",
       "\n",
       "         bathroom       balcony additionalRoom  \\\n",
       "2675  2 Bathrooms   2 Balconies            NaN   \n",
       "1697  3 Bathrooms  3+ Balconies   Servant Room   \n",
       "\n",
       "                                              address             floorNum  \\\n",
       "2675                          Sohna, Gurgaon, Haryana  13rd   of 14 Floors   \n",
       "1697  Higher Floor, Nirvana Country, Gurgaon, Haryana   3rd   of 18 Floors   \n",
       "\n",
       "          facing     agePossession  \\\n",
       "2675        East   1 to 5 Year Old   \n",
       "1697  South-East  5 to 10 Year Old   \n",
       "\n",
       "                                        nearbyLocations  \\\n",
       "2675  ['Global Signum Plaza', 'Airia Mall', 'Sohna R...   \n",
       "1697  ['Sector 55-56 Metro Station', 'Eros City Squa...   \n",
       "\n",
       "                                            description  \\\n",
       "2675  Fully furnished flat with southfacing balconie...   \n",
       "1697  Situated in nirvana country, gurgaon, the clos...   \n",
       "\n",
       "                                         furnishDetails  \\\n",
       "2675  ['1 Water Purifier', '4 Fan', '1 Exhaust Fan',...   \n",
       "1697                                                NaN   \n",
       "\n",
       "                                               features  \\\n",
       "2675  ['Security / Fire Alarm', 'Feng Shui / Vaastu ...   \n",
       "1697  ['Centrally Air Conditioned', 'Water purifier'...   \n",
       "\n",
       "                                                 rating  \n",
       "2675  ['Green Area4 out of 5', 'Amenities4 out of 5'...  \n",
       "1697  ['Green Area5 out of 5', 'Construction4 out of...  "
      ]
     },
     "execution_count": 18,
     "metadata": {},
     "output_type": "execute_result"
    }
   ],
   "source": [
    "df.sample(2)"
   ]
  },
  {
   "cell_type": "markdown",
   "id": "d2791d54-5670-4aa5-82e3-361662266408",
   "metadata": {},
   "source": [
    "# price Column"
   ]
  },
  {
   "cell_type": "code",
   "execution_count": 19,
   "id": "5d4fb6e4-1d3c-405d-88ea-5b6fde1a4b79",
   "metadata": {},
   "outputs": [],
   "source": [
    "df.dropna(subset=['price'],inplace=True)"
   ]
  },
  {
   "cell_type": "code",
   "execution_count": 20,
   "id": "cd0e8fc5-afeb-431b-ad32-14daf9a320d4",
   "metadata": {},
   "outputs": [],
   "source": [
    "df['price']=df['price'][df['price']!='Price on Request']"
   ]
  },
  {
   "cell_type": "code",
   "execution_count": 21,
   "id": "04b19494-82e2-4c1e-ac6d-d45e26701d86",
   "metadata": {},
   "outputs": [],
   "source": [
    "def clean_price(price):\n",
    "    if 'crore' in price:\n",
    "       return float(price.split(' ')[0])*100\n",
    "    elif 'lac' in price:\n",
    "        return float(price.split(' ')[0])"
   ]
  },
  {
   "cell_type": "code",
   "execution_count": 22,
   "id": "d9014c94-a66f-441c-9797-2e6a24721eb1",
   "metadata": {},
   "outputs": [
    {
     "data": {
      "text/plain": [
       "11"
      ]
     },
     "execution_count": 22,
     "metadata": {},
     "output_type": "execute_result"
    }
   ],
   "source": [
    "df['price'].isnull().sum()"
   ]
  },
  {
   "cell_type": "code",
   "execution_count": 23,
   "id": "f2f85db4-3ab8-4927-9b5d-c5aa7f868939",
   "metadata": {},
   "outputs": [],
   "source": [
    "df.dropna(subset=['price'],inplace=True)"
   ]
  },
  {
   "cell_type": "code",
   "execution_count": 24,
   "id": "889eacf4-4186-4268-9b57-14d782319f7e",
   "metadata": {},
   "outputs": [],
   "source": [
    "df['price']=df['price'].str.lower().str.strip().apply(clean_price)"
   ]
  },
  {
   "cell_type": "markdown",
   "id": "f3161366-1ead-45b3-8dbb-a6d8d34a02f1",
   "metadata": {},
   "source": [
    "# area : price_per_sqft_inrs column"
   ]
  },
  {
   "cell_type": "code",
   "execution_count": 25,
   "id": "d61171b6-daa9-4946-9f4f-b39f2d3fa50c",
   "metadata": {},
   "outputs": [],
   "source": [
    "df.insert(5,'price_per_sqft',df['area'].str.lower().str.split('/').str.get(0).str.strip().str.split().str.get(1).str.replace(',','').astype('float'))"
   ]
  },
  {
   "cell_type": "code",
   "execution_count": 26,
   "id": "de7ec9c6-1d31-47e8-8a5c-8f985a418667",
   "metadata": {},
   "outputs": [],
   "source": [
    "df.drop(columns=['area'],inplace=True)"
   ]
  },
  {
   "cell_type": "code",
   "execution_count": 27,
   "id": "30cbe57a-e37b-4ffe-8bff-4bd6b991e428",
   "metadata": {},
   "outputs": [],
   "source": [
    "df.rename(columns={\"price\":'price_in_cr',\"price_per_sqft\":'price_per_sqft_inrs'},inplace=True)"
   ]
  },
  {
   "cell_type": "code",
   "execution_count": 28,
   "id": "c9a02f51-3010-4a16-bdbd-d09795a3f6e1",
   "metadata": {},
   "outputs": [
    {
     "data": {
      "text/plain": [
       "property_name             0\n",
       "sector                    0\n",
       "society                   1\n",
       "price_in_cr               0\n",
       "price_per_sqft_inrs       0\n",
       "areaWithType              0\n",
       "bedRoom                   0\n",
       "bathroom                  0\n",
       "balcony                   0\n",
       "additionalRoom         1304\n",
       "address                   6\n",
       "floorNum                  2\n",
       "facing                  874\n",
       "agePossession             1\n",
       "nearbyLocations          91\n",
       "description               0\n",
       "furnishDetails          796\n",
       "features                407\n",
       "rating                  328\n",
       "dtype: int64"
      ]
     },
     "execution_count": 28,
     "metadata": {},
     "output_type": "execute_result"
    }
   ],
   "source": [
    "df.isnull().sum()"
   ]
  },
  {
   "cell_type": "markdown",
   "id": "1af4564f-fb31-4fd6-8eb9-dca867429d74",
   "metadata": {},
   "source": [
    "# bedroom column"
   ]
  },
  {
   "cell_type": "code",
   "execution_count": 29,
   "id": "90be9cfe-5617-4f8d-9405-e56efb2ef69d",
   "metadata": {},
   "outputs": [],
   "source": [
    "df['bedRoom']=df['bedRoom'].str.strip().str.split(' ').str.get(0).astype('int')"
   ]
  },
  {
   "cell_type": "markdown",
   "id": "849e1c68-b9dc-404e-8b73-2f5e0d7b1ecc",
   "metadata": {},
   "source": [
    "# bathroom column"
   ]
  },
  {
   "cell_type": "code",
   "execution_count": 30,
   "id": "700cd982-5101-492d-b545-18ae5a14ff04",
   "metadata": {},
   "outputs": [],
   "source": [
    "df['bathroom']=df['bathroom'].str.strip().str.split(' ').str.get(0).astype('int')"
   ]
  },
  {
   "cell_type": "markdown",
   "id": "b2c17062-daa5-473b-9975-bffcca55b683",
   "metadata": {},
   "source": [
    "# balcony column"
   ]
  },
  {
   "cell_type": "code",
   "execution_count": 31,
   "id": "0a851201-c41b-4481-a368-b9bf35a1436b",
   "metadata": {},
   "outputs": [
    {
     "data": {
      "text/plain": [
       "balcony\n",
       "3 Balconies     973\n",
       "3+ Balconies    862\n",
       "2 Balconies     749\n",
       "1 Balcony       315\n",
       "No Balcony       97\n",
       "Name: count, dtype: int64"
      ]
     },
     "execution_count": 31,
     "metadata": {},
     "output_type": "execute_result"
    }
   ],
   "source": [
    "df['balcony'].value_counts()"
   ]
  },
  {
   "cell_type": "code",
   "execution_count": 32,
   "id": "3342390e-aee3-413d-88d2-af3d4fe61900",
   "metadata": {},
   "outputs": [],
   "source": [
    "df['balcony']=df['balcony'].str.strip().str.split(' ').str.get(0).str.replace('No','0')"
   ]
  },
  {
   "cell_type": "markdown",
   "id": "6ad4037e-a8cc-44a4-92aa-c5d390a90dc4",
   "metadata": {},
   "source": [
    "# floorNum column"
   ]
  },
  {
   "cell_type": "code",
   "execution_count": 33,
   "id": "5aea396e-ac98-4ec5-83eb-75cebcf9e6bd",
   "metadata": {},
   "outputs": [],
   "source": [
    "#df['floorNum'].value_counts()"
   ]
  },
  {
   "cell_type": "code",
   "execution_count": 34,
   "id": "f4539e9a-1e03-4e79-9772-fd4ca06f89b3",
   "metadata": {},
   "outputs": [],
   "source": [
    "df.insert(10,'total_floors',df['floorNum'].str.strip().str.split('of').str.get(1).str.strip().str.split(' ').str.get(0).astype('float'))"
   ]
  },
  {
   "cell_type": "code",
   "execution_count": 35,
   "id": "8ff3734e-74fb-4559-884c-b8c685254774",
   "metadata": {},
   "outputs": [],
   "source": [
    "df['floorNum']=df['floorNum'].str.lower().str.strip().str.split('of').str.get(0).str.strip().str.replace('ground','0').str.replace('lower','').str.replace('basement','-1').str.extract(r'(\\d+)').astype('float')"
   ]
  },
  {
   "cell_type": "code",
   "execution_count": 36,
   "id": "4a662df9-3218-4d87-baa1-98fd6f2ddbfd",
   "metadata": {},
   "outputs": [],
   "source": [
    "df.insert(12, 'total_floors', df.pop('total_floors'))"
   ]
  },
  {
   "cell_type": "markdown",
   "id": "96b23027-f9c2-4fe9-bfb4-d942f96499c0",
   "metadata": {},
   "source": [
    "# facing"
   ]
  },
  {
   "cell_type": "code",
   "execution_count": 37,
   "id": "5620b1e4-45ee-4ee7-81fb-e387a0f537b7",
   "metadata": {},
   "outputs": [
    {
     "data": {
      "text/plain": [
       "874"
      ]
     },
     "execution_count": 37,
     "metadata": {},
     "output_type": "execute_result"
    }
   ],
   "source": [
    "df['facing'].isnull().sum()"
   ]
  },
  {
   "cell_type": "code",
   "execution_count": 38,
   "id": "8a77ccc1-b58c-48a8-9803-9f38564f0877",
   "metadata": {},
   "outputs": [
    {
     "data": {
      "text/plain": [
       "facing\n",
       "North-East    505\n",
       "East          489\n",
       "North         301\n",
       "South         203\n",
       "West          183\n",
       "North-West    162\n",
       "South-East    144\n",
       "South-West    135\n",
       "Name: count, dtype: int64"
      ]
     },
     "execution_count": 38,
     "metadata": {},
     "output_type": "execute_result"
    }
   ],
   "source": [
    "df['facing'].value_counts()"
   ]
  },
  {
   "cell_type": "code",
   "execution_count": 39,
   "id": "ab395ec8-79af-4833-b1bf-b1d57b8d4d12",
   "metadata": {},
   "outputs": [
    {
     "name": "stderr",
     "output_type": "stream",
     "text": [
      "C:\\Users\\abc\\AppData\\Local\\Temp\\ipykernel_7256\\3692945726.py:1: FutureWarning: A value is trying to be set on a copy of a DataFrame or Series through chained assignment using an inplace method.\n",
      "The behavior will change in pandas 3.0. This inplace method will never work because the intermediate object on which we are setting values always behaves as a copy.\n",
      "\n",
      "For example, when doing 'df[col].method(value, inplace=True)', try using 'df.method({col: value}, inplace=True)' or df[col] = df[col].method(value) instead, to perform the operation inplace on the original object.\n",
      "\n",
      "\n",
      "  df['facing'].fillna('NA',inplace=True)\n"
     ]
    }
   ],
   "source": [
    "df['facing'].fillna('NA',inplace=True)"
   ]
  },
  {
   "cell_type": "code",
   "execution_count": 40,
   "id": "9dee6a00-3d3e-4d8a-b1e9-670d510f9248",
   "metadata": {},
   "outputs": [
    {
     "data": {
      "text/plain": [
       "facing\n",
       "NA            874\n",
       "North-East    505\n",
       "East          489\n",
       "North         301\n",
       "South         203\n",
       "West          183\n",
       "North-West    162\n",
       "South-East    144\n",
       "South-West    135\n",
       "Name: count, dtype: int64"
      ]
     },
     "execution_count": 40,
     "metadata": {},
     "output_type": "execute_result"
    }
   ],
   "source": [
    "df['facing'].value_counts()"
   ]
  },
  {
   "cell_type": "code",
   "execution_count": 41,
   "id": "8e0251ce-e767-4272-bf44-cc488520bce9",
   "metadata": {},
   "outputs": [
    {
     "data": {
      "text/plain": [
       "0"
      ]
     },
     "execution_count": 41,
     "metadata": {},
     "output_type": "execute_result"
    }
   ],
   "source": [
    "df['facing'].isnull().sum()"
   ]
  },
  {
   "cell_type": "markdown",
   "id": "4157b839-71db-4ce8-a58b-7715904b9b6b",
   "metadata": {},
   "source": [
    "# adding new column area"
   ]
  },
  {
   "cell_type": "code",
   "execution_count": 42,
   "id": "d569f037-e32e-43aa-a4af-e194059a96d7",
   "metadata": {},
   "outputs": [],
   "source": [
    "df.insert(5,'area',round((df['price_in_cr']*100000)/df['price_per_sqft_inrs'],2))"
   ]
  },
  {
   "cell_type": "markdown",
   "id": "651f427d-d979-40a8-8f9a-44bbed7dc441",
   "metadata": {},
   "source": [
    "# Adding column property_type"
   ]
  },
  {
   "cell_type": "code",
   "execution_count": 44,
   "id": "946e3d07-4860-4250-be2a-835a9629d356",
   "metadata": {},
   "outputs": [],
   "source": [
    "df.insert(1,'property_type','flat')"
   ]
  },
  {
   "cell_type": "markdown",
   "id": "053400a2-3182-4596-9fae-12fa0bf91d3d",
   "metadata": {},
   "source": [
    "# Miscellaneous"
   ]
  },
  {
   "cell_type": "code",
   "execution_count": 45,
   "id": "2a4b0e64-fb6b-4f53-a197-154d25bf4dad",
   "metadata": {},
   "outputs": [],
   "source": [
    "df.rename(columns={\"price_in_cr\":'price_in_lacs'},inplace=True)"
   ]
  },
  {
   "cell_type": "code",
   "execution_count": 46,
   "id": "1158d46d-5fb0-4fa2-8c0b-c47a43340984",
   "metadata": {},
   "outputs": [
    {
     "data": {
      "text/html": [
       "<div>\n",
       "<style scoped>\n",
       "    .dataframe tbody tr th:only-of-type {\n",
       "        vertical-align: middle;\n",
       "    }\n",
       "\n",
       "    .dataframe tbody tr th {\n",
       "        vertical-align: top;\n",
       "    }\n",
       "\n",
       "    .dataframe thead th {\n",
       "        text-align: right;\n",
       "    }\n",
       "</style>\n",
       "<table border=\"1\" class=\"dataframe\">\n",
       "  <thead>\n",
       "    <tr style=\"text-align: right;\">\n",
       "      <th></th>\n",
       "      <th>property_name</th>\n",
       "      <th>property_type</th>\n",
       "      <th>sector</th>\n",
       "      <th>society</th>\n",
       "      <th>price_in_lacs</th>\n",
       "      <th>price_per_sqft_inrs</th>\n",
       "      <th>area</th>\n",
       "      <th>areaWithType</th>\n",
       "      <th>bedRoom</th>\n",
       "      <th>bathroom</th>\n",
       "      <th>balcony</th>\n",
       "      <th>additionalRoom</th>\n",
       "      <th>address</th>\n",
       "      <th>floorNum</th>\n",
       "      <th>total_floors</th>\n",
       "      <th>facing</th>\n",
       "      <th>agePossession</th>\n",
       "      <th>nearbyLocations</th>\n",
       "      <th>description</th>\n",
       "      <th>furnishDetails</th>\n",
       "      <th>features</th>\n",
       "      <th>rating</th>\n",
       "    </tr>\n",
       "  </thead>\n",
       "  <tbody>\n",
       "    <tr>\n",
       "      <th>2474</th>\n",
       "      <td>4 BHK Flat in Sector 95 Gurgaon</td>\n",
       "      <td>flat</td>\n",
       "      <td>95</td>\n",
       "      <td>Siddhartha Apartment</td>\n",
       "      <td>110.0</td>\n",
       "      <td>4327.0</td>\n",
       "      <td>2542.18</td>\n",
       "      <td>Carpet area: 2542 (236.16 sq.m.)</td>\n",
       "      <td>4</td>\n",
       "      <td>3</td>\n",
       "      <td>3</td>\n",
       "      <td>Servant Room,Others</td>\n",
       "      <td>Block- G, Sector 95 Gurgaon, Gurgaon, Haryana</td>\n",
       "      <td>9.0</td>\n",
       "      <td>10.0</td>\n",
       "      <td>North</td>\n",
       "      <td>1 to 5 Year Old</td>\n",
       "      <td>['Yadav Clinic', 'Bangali Clinic', 'Dr. J. S. ...</td>\n",
       "      <td>Only two flats on each floor makes it open fro...</td>\n",
       "      <td>NaN</td>\n",
       "      <td>['Security / Fire Alarm', 'Lift(s)', 'Maintena...</td>\n",
       "      <td>['Environment4 out of 5', 'Lifestyle4.5 out of...</td>\n",
       "    </tr>\n",
       "    <tr>\n",
       "      <th>2793</th>\n",
       "      <td>3 BHK Flat in Sector 1A IMT Manesar</td>\n",
       "      <td>flat</td>\n",
       "      <td>IMT</td>\n",
       "      <td>Deepak Minda</td>\n",
       "      <td>125.0</td>\n",
       "      <td>4716.0</td>\n",
       "      <td>2650.55</td>\n",
       "      <td>Carpet area: 2650 (246.19 sq.m.)</td>\n",
       "      <td>3</td>\n",
       "      <td>3</td>\n",
       "      <td>3+</td>\n",
       "      <td>Servant Room</td>\n",
       "      <td>Sector 1A IMT Manesar, Gurgaon, Haryana</td>\n",
       "      <td>6.0</td>\n",
       "      <td>10.0</td>\n",
       "      <td>NA</td>\n",
       "      <td>5 to 10 Year Old</td>\n",
       "      <td>['Pooja Clinic', 'Dr. Sahil Clinic', 'Prakash ...</td>\n",
       "      <td>Near by imt,market,school,hospital</td>\n",
       "      <td>['4 Wardrobe', '6 Fan', '2 Geyser', '6 Light',...</td>\n",
       "      <td>['Security / Fire Alarm', 'Intercom Facility',...</td>\n",
       "      <td>NaN</td>\n",
       "    </tr>\n",
       "  </tbody>\n",
       "</table>\n",
       "</div>"
      ],
      "text/plain": [
       "                            property_name property_type sector  \\\n",
       "2474      4 BHK Flat in Sector 95 Gurgaon          flat     95   \n",
       "2793  3 BHK Flat in Sector 1A IMT Manesar          flat    IMT   \n",
       "\n",
       "                   society  price_in_lacs  price_per_sqft_inrs     area  \\\n",
       "2474  Siddhartha Apartment          110.0               4327.0  2542.18   \n",
       "2793          Deepak Minda          125.0               4716.0  2650.55   \n",
       "\n",
       "                          areaWithType  bedRoom  bathroom balcony  \\\n",
       "2474  Carpet area: 2542 (236.16 sq.m.)        4         3       3   \n",
       "2793  Carpet area: 2650 (246.19 sq.m.)        3         3      3+   \n",
       "\n",
       "           additionalRoom                                        address  \\\n",
       "2474  Servant Room,Others  Block- G, Sector 95 Gurgaon, Gurgaon, Haryana   \n",
       "2793         Servant Room        Sector 1A IMT Manesar, Gurgaon, Haryana   \n",
       "\n",
       "      floorNum  total_floors facing     agePossession  \\\n",
       "2474       9.0          10.0  North   1 to 5 Year Old   \n",
       "2793       6.0          10.0     NA  5 to 10 Year Old   \n",
       "\n",
       "                                        nearbyLocations  \\\n",
       "2474  ['Yadav Clinic', 'Bangali Clinic', 'Dr. J. S. ...   \n",
       "2793  ['Pooja Clinic', 'Dr. Sahil Clinic', 'Prakash ...   \n",
       "\n",
       "                                            description  \\\n",
       "2474  Only two flats on each floor makes it open fro...   \n",
       "2793                 Near by imt,market,school,hospital   \n",
       "\n",
       "                                         furnishDetails  \\\n",
       "2474                                                NaN   \n",
       "2793  ['4 Wardrobe', '6 Fan', '2 Geyser', '6 Light',...   \n",
       "\n",
       "                                               features  \\\n",
       "2474  ['Security / Fire Alarm', 'Lift(s)', 'Maintena...   \n",
       "2793  ['Security / Fire Alarm', 'Intercom Facility',...   \n",
       "\n",
       "                                                 rating  \n",
       "2474  ['Environment4 out of 5', 'Lifestyle4.5 out of...  \n",
       "2793                                                NaN  "
      ]
     },
     "execution_count": 46,
     "metadata": {},
     "output_type": "execute_result"
    }
   ],
   "source": [
    "df.sample(2)"
   ]
  },
  {
   "cell_type": "code",
   "execution_count": 47,
   "id": "10878c99-b8e2-4933-aa9a-9186b2980991",
   "metadata": {},
   "outputs": [
    {
     "data": {
      "text/plain": [
       "(2996, 22)"
      ]
     },
     "execution_count": 47,
     "metadata": {},
     "output_type": "execute_result"
    }
   ],
   "source": [
    "df.shape"
   ]
  },
  {
   "cell_type": "code",
   "execution_count": 48,
   "id": "17c3f6eb-1e5a-49ec-9788-962473cc9b6b",
   "metadata": {},
   "outputs": [],
   "source": [
    "df.drop(columns=['total_floors'],inplace=True)"
   ]
  },
  {
   "cell_type": "markdown",
   "id": "25064a2a-44ff-4c78-b5a8-3f8a54fc2d3e",
   "metadata": {},
   "source": [
    "# society"
   ]
  },
  {
   "cell_type": "code",
   "execution_count": 50,
   "id": "c4b715e2-804a-48d5-9f4d-974a70f04541",
   "metadata": {},
   "outputs": [],
   "source": [
    "import re\n",
    "df['society'] = df['society'].apply(lambda name: re.sub(r'\\d+(\\.\\d+)?\\s?★', '', str(name)).strip()).str.lower()"
   ]
  },
  {
   "cell_type": "code",
   "execution_count": 53,
   "id": "9db4a511-a73c-4e11-848a-0dc5e7d298f8",
   "metadata": {},
   "outputs": [],
   "source": [
    "df.insert(3,'sector',df.pop('sector'))"
   ]
  },
  {
   "cell_type": "code",
   "execution_count": 54,
   "id": "13232fc5-db49-4dbf-bb46-d61358d77c6d",
   "metadata": {},
   "outputs": [
    {
     "data": {
      "text/html": [
       "<div>\n",
       "<style scoped>\n",
       "    .dataframe tbody tr th:only-of-type {\n",
       "        vertical-align: middle;\n",
       "    }\n",
       "\n",
       "    .dataframe tbody tr th {\n",
       "        vertical-align: top;\n",
       "    }\n",
       "\n",
       "    .dataframe thead th {\n",
       "        text-align: right;\n",
       "    }\n",
       "</style>\n",
       "<table border=\"1\" class=\"dataframe\">\n",
       "  <thead>\n",
       "    <tr style=\"text-align: right;\">\n",
       "      <th></th>\n",
       "      <th>property_name</th>\n",
       "      <th>property_type</th>\n",
       "      <th>society</th>\n",
       "      <th>sector</th>\n",
       "      <th>price_in_lacs</th>\n",
       "      <th>price_per_sqft_inrs</th>\n",
       "      <th>area</th>\n",
       "      <th>areaWithType</th>\n",
       "      <th>bedRoom</th>\n",
       "      <th>bathroom</th>\n",
       "      <th>balcony</th>\n",
       "      <th>additionalRoom</th>\n",
       "      <th>address</th>\n",
       "      <th>floorNum</th>\n",
       "      <th>facing</th>\n",
       "      <th>agePossession</th>\n",
       "      <th>nearbyLocations</th>\n",
       "      <th>description</th>\n",
       "      <th>furnishDetails</th>\n",
       "      <th>features</th>\n",
       "      <th>rating</th>\n",
       "    </tr>\n",
       "  </thead>\n",
       "  <tbody>\n",
       "    <tr>\n",
       "      <th>27</th>\n",
       "      <td>3 BHK Flat in Sector 65 Gurgaon</td>\n",
       "      <td>flat</td>\n",
       "      <td>m3m golfestate</td>\n",
       "      <td>65</td>\n",
       "      <td>615.0</td>\n",
       "      <td>18331.0</td>\n",
       "      <td>3354.97</td>\n",
       "      <td>Built Up area: 3355 (311.69 sq.m.)Carpet area:...</td>\n",
       "      <td>3</td>\n",
       "      <td>4</td>\n",
       "      <td>2</td>\n",
       "      <td>NaN</td>\n",
       "      <td>Sector 65, Sector 65 Gurgaon, Gurgaon, Haryana</td>\n",
       "      <td>20.0</td>\n",
       "      <td>North-East</td>\n",
       "      <td>undefined</td>\n",
       "      <td>['Sector 54 Chowk Metro Station', 'Sahara Mall...</td>\n",
       "      <td>One of the best units in m3m golf estate with ...</td>\n",
       "      <td>NaN</td>\n",
       "      <td>NaN</td>\n",
       "      <td>['Green Area5 out of 5', 'Amenities5 out of 5'...</td>\n",
       "    </tr>\n",
       "    <tr>\n",
       "      <th>2692</th>\n",
       "      <td>3 BHK Flat in Mehrauli Gurgaon Road</td>\n",
       "      <td>flat</td>\n",
       "      <td>essel towers</td>\n",
       "      <td>mehrauli gurgaon road</td>\n",
       "      <td>220.0</td>\n",
       "      <td>12500.0</td>\n",
       "      <td>1760.00</td>\n",
       "      <td>Carpet area: 1760 (163.51 sq.m.)</td>\n",
       "      <td>3</td>\n",
       "      <td>4</td>\n",
       "      <td>3+</td>\n",
       "      <td>NaN</td>\n",
       "      <td>Mehrauli Gurgaon Road, Mehrauli Gurgaon Road, ...</td>\n",
       "      <td>3.0</td>\n",
       "      <td>NA</td>\n",
       "      <td>undefined</td>\n",
       "      <td>['Mg road metro station', 'Iffco chowk metro s...</td>\n",
       "      <td>Best in class property available at mehrauli g...</td>\n",
       "      <td>['1 Wardrobe', '1 Fan', '1 Light', 'No AC', 'N...</td>\n",
       "      <td>NaN</td>\n",
       "      <td>['Environment4 out of 5', 'Safety3 out of 5', ...</td>\n",
       "    </tr>\n",
       "  </tbody>\n",
       "</table>\n",
       "</div>"
      ],
      "text/plain": [
       "                            property_name property_type         society  \\\n",
       "27        3 BHK Flat in Sector 65 Gurgaon          flat  m3m golfestate   \n",
       "2692  3 BHK Flat in Mehrauli Gurgaon Road          flat    essel towers   \n",
       "\n",
       "                      sector  price_in_lacs  price_per_sqft_inrs     area  \\\n",
       "27                        65          615.0              18331.0  3354.97   \n",
       "2692   mehrauli gurgaon road          220.0              12500.0  1760.00   \n",
       "\n",
       "                                           areaWithType  bedRoom  bathroom  \\\n",
       "27    Built Up area: 3355 (311.69 sq.m.)Carpet area:...        3         4   \n",
       "2692                   Carpet area: 1760 (163.51 sq.m.)        3         4   \n",
       "\n",
       "     balcony additionalRoom  \\\n",
       "27         2            NaN   \n",
       "2692      3+            NaN   \n",
       "\n",
       "                                                address  floorNum      facing  \\\n",
       "27       Sector 65, Sector 65 Gurgaon, Gurgaon, Haryana      20.0  North-East   \n",
       "2692  Mehrauli Gurgaon Road, Mehrauli Gurgaon Road, ...       3.0          NA   \n",
       "\n",
       "     agePossession                                    nearbyLocations  \\\n",
       "27       undefined  ['Sector 54 Chowk Metro Station', 'Sahara Mall...   \n",
       "2692     undefined  ['Mg road metro station', 'Iffco chowk metro s...   \n",
       "\n",
       "                                            description  \\\n",
       "27    One of the best units in m3m golf estate with ...   \n",
       "2692  Best in class property available at mehrauli g...   \n",
       "\n",
       "                                         furnishDetails features  \\\n",
       "27                                                  NaN      NaN   \n",
       "2692  ['1 Wardrobe', '1 Fan', '1 Light', 'No AC', 'N...      NaN   \n",
       "\n",
       "                                                 rating  \n",
       "27    ['Green Area5 out of 5', 'Amenities5 out of 5'...  \n",
       "2692  ['Environment4 out of 5', 'Safety3 out of 5', ...  "
      ]
     },
     "execution_count": 54,
     "metadata": {},
     "output_type": "execute_result"
    }
   ],
   "source": [
    "df.sample(2)"
   ]
  },
  {
   "cell_type": "code",
   "execution_count": 55,
   "id": "1256a042-361d-4cb5-b3af-28eefeba086a",
   "metadata": {},
   "outputs": [],
   "source": [
    "df.to_csv(r'C:\\Users\\abc\\Data Science and ML\\CampusX\\Project\\self\\flats1.csv')"
   ]
  },
  {
   "cell_type": "code",
   "execution_count": null,
   "id": "47296714-2dc6-4b77-aeea-39ceb1e5cfc3",
   "metadata": {},
   "outputs": [],
   "source": []
  },
  {
   "cell_type": "code",
   "execution_count": null,
   "id": "b5894d32-9f04-4404-b4dd-d7ebe0be572a",
   "metadata": {},
   "outputs": [],
   "source": []
  }
 ],
 "metadata": {
  "kernelspec": {
   "display_name": "Python 3 (ipykernel)",
   "language": "python",
   "name": "python3"
  },
  "language_info": {
   "codemirror_mode": {
    "name": "ipython",
    "version": 3
   },
   "file_extension": ".py",
   "mimetype": "text/x-python",
   "name": "python",
   "nbconvert_exporter": "python",
   "pygments_lexer": "ipython3",
   "version": "3.12.7"
  }
 },
 "nbformat": 4,
 "nbformat_minor": 5
}
