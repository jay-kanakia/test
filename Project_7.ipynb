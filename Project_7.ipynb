{
 "cells": [
  {
   "cell_type": "code",
   "execution_count": 1,
   "id": "66fb0325-13cb-45b4-850c-a9d96b56a067",
   "metadata": {},
   "outputs": [],
   "source": [
    "import pandas as pd\n",
    "import seaborn as sns\n",
    "import matplotlib.pyplot as plt\n",
    "import numpy as np"
   ]
  },
  {
   "cell_type": "code",
   "execution_count": 2,
   "id": "99639cee-d996-4bfc-81b0-3dc7d51c4dd1",
   "metadata": {},
   "outputs": [],
   "source": [
    "df=pd.read_csv(r'C:\\Users\\abc\\Data Science and ML\\CampusX\\Project\\self\\project_3.csv')"
   ]
  },
  {
   "cell_type": "code",
   "execution_count": 3,
   "id": "53e8f67a-7e7f-4644-8239-7974a8951af7",
   "metadata": {},
   "outputs": [
    {
     "data": {
      "text/html": [
       "<div>\n",
       "<style scoped>\n",
       "    .dataframe tbody tr th:only-of-type {\n",
       "        vertical-align: middle;\n",
       "    }\n",
       "\n",
       "    .dataframe tbody tr th {\n",
       "        vertical-align: top;\n",
       "    }\n",
       "\n",
       "    .dataframe thead th {\n",
       "        text-align: right;\n",
       "    }\n",
       "</style>\n",
       "<table border=\"1\" class=\"dataframe\">\n",
       "  <thead>\n",
       "    <tr style=\"text-align: right;\">\n",
       "      <th></th>\n",
       "      <th>property_type</th>\n",
       "      <th>society</th>\n",
       "      <th>sector</th>\n",
       "      <th>price_in_lacs</th>\n",
       "      <th>price_per_sqft_inrs</th>\n",
       "      <th>area</th>\n",
       "      <th>areaWithType</th>\n",
       "      <th>super_builtup</th>\n",
       "      <th>builtup</th>\n",
       "      <th>carpet_area</th>\n",
       "      <th>...</th>\n",
       "      <th>floorNum</th>\n",
       "      <th>facing</th>\n",
       "      <th>agePossession</th>\n",
       "      <th>furnish_type</th>\n",
       "      <th>servant_room</th>\n",
       "      <th>study room</th>\n",
       "      <th>pooja room</th>\n",
       "      <th>store_room</th>\n",
       "      <th>others</th>\n",
       "      <th>luxury_score</th>\n",
       "    </tr>\n",
       "  </thead>\n",
       "  <tbody>\n",
       "    <tr>\n",
       "      <th>3590</th>\n",
       "      <td>house</td>\n",
       "      <td>eldeco mansionz</td>\n",
       "      <td>sector 48</td>\n",
       "      <td>515.0</td>\n",
       "      <td>18885.0</td>\n",
       "      <td>2722.28</td>\n",
       "      <td>Plot area 303(253.35 sq.m.)Built Up area: 302 ...</td>\n",
       "      <td>NaN</td>\n",
       "      <td>302.0</td>\n",
       "      <td>300.0</td>\n",
       "      <td>...</td>\n",
       "      <td>2.0</td>\n",
       "      <td>East</td>\n",
       "      <td>Moderately Old</td>\n",
       "      <td>NaN</td>\n",
       "      <td>1</td>\n",
       "      <td>0</td>\n",
       "      <td>1</td>\n",
       "      <td>0</td>\n",
       "      <td>0</td>\n",
       "      <td>NaN</td>\n",
       "    </tr>\n",
       "    <tr>\n",
       "      <th>2994</th>\n",
       "      <td>house</td>\n",
       "      <td>huda sector-56 gurgaon</td>\n",
       "      <td>sector 56</td>\n",
       "      <td>360.0</td>\n",
       "      <td>24845.0</td>\n",
       "      <td>1452.60</td>\n",
       "      <td>Plot area 161(134.62 sq.m.)</td>\n",
       "      <td>NaN</td>\n",
       "      <td>161.0</td>\n",
       "      <td>NaN</td>\n",
       "      <td>...</td>\n",
       "      <td>3.0</td>\n",
       "      <td>North-East</td>\n",
       "      <td>Moderately Old</td>\n",
       "      <td>0.0</td>\n",
       "      <td>0</td>\n",
       "      <td>0</td>\n",
       "      <td>0</td>\n",
       "      <td>0</td>\n",
       "      <td>1</td>\n",
       "      <td>0.0</td>\n",
       "    </tr>\n",
       "  </tbody>\n",
       "</table>\n",
       "<p>2 rows × 23 columns</p>\n",
       "</div>"
      ],
      "text/plain": [
       "     property_type                 society      sector  price_in_lacs  \\\n",
       "3590         house         eldeco mansionz  sector 48           515.0   \n",
       "2994         house  huda sector-56 gurgaon  sector 56           360.0   \n",
       "\n",
       "      price_per_sqft_inrs     area  \\\n",
       "3590              18885.0  2722.28   \n",
       "2994              24845.0  1452.60   \n",
       "\n",
       "                                           areaWithType  super_builtup  \\\n",
       "3590  Plot area 303(253.35 sq.m.)Built Up area: 302 ...            NaN   \n",
       "2994                        Plot area 161(134.62 sq.m.)            NaN   \n",
       "\n",
       "      builtup  carpet_area  ...  floorNum      facing   agePossession  \\\n",
       "3590    302.0        300.0  ...       2.0        East  Moderately Old   \n",
       "2994    161.0          NaN  ...       3.0  North-East  Moderately Old   \n",
       "\n",
       "      furnish_type servant_room study room  pooja room  store_room  others  \\\n",
       "3590           NaN            1          0           1           0       0   \n",
       "2994           0.0            0          0           0           0       1   \n",
       "\n",
       "      luxury_score  \n",
       "3590           NaN  \n",
       "2994           0.0  \n",
       "\n",
       "[2 rows x 23 columns]"
      ]
     },
     "execution_count": 3,
     "metadata": {},
     "output_type": "execute_result"
    }
   ],
   "source": [
    "df.sample(2)"
   ]
  },
  {
   "cell_type": "code",
   "execution_count": 4,
   "id": "197d6b3a-96b7-492f-959a-f8d6341cc453",
   "metadata": {},
   "outputs": [
    {
     "data": {
      "text/plain": [
       "260.01466666666664"
      ]
     },
     "execution_count": 4,
     "metadata": {},
     "output_type": "execute_result"
    }
   ],
   "source": [
    "x=df[df['price_per_sqft_inrs']<20000]\n",
    "(x['area']/x['bedRoom']).quantile(0.05)"
   ]
  },
  {
   "cell_type": "code",
   "execution_count": 5,
   "id": "58cebf8d-a0d5-4100-864a-63b17668439a",
   "metadata": {},
   "outputs": [
    {
     "data": {
      "text/html": [
       "<div>\n",
       "<style scoped>\n",
       "    .dataframe tbody tr th:only-of-type {\n",
       "        vertical-align: middle;\n",
       "    }\n",
       "\n",
       "    .dataframe tbody tr th {\n",
       "        vertical-align: top;\n",
       "    }\n",
       "\n",
       "    .dataframe thead th {\n",
       "        text-align: right;\n",
       "    }\n",
       "</style>\n",
       "<table border=\"1\" class=\"dataframe\">\n",
       "  <thead>\n",
       "    <tr style=\"text-align: right;\">\n",
       "      <th></th>\n",
       "      <th>property_type</th>\n",
       "      <th>society</th>\n",
       "      <th>sector</th>\n",
       "      <th>price_in_lacs</th>\n",
       "      <th>price_per_sqft_inrs</th>\n",
       "      <th>area</th>\n",
       "      <th>areaWithType</th>\n",
       "      <th>super_builtup</th>\n",
       "      <th>builtup</th>\n",
       "      <th>carpet_area</th>\n",
       "      <th>...</th>\n",
       "      <th>floorNum</th>\n",
       "      <th>facing</th>\n",
       "      <th>agePossession</th>\n",
       "      <th>furnish_type</th>\n",
       "      <th>servant_room</th>\n",
       "      <th>study room</th>\n",
       "      <th>pooja room</th>\n",
       "      <th>store_room</th>\n",
       "      <th>others</th>\n",
       "      <th>luxury_score</th>\n",
       "    </tr>\n",
       "  </thead>\n",
       "  <tbody>\n",
       "    <tr>\n",
       "      <th>3171</th>\n",
       "      <td>house</td>\n",
       "      <td>huda housing board colony</td>\n",
       "      <td>sector 31</td>\n",
       "      <td>460.0</td>\n",
       "      <td>31506.0</td>\n",
       "      <td>1463.36</td>\n",
       "      <td>Plot area 1460(135.64 sq.m.)</td>\n",
       "      <td>NaN</td>\n",
       "      <td>1460.0</td>\n",
       "      <td>NaN</td>\n",
       "      <td>...</td>\n",
       "      <td>3.0</td>\n",
       "      <td>East</td>\n",
       "      <td>Old Property</td>\n",
       "      <td>0.0</td>\n",
       "      <td>0</td>\n",
       "      <td>0</td>\n",
       "      <td>0</td>\n",
       "      <td>0</td>\n",
       "      <td>1</td>\n",
       "      <td>0.0</td>\n",
       "    </tr>\n",
       "    <tr>\n",
       "      <th>2296</th>\n",
       "      <td>flat</td>\n",
       "      <td>signature global solera</td>\n",
       "      <td>sector 107</td>\n",
       "      <td>60.0</td>\n",
       "      <td>8000.0</td>\n",
       "      <td>750.00</td>\n",
       "      <td>Built Up area: 750 (69.68 sq.m.)Carpet area: 6...</td>\n",
       "      <td>NaN</td>\n",
       "      <td>750.0</td>\n",
       "      <td>650.0</td>\n",
       "      <td>...</td>\n",
       "      <td>8.0</td>\n",
       "      <td>NaN</td>\n",
       "      <td>Undefined</td>\n",
       "      <td>1.0</td>\n",
       "      <td>0</td>\n",
       "      <td>0</td>\n",
       "      <td>0</td>\n",
       "      <td>0</td>\n",
       "      <td>0</td>\n",
       "      <td>45.0</td>\n",
       "    </tr>\n",
       "    <tr>\n",
       "      <th>3556</th>\n",
       "      <td>house</td>\n",
       "      <td>independent</td>\n",
       "      <td>sector 43</td>\n",
       "      <td>530.0</td>\n",
       "      <td>27390.0</td>\n",
       "      <td>1936.80</td>\n",
       "      <td>Plot area 215(179.77 sq.m.)</td>\n",
       "      <td>NaN</td>\n",
       "      <td>215.0</td>\n",
       "      <td>NaN</td>\n",
       "      <td>...</td>\n",
       "      <td>3.0</td>\n",
       "      <td>East</td>\n",
       "      <td>Moderately Old</td>\n",
       "      <td>NaN</td>\n",
       "      <td>1</td>\n",
       "      <td>0</td>\n",
       "      <td>0</td>\n",
       "      <td>0</td>\n",
       "      <td>0</td>\n",
       "      <td>NaN</td>\n",
       "    </tr>\n",
       "    <tr>\n",
       "      <th>3048</th>\n",
       "      <td>house</td>\n",
       "      <td>my home</td>\n",
       "      <td>new sector 2</td>\n",
       "      <td>34.0</td>\n",
       "      <td>12592.0</td>\n",
       "      <td>269.00</td>\n",
       "      <td>Plot area 270(25.08 sq.m.)</td>\n",
       "      <td>NaN</td>\n",
       "      <td>270.0</td>\n",
       "      <td>NaN</td>\n",
       "      <td>...</td>\n",
       "      <td>3.0</td>\n",
       "      <td>West</td>\n",
       "      <td>Moderately Old</td>\n",
       "      <td>0.0</td>\n",
       "      <td>0</td>\n",
       "      <td>0</td>\n",
       "      <td>0</td>\n",
       "      <td>0</td>\n",
       "      <td>0</td>\n",
       "      <td>15.0</td>\n",
       "    </tr>\n",
       "    <tr>\n",
       "      <th>3089</th>\n",
       "      <td>house</td>\n",
       "      <td>independent</td>\n",
       "      <td>sector 7</td>\n",
       "      <td>116.0</td>\n",
       "      <td>11693.0</td>\n",
       "      <td>989.92</td>\n",
       "      <td>Plot area 992(92.16 sq.m.)Carpet area: 992 sq....</td>\n",
       "      <td>NaN</td>\n",
       "      <td>NaN</td>\n",
       "      <td>992.0</td>\n",
       "      <td>...</td>\n",
       "      <td>3.0</td>\n",
       "      <td>North-East</td>\n",
       "      <td>Moderately Old</td>\n",
       "      <td>0.0</td>\n",
       "      <td>0</td>\n",
       "      <td>0</td>\n",
       "      <td>0</td>\n",
       "      <td>0</td>\n",
       "      <td>1</td>\n",
       "      <td>14.0</td>\n",
       "    </tr>\n",
       "  </tbody>\n",
       "</table>\n",
       "<p>5 rows × 23 columns</p>\n",
       "</div>"
      ],
      "text/plain": [
       "     property_type                    society        sector  price_in_lacs  \\\n",
       "3171         house  huda housing board colony    sector 31           460.0   \n",
       "2296          flat    signature global solera   sector 107            60.0   \n",
       "3556         house                independent     sector 43          530.0   \n",
       "3048         house                    my home  new sector 2           34.0   \n",
       "3089         house                independent      sector 7          116.0   \n",
       "\n",
       "      price_per_sqft_inrs     area  \\\n",
       "3171              31506.0  1463.36   \n",
       "2296               8000.0   750.00   \n",
       "3556              27390.0  1936.80   \n",
       "3048              12592.0   269.00   \n",
       "3089              11693.0   989.92   \n",
       "\n",
       "                                           areaWithType  super_builtup  \\\n",
       "3171                       Plot area 1460(135.64 sq.m.)            NaN   \n",
       "2296  Built Up area: 750 (69.68 sq.m.)Carpet area: 6...            NaN   \n",
       "3556                        Plot area 215(179.77 sq.m.)            NaN   \n",
       "3048                         Plot area 270(25.08 sq.m.)            NaN   \n",
       "3089  Plot area 992(92.16 sq.m.)Carpet area: 992 sq....            NaN   \n",
       "\n",
       "      builtup  carpet_area  ...  floorNum      facing   agePossession  \\\n",
       "3171   1460.0          NaN  ...       3.0        East    Old Property   \n",
       "2296    750.0        650.0  ...       8.0         NaN       Undefined   \n",
       "3556    215.0          NaN  ...       3.0        East  Moderately Old   \n",
       "3048    270.0          NaN  ...       3.0        West  Moderately Old   \n",
       "3089      NaN        992.0  ...       3.0  North-East  Moderately Old   \n",
       "\n",
       "      furnish_type servant_room study room  pooja room  store_room  others  \\\n",
       "3171           0.0            0          0           0           0       1   \n",
       "2296           1.0            0          0           0           0       0   \n",
       "3556           NaN            1          0           0           0       0   \n",
       "3048           0.0            0          0           0           0       0   \n",
       "3089           0.0            0          0           0           0       1   \n",
       "\n",
       "      luxury_score  \n",
       "3171           0.0  \n",
       "2296          45.0  \n",
       "3556           NaN  \n",
       "3048          15.0  \n",
       "3089          14.0  \n",
       "\n",
       "[5 rows x 23 columns]"
      ]
     },
     "execution_count": 5,
     "metadata": {},
     "output_type": "execute_result"
    }
   ],
   "source": [
    "df[df['area']/df['bedRoom']<(x['area']/x['bedRoom']).quantile(0.05)].sample(5)"
   ]
  },
  {
   "cell_type": "code",
   "execution_count": 6,
   "id": "fa5af293-fa9c-42cc-a44c-0b39281692d8",
   "metadata": {},
   "outputs": [],
   "source": [
    "df=df[df['area']/df['bedRoom']>100]"
   ]
  },
  {
   "cell_type": "code",
   "execution_count": 7,
   "id": "3bfad203-42e2-4964-bbdf-b831c35a1a26",
   "metadata": {},
   "outputs": [
    {
     "data": {
      "text/plain": [
       "<seaborn.axisgrid.FacetGrid at 0x26b8b96f0e0>"
      ]
     },
     "execution_count": 7,
     "metadata": {},
     "output_type": "execute_result"
    },
    {
     "data": {
      "image/png": "[encoded data removed]",
      "text/plain": [
       "<Figure size 500x500 with 1 Axes>"
      ]
     },
     "metadata": {},
     "output_type": "display_data"
    }
   ],
   "source": [
    "sns.lmplot(data=df,x='area',y='bedRoom')"
   ]
  },
  {
   "cell_type": "code",
   "execution_count": 8,
   "id": "c31d3aaa-6c76-48a4-83e2-0c1d57ba6071",
   "metadata": {},
   "outputs": [],
   "source": [
    "outlier_bedRoom_df=df[(df['area']/df['bedRoom']<(x['area']/x['bedRoom']).quantile(0.05))&(df['bedRoom']>3)].iloc[:,:15]"
   ]
  },
  {
   "cell_type": "code",
   "execution_count": 9,
   "id": "61ff8478-cdca-40a7-800d-84690ec54060",
   "metadata": {},
   "outputs": [],
   "source": [
    "outlier_bedRoom_df['bedRoom']=round(outlier_bedRoom_df['bedRoom']/outlier_bedRoom_df['floorNum'])"
   ]
  },
  {
   "cell_type": "code",
   "execution_count": 10,
   "id": "656e1bdb-191a-4250-9031-7d502b0ce2ac",
   "metadata": {},
   "outputs": [],
   "source": [
    "df.update(outlier_bedRoom_df)"
   ]
  },
  {
   "cell_type": "code",
   "execution_count": 11,
   "id": "5eafe64c-979a-4362-bd79-7c236b1acde6",
   "metadata": {},
   "outputs": [
    {
     "data": {
      "text/html": [
       "<div>\n",
       "<style scoped>\n",
       "    .dataframe tbody tr th:only-of-type {\n",
       "        vertical-align: middle;\n",
       "    }\n",
       "\n",
       "    .dataframe tbody tr th {\n",
       "        vertical-align: top;\n",
       "    }\n",
       "\n",
       "    .dataframe thead th {\n",
       "        text-align: right;\n",
       "    }\n",
       "</style>\n",
       "<table border=\"1\" class=\"dataframe\">\n",
       "  <thead>\n",
       "    <tr style=\"text-align: right;\">\n",
       "      <th></th>\n",
       "      <th>property_type</th>\n",
       "      <th>society</th>\n",
       "      <th>sector</th>\n",
       "      <th>price_in_lacs</th>\n",
       "      <th>price_per_sqft_inrs</th>\n",
       "      <th>area</th>\n",
       "      <th>areaWithType</th>\n",
       "      <th>super_builtup</th>\n",
       "      <th>builtup</th>\n",
       "      <th>carpet_area</th>\n",
       "      <th>bedRoom</th>\n",
       "      <th>bathroom</th>\n",
       "      <th>balcony</th>\n",
       "      <th>floorNum</th>\n",
       "      <th>facing</th>\n",
       "    </tr>\n",
       "  </thead>\n",
       "  <tbody>\n",
       "    <tr>\n",
       "      <th>3045</th>\n",
       "      <td>house</td>\n",
       "      <td>independent</td>\n",
       "      <td>sector 7</td>\n",
       "      <td>116.0</td>\n",
       "      <td>11717.0</td>\n",
       "      <td>989.92</td>\n",
       "      <td>Carpet area: 110 (91.97 sq.m.)</td>\n",
       "      <td>NaN</td>\n",
       "      <td>NaN</td>\n",
       "      <td>110.0</td>\n",
       "      <td>5</td>\n",
       "      <td>4</td>\n",
       "      <td>2</td>\n",
       "      <td>1.0</td>\n",
       "      <td>North-East</td>\n",
       "    </tr>\n",
       "    <tr>\n",
       "      <th>3245</th>\n",
       "      <td>house</td>\n",
       "      <td>independent</td>\n",
       "      <td>sector 2</td>\n",
       "      <td>98.0</td>\n",
       "      <td>9074.0</td>\n",
       "      <td>1076.00</td>\n",
       "      <td>Carpet area: 120 (100.34 sq.m.)</td>\n",
       "      <td>NaN</td>\n",
       "      <td>NaN</td>\n",
       "      <td>120.0</td>\n",
       "      <td>9</td>\n",
       "      <td>4</td>\n",
       "      <td>3</td>\n",
       "      <td>1.0</td>\n",
       "      <td>South</td>\n",
       "    </tr>\n",
       "  </tbody>\n",
       "</table>\n",
       "</div>"
      ],
      "text/plain": [
       "     property_type      society    sector  price_in_lacs  price_per_sqft_inrs  \\\n",
       "3045         house  independent  sector 7          116.0              11717.0   \n",
       "3245         house  independent  sector 2           98.0               9074.0   \n",
       "\n",
       "         area                     areaWithType  super_builtup  builtup  \\\n",
       "3045   989.92   Carpet area: 110 (91.97 sq.m.)            NaN      NaN   \n",
       "3245  1076.00  Carpet area: 120 (100.34 sq.m.)            NaN      NaN   \n",
       "\n",
       "      carpet_area  bedRoom  bathroom balcony  floorNum      facing  \n",
       "3045        110.0        5         4       2       1.0  North-East  \n",
       "3245        120.0        9         4       3       1.0       South  "
      ]
     },
     "execution_count": 11,
     "metadata": {},
     "output_type": "execute_result"
    }
   ],
   "source": [
    "df[(df['area']/df['bedRoom']<250) & (df['bedRoom']>4)].iloc[:,:15].sample(2)"
   ]
  },
  {
   "cell_type": "code",
   "execution_count": 12,
   "id": "d56c98c6-51dd-4fc2-b725-5c620c53f531",
   "metadata": {},
   "outputs": [],
   "source": [
    "df=df[~((df['area']/df['bedRoom']<250) & (df['bedRoom']>4))]"
   ]
  },
  {
   "cell_type": "code",
   "execution_count": 13,
   "id": "5d753a39-44a1-4bf5-a75b-58b1cb519683",
   "metadata": {},
   "outputs": [
    {
     "data": {
      "text/plain": [
       "<seaborn.axisgrid.FacetGrid at 0x26b8ba5b950>"
      ]
     },
     "execution_count": 13,
     "metadata": {},
     "output_type": "execute_result"
    },
    {
     "data": {
      "image/png": "[encoded data removed]",
      "text/plain": [
       "<Figure size 500x500 with 1 Axes>"
      ]
     },
     "metadata": {},
     "output_type": "display_data"
    }
   ],
   "source": [
    "sns.lmplot(data=df,x='area',y='bedRoom')"
   ]
  },
  {
   "cell_type": "markdown",
   "id": "5b934306-31f0-48af-89dd-fd3bf0b6cd1e",
   "metadata": {},
   "source": [
    "# Missing Value Imputation"
   ]
  },
  {
   "cell_type": "code",
   "execution_count": 14,
   "id": "2dda378d-49c0-42e8-9b54-1a3c03f1d10b",
   "metadata": {},
   "outputs": [
    {
     "data": {
      "text/plain": [
       "(3605, 23)"
      ]
     },
     "execution_count": 14,
     "metadata": {},
     "output_type": "execute_result"
    }
   ],
   "source": [
    "df.shape"
   ]
  },
  {
   "cell_type": "code",
   "execution_count": 15,
   "id": "e2840c8d-bdea-47e3-b8b2-f65c5a833e78",
   "metadata": {},
   "outputs": [
    {
     "name": "stdout",
     "output_type": "stream",
     "text": [
      "<class 'pandas.core.frame.DataFrame'>\n",
      "Index: 3605 entries, 0 to 3642\n",
      "Data columns (total 23 columns):\n",
      " #   Column               Non-Null Count  Dtype  \n",
      "---  ------               --------------  -----  \n",
      " 0   property_type        3605 non-null   object \n",
      " 1   society              3604 non-null   object \n",
      " 2   sector               3605 non-null   object \n",
      " 3   price_in_lacs        3605 non-null   float64\n",
      " 4   price_per_sqft_inrs  3605 non-null   float64\n",
      " 5   area                 3605 non-null   float64\n",
      " 6   areaWithType         3605 non-null   object \n",
      " 7   super_builtup        1912 non-null   float64\n",
      " 8   builtup              1561 non-null   float64\n",
      " 9   carpet_area          1891 non-null   float64\n",
      " 10  bedRoom              3605 non-null   int64  \n",
      " 11  bathroom             3605 non-null   int64  \n",
      " 12  balcony              3605 non-null   object \n",
      " 13  floorNum             3588 non-null   float64\n",
      " 14  facing               2565 non-null   object \n",
      " 15  agePossession        3605 non-null   object \n",
      " 16  furnish_type         3470 non-null   float64\n",
      " 17  servant_room         3605 non-null   int64  \n",
      " 18  study room           3605 non-null   int64  \n",
      " 19  pooja room           3605 non-null   int64  \n",
      " 20  store_room           3605 non-null   int64  \n",
      " 21  others               3605 non-null   int64  \n",
      " 22  luxury_score         3470 non-null   float64\n",
      "dtypes: float64(9), int64(7), object(7)\n",
      "memory usage: 675.9+ KB\n"
     ]
    }
   ],
   "source": [
    "df.info()"
   ]
  },
  {
   "cell_type": "code",
   "execution_count": 16,
   "id": "ad3a4d6e-86bd-4ce1-b403-dcddc37372b7",
   "metadata": {},
   "outputs": [
    {
     "data": {
      "text/html": [
       "<div>\n",
       "<style scoped>\n",
       "    .dataframe tbody tr th:only-of-type {\n",
       "        vertical-align: middle;\n",
       "    }\n",
       "\n",
       "    .dataframe tbody tr th {\n",
       "        vertical-align: top;\n",
       "    }\n",
       "\n",
       "    .dataframe thead th {\n",
       "        text-align: right;\n",
       "    }\n",
       "</style>\n",
       "<table border=\"1\" class=\"dataframe\">\n",
       "  <thead>\n",
       "    <tr style=\"text-align: right;\">\n",
       "      <th></th>\n",
       "      <th>price_in_lacs</th>\n",
       "      <th>price_per_sqft_inrs</th>\n",
       "      <th>area</th>\n",
       "      <th>super_builtup</th>\n",
       "      <th>builtup</th>\n",
       "      <th>carpet_area</th>\n",
       "      <th>bedRoom</th>\n",
       "      <th>bathroom</th>\n",
       "      <th>floorNum</th>\n",
       "      <th>furnish_type</th>\n",
       "      <th>servant_room</th>\n",
       "      <th>study room</th>\n",
       "      <th>pooja room</th>\n",
       "      <th>store_room</th>\n",
       "      <th>others</th>\n",
       "      <th>luxury_score</th>\n",
       "    </tr>\n",
       "  </thead>\n",
       "  <tbody>\n",
       "    <tr>\n",
       "      <th>count</th>\n",
       "      <td>3605.000000</td>\n",
       "      <td>3605.000000</td>\n",
       "      <td>3605.000000</td>\n",
       "      <td>1912.000000</td>\n",
       "      <td>1561.000000</td>\n",
       "      <td>1891.000000</td>\n",
       "      <td>3605.000000</td>\n",
       "      <td>3605.000000</td>\n",
       "      <td>3588.000000</td>\n",
       "      <td>3470.000000</td>\n",
       "      <td>3605.000000</td>\n",
       "      <td>3605.000000</td>\n",
       "      <td>3605.000000</td>\n",
       "      <td>3605.000000</td>\n",
       "      <td>3605.000000</td>\n",
       "      <td>3470.000000</td>\n",
       "    </tr>\n",
       "    <tr>\n",
       "      <th>mean</th>\n",
       "      <td>238.834638</td>\n",
       "      <td>11266.326491</td>\n",
       "      <td>1904.554644</td>\n",
       "      <td>1922.111402</td>\n",
       "      <td>1461.925689</td>\n",
       "      <td>1420.451613</td>\n",
       "      <td>3.030236</td>\n",
       "      <td>3.214147</td>\n",
       "      <td>7.010870</td>\n",
       "      <td>0.637176</td>\n",
       "      <td>0.356172</td>\n",
       "      <td>0.185298</td>\n",
       "      <td>0.168100</td>\n",
       "      <td>0.089320</td>\n",
       "      <td>0.107628</td>\n",
       "      <td>73.681844</td>\n",
       "    </tr>\n",
       "    <tr>\n",
       "      <th>std</th>\n",
       "      <td>272.867205</td>\n",
       "      <td>7107.303257</td>\n",
       "      <td>1143.820518</td>\n",
       "      <td>767.354966</td>\n",
       "      <td>1236.767880</td>\n",
       "      <td>945.964780</td>\n",
       "      <td>1.135359</td>\n",
       "      <td>1.375289</td>\n",
       "      <td>6.106037</td>\n",
       "      <td>0.898768</td>\n",
       "      <td>0.478933</td>\n",
       "      <td>0.388593</td>\n",
       "      <td>0.374007</td>\n",
       "      <td>0.285245</td>\n",
       "      <td>0.309953</td>\n",
       "      <td>52.594718</td>\n",
       "    </tr>\n",
       "    <tr>\n",
       "      <th>min</th>\n",
       "      <td>7.500000</td>\n",
       "      <td>544.000000</td>\n",
       "      <td>225.960000</td>\n",
       "      <td>89.000000</td>\n",
       "      <td>14.000000</td>\n",
       "      <td>33.000000</td>\n",
       "      <td>1.000000</td>\n",
       "      <td>1.000000</td>\n",
       "      <td>0.000000</td>\n",
       "      <td>0.000000</td>\n",
       "      <td>0.000000</td>\n",
       "      <td>0.000000</td>\n",
       "      <td>0.000000</td>\n",
       "      <td>0.000000</td>\n",
       "      <td>0.000000</td>\n",
       "      <td>0.000000</td>\n",
       "    </tr>\n",
       "    <tr>\n",
       "      <th>25%</th>\n",
       "      <td>95.000000</td>\n",
       "      <td>6761.000000</td>\n",
       "      <td>1251.200000</td>\n",
       "      <td>1457.000000</td>\n",
       "      <td>500.000000</td>\n",
       "      <td>847.000000</td>\n",
       "      <td>2.000000</td>\n",
       "      <td>2.000000</td>\n",
       "      <td>2.000000</td>\n",
       "      <td>0.000000</td>\n",
       "      <td>0.000000</td>\n",
       "      <td>0.000000</td>\n",
       "      <td>0.000000</td>\n",
       "      <td>0.000000</td>\n",
       "      <td>0.000000</td>\n",
       "      <td>37.000000</td>\n",
       "    </tr>\n",
       "    <tr>\n",
       "      <th>50%</th>\n",
       "      <td>150.000000</td>\n",
       "      <td>8883.000000</td>\n",
       "      <td>1732.360000</td>\n",
       "      <td>1828.000000</td>\n",
       "      <td>1350.000000</td>\n",
       "      <td>1300.000000</td>\n",
       "      <td>3.000000</td>\n",
       "      <td>3.000000</td>\n",
       "      <td>5.000000</td>\n",
       "      <td>0.000000</td>\n",
       "      <td>0.000000</td>\n",
       "      <td>0.000000</td>\n",
       "      <td>0.000000</td>\n",
       "      <td>0.000000</td>\n",
       "      <td>0.000000</td>\n",
       "      <td>61.000000</td>\n",
       "    </tr>\n",
       "    <tr>\n",
       "      <th>75%</th>\n",
       "      <td>260.000000</td>\n",
       "      <td>13178.000000</td>\n",
       "      <td>2290.080000</td>\n",
       "      <td>2215.000000</td>\n",
       "      <td>1900.000000</td>\n",
       "      <td>1770.000000</td>\n",
       "      <td>4.000000</td>\n",
       "      <td>4.000000</td>\n",
       "      <td>10.000000</td>\n",
       "      <td>2.000000</td>\n",
       "      <td>1.000000</td>\n",
       "      <td>0.000000</td>\n",
       "      <td>0.000000</td>\n",
       "      <td>0.000000</td>\n",
       "      <td>0.000000</td>\n",
       "      <td>111.000000</td>\n",
       "    </tr>\n",
       "    <tr>\n",
       "      <th>max</th>\n",
       "      <td>3150.000000</td>\n",
       "      <td>50000.000000</td>\n",
       "      <td>11287.240000</td>\n",
       "      <td>10000.000000</td>\n",
       "      <td>9500.000000</td>\n",
       "      <td>11000.000000</td>\n",
       "      <td>9.000000</td>\n",
       "      <td>12.000000</td>\n",
       "      <td>51.000000</td>\n",
       "      <td>2.000000</td>\n",
       "      <td>1.000000</td>\n",
       "      <td>1.000000</td>\n",
       "      <td>1.000000</td>\n",
       "      <td>1.000000</td>\n",
       "      <td>1.000000</td>\n",
       "      <td>174.000000</td>\n",
       "    </tr>\n",
       "  </tbody>\n",
       "</table>\n",
       "</div>"
      ],
      "text/plain": [
       "       price_in_lacs  price_per_sqft_inrs          area  super_builtup  \\\n",
       "count    3605.000000          3605.000000   3605.000000    1912.000000   \n",
       "mean      238.834638         11266.326491   1904.554644    1922.111402   \n",
       "std       272.867205          7107.303257   1143.820518     767.354966   \n",
       "min         7.500000           544.000000    225.960000      89.000000   \n",
       "25%        95.000000          6761.000000   1251.200000    1457.000000   \n",
       "50%       150.000000          8883.000000   1732.360000    1828.000000   \n",
       "75%       260.000000         13178.000000   2290.080000    2215.000000   \n",
       "max      3150.000000         50000.000000  11287.240000   10000.000000   \n",
       "\n",
       "           builtup   carpet_area      bedRoom     bathroom     floorNum  \\\n",
       "count  1561.000000   1891.000000  3605.000000  3605.000000  3588.000000   \n",
       "mean   1461.925689   1420.451613     3.030236     3.214147     7.010870   \n",
       "std    1236.767880    945.964780     1.135359     1.375289     6.106037   \n",
       "min      14.000000     33.000000     1.000000     1.000000     0.000000   \n",
       "25%     500.000000    847.000000     2.000000     2.000000     2.000000   \n",
       "50%    1350.000000   1300.000000     3.000000     3.000000     5.000000   \n",
       "75%    1900.000000   1770.000000     4.000000     4.000000    10.000000   \n",
       "max    9500.000000  11000.000000     9.000000    12.000000    51.000000   \n",
       "\n",
       "       furnish_type  servant_room   study room   pooja room   store_room  \\\n",
       "count   3470.000000   3605.000000  3605.000000  3605.000000  3605.000000   \n",
       "mean       0.637176      0.356172     0.185298     0.168100     0.089320   \n",
       "std        0.898768      0.478933     0.388593     0.374007     0.285245   \n",
       "min        0.000000      0.000000     0.000000     0.000000     0.000000   \n",
       "25%        0.000000      0.000000     0.000000     0.000000     0.000000   \n",
       "50%        0.000000      0.000000     0.000000     0.000000     0.000000   \n",
       "75%        2.000000      1.000000     0.000000     0.000000     0.000000   \n",
       "max        2.000000      1.000000     1.000000     1.000000     1.000000   \n",
       "\n",
       "            others  luxury_score  \n",
       "count  3605.000000   3470.000000  \n",
       "mean      0.107628     73.681844  \n",
       "std       0.309953     52.594718  \n",
       "min       0.000000      0.000000  \n",
       "25%       0.000000     37.000000  \n",
       "50%       0.000000     61.000000  \n",
       "75%       0.000000    111.000000  \n",
       "max       1.000000    174.000000  "
      ]
     },
     "execution_count": 16,
     "metadata": {},
     "output_type": "execute_result"
    }
   ],
   "source": [
    "df.describe()"
   ]
  },
  {
   "cell_type": "code",
   "execution_count": 17,
   "id": "318487d5-6992-44eb-9281-a1913b7d60cc",
   "metadata": {},
   "outputs": [
    {
     "data": {
      "text/plain": [
       "property_type             0\n",
       "society                   1\n",
       "sector                    0\n",
       "price_in_lacs             0\n",
       "price_per_sqft_inrs       0\n",
       "area                      0\n",
       "areaWithType              0\n",
       "super_builtup          1693\n",
       "builtup                2044\n",
       "carpet_area            1714\n",
       "bedRoom                   0\n",
       "bathroom                  0\n",
       "balcony                   0\n",
       "floorNum                 17\n",
       "facing                 1040\n",
       "agePossession             0\n",
       "furnish_type            135\n",
       "servant_room              0\n",
       "study room                0\n",
       "pooja room                0\n",
       "store_room                0\n",
       "others                    0\n",
       "luxury_score            135\n",
       "dtype: int64"
      ]
     },
     "execution_count": 17,
     "metadata": {},
     "output_type": "execute_result"
    }
   ],
   "source": [
    "df.isnull().sum()"
   ]
  },
  {
   "cell_type": "markdown",
   "id": "d4059f4b-f7db-44df-93b2-b9fa9faad83d",
   "metadata": {},
   "source": [
    "# builtup"
   ]
  },
  {
   "cell_type": "code",
   "execution_count": 18,
   "id": "dde112cf-e48b-4199-9d8c-c79b0f770bd6",
   "metadata": {},
   "outputs": [
    {
     "data": {
      "image/png": "[encoded data removed]",
      "text/plain": [
       "<Figure size 1800x500 with 3 Axes>"
      ]
     },
     "metadata": {},
     "output_type": "display_data"
    }
   ],
   "source": [
    "plt.figure(figsize=(18,5))\n",
    "plt.subplot(1,3,1)\n",
    "sns.scatterplot(x='builtup',y='price_in_lacs',data=df)\n",
    "plt.subplot(1,3,2)\n",
    "sns.scatterplot(x='builtup',y='carpet_area',data=df)\n",
    "plt.subplot(1,3,3)\n",
    "sns.scatterplot(x='builtup',y='super_builtup',data=df)\n",
    "plt.show()"
   ]
  },
  {
   "cell_type": "code",
   "execution_count": 19,
   "id": "4bced369-ba7e-4b14-9a32-6febf6ce892b",
   "metadata": {},
   "outputs": [
    {
     "data": {
      "text/plain": [
       "0"
      ]
     },
     "execution_count": 19,
     "metadata": {},
     "output_type": "execute_result"
    }
   ],
   "source": [
    "((df['builtup'].isnull())&(df['carpet_area'].isnull())&(df['super_builtup'].isnull())).isnull().sum()"
   ]
  },
  {
   "cell_type": "code",
   "execution_count": 20,
   "id": "6ca9991d-4322-4cd0-a057-4b3e4f12fae3",
   "metadata": {},
   "outputs": [
    {
     "data": {
      "text/html": [
       "<div>\n",
       "<style scoped>\n",
       "    .dataframe tbody tr th:only-of-type {\n",
       "        vertical-align: middle;\n",
       "    }\n",
       "\n",
       "    .dataframe tbody tr th {\n",
       "        vertical-align: top;\n",
       "    }\n",
       "\n",
       "    .dataframe thead th {\n",
       "        text-align: right;\n",
       "    }\n",
       "</style>\n",
       "<table border=\"1\" class=\"dataframe\">\n",
       "  <thead>\n",
       "    <tr style=\"text-align: right;\">\n",
       "      <th></th>\n",
       "      <th>property_type</th>\n",
       "      <th>society</th>\n",
       "      <th>sector</th>\n",
       "      <th>price_in_lacs</th>\n",
       "      <th>price_per_sqft_inrs</th>\n",
       "      <th>area</th>\n",
       "      <th>areaWithType</th>\n",
       "      <th>super_builtup</th>\n",
       "      <th>builtup</th>\n",
       "      <th>carpet_area</th>\n",
       "      <th>...</th>\n",
       "      <th>floorNum</th>\n",
       "      <th>facing</th>\n",
       "      <th>agePossession</th>\n",
       "      <th>furnish_type</th>\n",
       "      <th>servant_room</th>\n",
       "      <th>study room</th>\n",
       "      <th>pooja room</th>\n",
       "      <th>store_room</th>\n",
       "      <th>others</th>\n",
       "      <th>luxury_score</th>\n",
       "    </tr>\n",
       "  </thead>\n",
       "  <tbody>\n",
       "    <tr>\n",
       "      <th>1301</th>\n",
       "      <td>flat</td>\n",
       "      <td>dlf the skycourt</td>\n",
       "      <td>sector 86</td>\n",
       "      <td>158.0</td>\n",
       "      <td>8190.0</td>\n",
       "      <td>1929.18</td>\n",
       "      <td>Super Built up area 1929(179.21 sq.m.)Built Up...</td>\n",
       "      <td>1929.0</td>\n",
       "      <td>1750.0</td>\n",
       "      <td>1450.0</td>\n",
       "      <td>...</td>\n",
       "      <td>16.0</td>\n",
       "      <td>North</td>\n",
       "      <td>Relatively New</td>\n",
       "      <td>0.0</td>\n",
       "      <td>0</td>\n",
       "      <td>0</td>\n",
       "      <td>1</td>\n",
       "      <td>0</td>\n",
       "      <td>0</td>\n",
       "      <td>92.0</td>\n",
       "    </tr>\n",
       "    <tr>\n",
       "      <th>1754</th>\n",
       "      <td>flat</td>\n",
       "      <td>antriksh heights</td>\n",
       "      <td>sector 84</td>\n",
       "      <td>90.0</td>\n",
       "      <td>6206.0</td>\n",
       "      <td>1450.21</td>\n",
       "      <td>Super Built up area 1725(160.26 sq.m.)Built Up...</td>\n",
       "      <td>1725.0</td>\n",
       "      <td>1525.0</td>\n",
       "      <td>1450.0</td>\n",
       "      <td>...</td>\n",
       "      <td>12.0</td>\n",
       "      <td>North-East</td>\n",
       "      <td>Relatively New</td>\n",
       "      <td>0.0</td>\n",
       "      <td>0</td>\n",
       "      <td>0</td>\n",
       "      <td>0</td>\n",
       "      <td>0</td>\n",
       "      <td>0</td>\n",
       "      <td>50.0</td>\n",
       "    </tr>\n",
       "    <tr>\n",
       "      <th>1161</th>\n",
       "      <td>flat</td>\n",
       "      <td>m3m merlin</td>\n",
       "      <td>sector 67</td>\n",
       "      <td>265.0</td>\n",
       "      <td>12945.0</td>\n",
       "      <td>2047.12</td>\n",
       "      <td>Super Built up area 2047(190.17 sq.m.)Built Up...</td>\n",
       "      <td>2047.0</td>\n",
       "      <td>1900.0</td>\n",
       "      <td>1700.0</td>\n",
       "      <td>...</td>\n",
       "      <td>0.0</td>\n",
       "      <td>North-East</td>\n",
       "      <td>Relatively New</td>\n",
       "      <td>2.0</td>\n",
       "      <td>0</td>\n",
       "      <td>0</td>\n",
       "      <td>0</td>\n",
       "      <td>0</td>\n",
       "      <td>1</td>\n",
       "      <td>146.0</td>\n",
       "    </tr>\n",
       "    <tr>\n",
       "      <th>1212</th>\n",
       "      <td>flat</td>\n",
       "      <td>shri banke bihari society</td>\n",
       "      <td>sector 56</td>\n",
       "      <td>135.0</td>\n",
       "      <td>6750.0</td>\n",
       "      <td>2000.00</td>\n",
       "      <td>Super Built up area 2000(185.81 sq.m.)Built Up...</td>\n",
       "      <td>2000.0</td>\n",
       "      <td>1800.0</td>\n",
       "      <td>1600.0</td>\n",
       "      <td>...</td>\n",
       "      <td>5.0</td>\n",
       "      <td>East</td>\n",
       "      <td>Old Property</td>\n",
       "      <td>0.0</td>\n",
       "      <td>0</td>\n",
       "      <td>0</td>\n",
       "      <td>0</td>\n",
       "      <td>0</td>\n",
       "      <td>1</td>\n",
       "      <td>49.0</td>\n",
       "    </tr>\n",
       "    <tr>\n",
       "      <th>950</th>\n",
       "      <td>flat</td>\n",
       "      <td>paras dews</td>\n",
       "      <td>sector 106</td>\n",
       "      <td>134.0</td>\n",
       "      <td>9550.0</td>\n",
       "      <td>1403.14</td>\n",
       "      <td>Super Built up area 2355(218.79 sq.m.)Built Up...</td>\n",
       "      <td>2355.0</td>\n",
       "      <td>1535.0</td>\n",
       "      <td>1403.0</td>\n",
       "      <td>...</td>\n",
       "      <td>7.0</td>\n",
       "      <td>South-East</td>\n",
       "      <td>Relatively New</td>\n",
       "      <td>0.0</td>\n",
       "      <td>1</td>\n",
       "      <td>0</td>\n",
       "      <td>0</td>\n",
       "      <td>0</td>\n",
       "      <td>0</td>\n",
       "      <td>107.0</td>\n",
       "    </tr>\n",
       "  </tbody>\n",
       "</table>\n",
       "<p>5 rows × 23 columns</p>\n",
       "</div>"
      ],
      "text/plain": [
       "     property_type                    society       sector  price_in_lacs  \\\n",
       "1301          flat           dlf the skycourt   sector 86           158.0   \n",
       "1754          flat           antriksh heights   sector 84            90.0   \n",
       "1161          flat                 m3m merlin   sector 67           265.0   \n",
       "1212          flat  shri banke bihari society   sector 56           135.0   \n",
       "950           flat                 paras dews  sector 106           134.0   \n",
       "\n",
       "      price_per_sqft_inrs     area  \\\n",
       "1301               8190.0  1929.18   \n",
       "1754               6206.0  1450.21   \n",
       "1161              12945.0  2047.12   \n",
       "1212               6750.0  2000.00   \n",
       "950                9550.0  1403.14   \n",
       "\n",
       "                                           areaWithType  super_builtup  \\\n",
       "1301  Super Built up area 1929(179.21 sq.m.)Built Up...         1929.0   \n",
       "1754  Super Built up area 1725(160.26 sq.m.)Built Up...         1725.0   \n",
       "1161  Super Built up area 2047(190.17 sq.m.)Built Up...         2047.0   \n",
       "1212  Super Built up area 2000(185.81 sq.m.)Built Up...         2000.0   \n",
       "950   Super Built up area 2355(218.79 sq.m.)Built Up...         2355.0   \n",
       "\n",
       "      builtup  carpet_area  ...  floorNum      facing   agePossession  \\\n",
       "1301   1750.0       1450.0  ...      16.0       North  Relatively New   \n",
       "1754   1525.0       1450.0  ...      12.0  North-East  Relatively New   \n",
       "1161   1900.0       1700.0  ...       0.0  North-East  Relatively New   \n",
       "1212   1800.0       1600.0  ...       5.0        East    Old Property   \n",
       "950    1535.0       1403.0  ...       7.0  South-East  Relatively New   \n",
       "\n",
       "      furnish_type servant_room study room  pooja room  store_room  others  \\\n",
       "1301           0.0            0          0           1           0       0   \n",
       "1754           0.0            0          0           0           0       0   \n",
       "1161           2.0            0          0           0           0       1   \n",
       "1212           0.0            0          0           0           0       1   \n",
       "950            0.0            1          0           0           0       0   \n",
       "\n",
       "      luxury_score  \n",
       "1301          92.0  \n",
       "1754          50.0  \n",
       "1161         146.0  \n",
       "1212          49.0  \n",
       "950          107.0  \n",
       "\n",
       "[5 rows x 23 columns]"
      ]
     },
     "execution_count": 20,
     "metadata": {},
     "output_type": "execute_result"
    }
   ],
   "source": [
    "df[((~df['builtup'].isnull())&(~df['carpet_area'].isnull())&(~df['super_builtup'].isnull()))].sample(5)"
   ]
  },
  {
   "cell_type": "code",
   "execution_count": 21,
   "id": "cb24eb56-5d3a-4705-8a40-df2a5f4d3f41",
   "metadata": {},
   "outputs": [],
   "source": [
    "all_present_df=df[(~df['builtup'].isnull())&(~df['carpet_area'].isnull())&(~df['super_builtup'].isnull())]"
   ]
  },
  {
   "cell_type": "code",
   "execution_count": 22,
   "id": "eb906aeb-5f04-4864-a44e-d18360efb89c",
   "metadata": {},
   "outputs": [
    {
     "data": {
      "text/plain": [
       "1.1048701298701298"
      ]
     },
     "execution_count": 22,
     "metadata": {},
     "output_type": "execute_result"
    }
   ],
   "source": [
    "s_to_b=(all_present_df['super_builtup']/all_present_df['builtup']).median()\n",
    "s_to_b"
   ]
  },
  {
   "cell_type": "code",
   "execution_count": 23,
   "id": "c727d6b9-bb30-41aa-b6fb-649ca2f57155",
   "metadata": {},
   "outputs": [
    {
     "data": {
      "text/plain": [
       "0.900140056022409"
      ]
     },
     "execution_count": 23,
     "metadata": {},
     "output_type": "execute_result"
    }
   ],
   "source": [
    "s_to_c=(all_present_df['carpet_area']/all_present_df['builtup']).median()\n",
    "s_to_c"
   ]
  },
  {
   "cell_type": "code",
   "execution_count": 24,
   "id": "c30c18f7-2b0a-40e8-b905-d4023740bee0",
   "metadata": {},
   "outputs": [
    {
     "data": {
      "text/html": [
       "<div>\n",
       "<style scoped>\n",
       "    .dataframe tbody tr th:only-of-type {\n",
       "        vertical-align: middle;\n",
       "    }\n",
       "\n",
       "    .dataframe tbody tr th {\n",
       "        vertical-align: top;\n",
       "    }\n",
       "\n",
       "    .dataframe thead th {\n",
       "        text-align: right;\n",
       "    }\n",
       "</style>\n",
       "<table border=\"1\" class=\"dataframe\">\n",
       "  <thead>\n",
       "    <tr style=\"text-align: right;\">\n",
       "      <th></th>\n",
       "      <th>property_type</th>\n",
       "      <th>society</th>\n",
       "      <th>sector</th>\n",
       "      <th>price_in_lacs</th>\n",
       "      <th>price_per_sqft_inrs</th>\n",
       "      <th>area</th>\n",
       "      <th>areaWithType</th>\n",
       "      <th>super_builtup</th>\n",
       "      <th>builtup</th>\n",
       "      <th>carpet_area</th>\n",
       "      <th>...</th>\n",
       "      <th>floorNum</th>\n",
       "      <th>facing</th>\n",
       "      <th>agePossession</th>\n",
       "      <th>furnish_type</th>\n",
       "      <th>servant_room</th>\n",
       "      <th>study room</th>\n",
       "      <th>pooja room</th>\n",
       "      <th>store_room</th>\n",
       "      <th>others</th>\n",
       "      <th>luxury_score</th>\n",
       "    </tr>\n",
       "  </thead>\n",
       "  <tbody>\n",
       "    <tr>\n",
       "      <th>104</th>\n",
       "      <td>flat</td>\n",
       "      <td>pareena laxmi apartments</td>\n",
       "      <td>sector 99a</td>\n",
       "      <td>32.0</td>\n",
       "      <td>6106.0</td>\n",
       "      <td>524.07</td>\n",
       "      <td>Super Built up area 524(48.68 sq.m.)Carpet are...</td>\n",
       "      <td>524.0</td>\n",
       "      <td>NaN</td>\n",
       "      <td>424.0</td>\n",
       "      <td>...</td>\n",
       "      <td>2.0</td>\n",
       "      <td>NaN</td>\n",
       "      <td>New Property</td>\n",
       "      <td>0.0</td>\n",
       "      <td>0</td>\n",
       "      <td>0</td>\n",
       "      <td>0</td>\n",
       "      <td>0</td>\n",
       "      <td>0</td>\n",
       "      <td>127.0</td>\n",
       "    </tr>\n",
       "    <tr>\n",
       "      <th>2220</th>\n",
       "      <td>flat</td>\n",
       "      <td>eldeco accolade</td>\n",
       "      <td>sohna road</td>\n",
       "      <td>85.0</td>\n",
       "      <td>6724.0</td>\n",
       "      <td>1264.13</td>\n",
       "      <td>Super Built up area 1264(117.43 sq.m.)Carpet a...</td>\n",
       "      <td>1264.0</td>\n",
       "      <td>NaN</td>\n",
       "      <td>730.0</td>\n",
       "      <td>...</td>\n",
       "      <td>10.0</td>\n",
       "      <td>NaN</td>\n",
       "      <td>New Property</td>\n",
       "      <td>1.0</td>\n",
       "      <td>0</td>\n",
       "      <td>0</td>\n",
       "      <td>0</td>\n",
       "      <td>0</td>\n",
       "      <td>0</td>\n",
       "      <td>151.0</td>\n",
       "    </tr>\n",
       "  </tbody>\n",
       "</table>\n",
       "<p>2 rows × 23 columns</p>\n",
       "</div>"
      ],
      "text/plain": [
       "     property_type                   society       sector  price_in_lacs  \\\n",
       "104           flat  pareena laxmi apartments  sector 99a            32.0   \n",
       "2220          flat           eldeco accolade   sohna road           85.0   \n",
       "\n",
       "      price_per_sqft_inrs     area  \\\n",
       "104                6106.0   524.07   \n",
       "2220               6724.0  1264.13   \n",
       "\n",
       "                                           areaWithType  super_builtup  \\\n",
       "104   Super Built up area 524(48.68 sq.m.)Carpet are...          524.0   \n",
       "2220  Super Built up area 1264(117.43 sq.m.)Carpet a...         1264.0   \n",
       "\n",
       "      builtup  carpet_area  ...  floorNum  facing agePossession  furnish_type  \\\n",
       "104       NaN        424.0  ...       2.0     NaN  New Property           0.0   \n",
       "2220      NaN        730.0  ...      10.0     NaN  New Property           1.0   \n",
       "\n",
       "     servant_room study room  pooja room  store_room  others  luxury_score  \n",
       "104             0          0           0           0       0         127.0  \n",
       "2220            0          0           0           0       0         151.0  \n",
       "\n",
       "[2 rows x 23 columns]"
      ]
     },
     "execution_count": 24,
     "metadata": {},
     "output_type": "execute_result"
    }
   ],
   "source": [
    "only_b=df[(df['builtup'].isnull())&(~df['carpet_area'].isnull())&(~df['super_builtup'].isnull())]\n",
    "only_b.sample(2)"
   ]
  },
  {
   "cell_type": "code",
   "execution_count": 25,
   "id": "0b92186d-3c8c-4dd8-bcbf-cde4d3ba06b0",
   "metadata": {},
   "outputs": [
    {
     "name": "stderr",
     "output_type": "stream",
     "text": [
      "C:\\Users\\abc\\AppData\\Local\\Temp\\ipykernel_7600\\3028985971.py:1: FutureWarning: A value is trying to be set on a copy of a DataFrame or Series through chained assignment using an inplace method.\n",
      "The behavior will change in pandas 3.0. This inplace method will never work because the intermediate object on which we are setting values always behaves as a copy.\n",
      "\n",
      "For example, when doing 'df[col].method(value, inplace=True)', try using 'df.method({col: value}, inplace=True)' or df[col] = df[col].method(value) instead, to perform the operation inplace on the original object.\n",
      "\n",
      "\n",
      "  only_b['builtup'].fillna(round(((only_b['carpet_area']/s_to_c)+(only_b['super_builtup']/s_to_b))/2),inplace=True)\n",
      "C:\\Users\\abc\\AppData\\Local\\Temp\\ipykernel_7600\\3028985971.py:1: SettingWithCopyWarning: \n",
      "A value is trying to be set on a copy of a slice from a DataFrame\n",
      "\n",
      "See the caveats in the documentation: https://pandas.pydata.org/pandas-docs/stable/user_guide/indexing.html#returning-a-view-versus-a-copy\n",
      "  only_b['builtup'].fillna(round(((only_b['carpet_area']/s_to_c)+(only_b['super_builtup']/s_to_b))/2),inplace=True)\n"
     ]
    },
    {
     "data": {
      "text/html": [
       "<div>\n",
       "<style scoped>\n",
       "    .dataframe tbody tr th:only-of-type {\n",
       "        vertical-align: middle;\n",
       "    }\n",
       "\n",
       "    .dataframe tbody tr th {\n",
       "        vertical-align: top;\n",
       "    }\n",
       "\n",
       "    .dataframe thead th {\n",
       "        text-align: right;\n",
       "    }\n",
       "</style>\n",
       "<table border=\"1\" class=\"dataframe\">\n",
       "  <thead>\n",
       "    <tr style=\"text-align: right;\">\n",
       "      <th></th>\n",
       "      <th>property_type</th>\n",
       "      <th>society</th>\n",
       "      <th>sector</th>\n",
       "      <th>price_in_lacs</th>\n",
       "      <th>price_per_sqft_inrs</th>\n",
       "      <th>area</th>\n",
       "      <th>areaWithType</th>\n",
       "      <th>super_builtup</th>\n",
       "      <th>builtup</th>\n",
       "      <th>carpet_area</th>\n",
       "      <th>...</th>\n",
       "      <th>floorNum</th>\n",
       "      <th>facing</th>\n",
       "      <th>agePossession</th>\n",
       "      <th>furnish_type</th>\n",
       "      <th>servant_room</th>\n",
       "      <th>study room</th>\n",
       "      <th>pooja room</th>\n",
       "      <th>store_room</th>\n",
       "      <th>others</th>\n",
       "      <th>luxury_score</th>\n",
       "    </tr>\n",
       "  </thead>\n",
       "  <tbody>\n",
       "    <tr>\n",
       "      <th>2785</th>\n",
       "      <td>flat</td>\n",
       "      <td>godrej habitat</td>\n",
       "      <td>sector 3</td>\n",
       "      <td>125.0</td>\n",
       "      <td>8656.0</td>\n",
       "      <td>1444.09</td>\n",
       "      <td>Super Built up area 1444(134.15 sq.m.)Carpet a...</td>\n",
       "      <td>1444.0</td>\n",
       "      <td>1161.0</td>\n",
       "      <td>913.0</td>\n",
       "      <td>...</td>\n",
       "      <td>14.0</td>\n",
       "      <td>NaN</td>\n",
       "      <td>Under Construction</td>\n",
       "      <td>0.0</td>\n",
       "      <td>0</td>\n",
       "      <td>0</td>\n",
       "      <td>0</td>\n",
       "      <td>0</td>\n",
       "      <td>0</td>\n",
       "      <td>72.0</td>\n",
       "    </tr>\n",
       "    <tr>\n",
       "      <th>462</th>\n",
       "      <td>flat</td>\n",
       "      <td>m3m merlin</td>\n",
       "      <td>sector 67</td>\n",
       "      <td>340.0</td>\n",
       "      <td>14418.0</td>\n",
       "      <td>2358.16</td>\n",
       "      <td>Super Built up area 2358(219.07 sq.m.)Carpet a...</td>\n",
       "      <td>2358.0</td>\n",
       "      <td>2016.0</td>\n",
       "      <td>1708.0</td>\n",
       "      <td>...</td>\n",
       "      <td>16.0</td>\n",
       "      <td>North-West</td>\n",
       "      <td>Relatively New</td>\n",
       "      <td>0.0</td>\n",
       "      <td>1</td>\n",
       "      <td>0</td>\n",
       "      <td>0</td>\n",
       "      <td>0</td>\n",
       "      <td>0</td>\n",
       "      <td>31.0</td>\n",
       "    </tr>\n",
       "  </tbody>\n",
       "</table>\n",
       "<p>2 rows × 23 columns</p>\n",
       "</div>"
      ],
      "text/plain": [
       "     property_type         society      sector  price_in_lacs  \\\n",
       "2785          flat  godrej habitat   sector 3           125.0   \n",
       "462           flat      m3m merlin  sector 67           340.0   \n",
       "\n",
       "      price_per_sqft_inrs     area  \\\n",
       "2785               8656.0  1444.09   \n",
       "462               14418.0  2358.16   \n",
       "\n",
       "                                           areaWithType  super_builtup  \\\n",
       "2785  Super Built up area 1444(134.15 sq.m.)Carpet a...         1444.0   \n",
       "462   Super Built up area 2358(219.07 sq.m.)Carpet a...         2358.0   \n",
       "\n",
       "      builtup  carpet_area  ...  floorNum      facing       agePossession  \\\n",
       "2785   1161.0        913.0  ...      14.0         NaN  Under Construction   \n",
       "462    2016.0       1708.0  ...      16.0  North-West      Relatively New   \n",
       "\n",
       "      furnish_type servant_room study room  pooja room  store_room  others  \\\n",
       "2785           0.0            0          0           0           0       0   \n",
       "462            0.0            1          0           0           0       0   \n",
       "\n",
       "      luxury_score  \n",
       "2785          72.0  \n",
       "462           31.0  \n",
       "\n",
       "[2 rows x 23 columns]"
      ]
     },
     "execution_count": 25,
     "metadata": {},
     "output_type": "execute_result"
    }
   ],
   "source": [
    "only_b['builtup'].fillna(round(((only_b['carpet_area']/s_to_c)+(only_b['super_builtup']/s_to_b))/2),inplace=True)\n",
    "only_b.sample(2)"
   ]
  },
  {
   "cell_type": "code",
   "execution_count": 26,
   "id": "c05b2e19-5b6d-44f5-b472-f62dc11b2d86",
   "metadata": {},
   "outputs": [],
   "source": [
    "df.update(only_b)"
   ]
  },
  {
   "cell_type": "code",
   "execution_count": 27,
   "id": "a0f5221f-5dba-444b-b511-4e5d5675a094",
   "metadata": {},
   "outputs": [
    {
     "data": {
      "text/plain": [
       "property_type             0\n",
       "society                   1\n",
       "sector                    0\n",
       "price_in_lacs             0\n",
       "price_per_sqft_inrs       0\n",
       "area                      0\n",
       "areaWithType              0\n",
       "super_builtup          1693\n",
       "builtup                1616\n",
       "carpet_area            1714\n",
       "bedRoom                   0\n",
       "bathroom                  0\n",
       "balcony                   0\n",
       "floorNum                 17\n",
       "facing                 1040\n",
       "agePossession             0\n",
       "furnish_type            135\n",
       "servant_room              0\n",
       "study room                0\n",
       "pooja room                0\n",
       "store_room                0\n",
       "others                    0\n",
       "luxury_score            135\n",
       "dtype: int64"
      ]
     },
     "execution_count": 27,
     "metadata": {},
     "output_type": "execute_result"
    }
   ],
   "source": [
    "df.isnull().sum()"
   ]
  },
  {
   "cell_type": "code",
   "execution_count": 28,
   "id": "ede566a2-1942-4398-8b26-a0aec19939f5",
   "metadata": {},
   "outputs": [
    {
     "data": {
      "text/html": [
       "<div>\n",
       "<style scoped>\n",
       "    .dataframe tbody tr th:only-of-type {\n",
       "        vertical-align: middle;\n",
       "    }\n",
       "\n",
       "    .dataframe tbody tr th {\n",
       "        vertical-align: top;\n",
       "    }\n",
       "\n",
       "    .dataframe thead th {\n",
       "        text-align: right;\n",
       "    }\n",
       "</style>\n",
       "<table border=\"1\" class=\"dataframe\">\n",
       "  <thead>\n",
       "    <tr style=\"text-align: right;\">\n",
       "      <th></th>\n",
       "      <th>property_type</th>\n",
       "      <th>society</th>\n",
       "      <th>sector</th>\n",
       "      <th>price_in_lacs</th>\n",
       "      <th>price_per_sqft_inrs</th>\n",
       "      <th>area</th>\n",
       "      <th>areaWithType</th>\n",
       "      <th>super_builtup</th>\n",
       "      <th>builtup</th>\n",
       "      <th>carpet_area</th>\n",
       "      <th>...</th>\n",
       "      <th>floorNum</th>\n",
       "      <th>facing</th>\n",
       "      <th>agePossession</th>\n",
       "      <th>furnish_type</th>\n",
       "      <th>servant_room</th>\n",
       "      <th>study room</th>\n",
       "      <th>pooja room</th>\n",
       "      <th>store_room</th>\n",
       "      <th>others</th>\n",
       "      <th>luxury_score</th>\n",
       "    </tr>\n",
       "  </thead>\n",
       "  <tbody>\n",
       "    <tr>\n",
       "      <th>1710</th>\n",
       "      <td>flat</td>\n",
       "      <td>dlf new town heights</td>\n",
       "      <td>sector 86</td>\n",
       "      <td>154.0</td>\n",
       "      <td>5786.0</td>\n",
       "      <td>2661.60</td>\n",
       "      <td>Super Built up area 2364(219.62 sq.m.)</td>\n",
       "      <td>2364.0</td>\n",
       "      <td>NaN</td>\n",
       "      <td>NaN</td>\n",
       "      <td>...</td>\n",
       "      <td>21.0</td>\n",
       "      <td>North-West</td>\n",
       "      <td>Moderately Old</td>\n",
       "      <td>2.0</td>\n",
       "      <td>1</td>\n",
       "      <td>1</td>\n",
       "      <td>1</td>\n",
       "      <td>0</td>\n",
       "      <td>0</td>\n",
       "      <td>8.0</td>\n",
       "    </tr>\n",
       "    <tr>\n",
       "      <th>570</th>\n",
       "      <td>flat</td>\n",
       "      <td>krrish provence estate</td>\n",
       "      <td>gwal pahari</td>\n",
       "      <td>525.0</td>\n",
       "      <td>9051.0</td>\n",
       "      <td>5800.46</td>\n",
       "      <td>Super Built up area 5800(538.84 sq.m.)</td>\n",
       "      <td>5800.0</td>\n",
       "      <td>NaN</td>\n",
       "      <td>NaN</td>\n",
       "      <td>...</td>\n",
       "      <td>2.0</td>\n",
       "      <td>North-East</td>\n",
       "      <td>New Property</td>\n",
       "      <td>0.0</td>\n",
       "      <td>1</td>\n",
       "      <td>1</td>\n",
       "      <td>1</td>\n",
       "      <td>0</td>\n",
       "      <td>0</td>\n",
       "      <td>174.0</td>\n",
       "    </tr>\n",
       "  </tbody>\n",
       "</table>\n",
       "<p>2 rows × 23 columns</p>\n",
       "</div>"
      ],
      "text/plain": [
       "     property_type                 society       sector  price_in_lacs  \\\n",
       "1710          flat    dlf new town heights   sector 86           154.0   \n",
       "570           flat  krrish provence estate  gwal pahari          525.0   \n",
       "\n",
       "      price_per_sqft_inrs     area                            areaWithType  \\\n",
       "1710               5786.0  2661.60  Super Built up area 2364(219.62 sq.m.)   \n",
       "570                9051.0  5800.46  Super Built up area 5800(538.84 sq.m.)   \n",
       "\n",
       "      super_builtup  builtup  carpet_area  ...  floorNum      facing  \\\n",
       "1710         2364.0      NaN          NaN  ...      21.0  North-West   \n",
       "570          5800.0      NaN          NaN  ...       2.0  North-East   \n",
       "\n",
       "       agePossession  furnish_type servant_room study room  pooja room  \\\n",
       "1710  Moderately Old           2.0            1          1           1   \n",
       "570     New Property           0.0            1          1           1   \n",
       "\n",
       "      store_room  others  luxury_score  \n",
       "1710           0       0           8.0  \n",
       "570            0       0         174.0  \n",
       "\n",
       "[2 rows x 23 columns]"
      ]
     },
     "execution_count": 28,
     "metadata": {},
     "output_type": "execute_result"
    }
   ],
   "source": [
    "b_and_c=df[(df['builtup'].isnull())&(df['carpet_area'].isnull())&(~df['super_builtup'].isnull())]\n",
    "b_and_c.sample(2)"
   ]
  },
  {
   "cell_type": "code",
   "execution_count": 29,
   "id": "978d62e4-39bd-418e-a1f1-52117a17950b",
   "metadata": {},
   "outputs": [
    {
     "name": "stderr",
     "output_type": "stream",
     "text": [
      "C:\\Users\\abc\\AppData\\Local\\Temp\\ipykernel_7600\\3715797606.py:1: FutureWarning: A value is trying to be set on a copy of a DataFrame or Series through chained assignment using an inplace method.\n",
      "The behavior will change in pandas 3.0. This inplace method will never work because the intermediate object on which we are setting values always behaves as a copy.\n",
      "\n",
      "For example, when doing 'df[col].method(value, inplace=True)', try using 'df.method({col: value}, inplace=True)' or df[col] = df[col].method(value) instead, to perform the operation inplace on the original object.\n",
      "\n",
      "\n",
      "  b_and_c['builtup'].fillna(round(b_and_c['super_builtup']/s_to_b),inplace=True)\n",
      "C:\\Users\\abc\\AppData\\Local\\Temp\\ipykernel_7600\\3715797606.py:1: SettingWithCopyWarning: \n",
      "A value is trying to be set on a copy of a slice from a DataFrame\n",
      "\n",
      "See the caveats in the documentation: https://pandas.pydata.org/pandas-docs/stable/user_guide/indexing.html#returning-a-view-versus-a-copy\n",
      "  b_and_c['builtup'].fillna(round(b_and_c['super_builtup']/s_to_b),inplace=True)\n"
     ]
    },
    {
     "data": {
      "text/html": [
       "<div>\n",
       "<style scoped>\n",
       "    .dataframe tbody tr th:only-of-type {\n",
       "        vertical-align: middle;\n",
       "    }\n",
       "\n",
       "    .dataframe tbody tr th {\n",
       "        vertical-align: top;\n",
       "    }\n",
       "\n",
       "    .dataframe thead th {\n",
       "        text-align: right;\n",
       "    }\n",
       "</style>\n",
       "<table border=\"1\" class=\"dataframe\">\n",
       "  <thead>\n",
       "    <tr style=\"text-align: right;\">\n",
       "      <th></th>\n",
       "      <th>property_type</th>\n",
       "      <th>society</th>\n",
       "      <th>sector</th>\n",
       "      <th>price_in_lacs</th>\n",
       "      <th>price_per_sqft_inrs</th>\n",
       "      <th>area</th>\n",
       "      <th>areaWithType</th>\n",
       "      <th>super_builtup</th>\n",
       "      <th>builtup</th>\n",
       "      <th>carpet_area</th>\n",
       "      <th>...</th>\n",
       "      <th>floorNum</th>\n",
       "      <th>facing</th>\n",
       "      <th>agePossession</th>\n",
       "      <th>furnish_type</th>\n",
       "      <th>servant_room</th>\n",
       "      <th>study room</th>\n",
       "      <th>pooja room</th>\n",
       "      <th>store_room</th>\n",
       "      <th>others</th>\n",
       "      <th>luxury_score</th>\n",
       "    </tr>\n",
       "  </thead>\n",
       "  <tbody>\n",
       "    <tr>\n",
       "      <th>1297</th>\n",
       "      <td>flat</td>\n",
       "      <td>shree vardhman victoria</td>\n",
       "      <td>sector 70</td>\n",
       "      <td>180.0</td>\n",
       "      <td>9230.0</td>\n",
       "      <td>1950.16</td>\n",
       "      <td>Super Built up area 1950(181.16 sq.m.)</td>\n",
       "      <td>1950.0</td>\n",
       "      <td>1765.0</td>\n",
       "      <td>NaN</td>\n",
       "      <td>...</td>\n",
       "      <td>10.0</td>\n",
       "      <td>North-East</td>\n",
       "      <td>New Property</td>\n",
       "      <td>0.0</td>\n",
       "      <td>0</td>\n",
       "      <td>0</td>\n",
       "      <td>0</td>\n",
       "      <td>0</td>\n",
       "      <td>1</td>\n",
       "      <td>100.0</td>\n",
       "    </tr>\n",
       "    <tr>\n",
       "      <th>1464</th>\n",
       "      <td>flat</td>\n",
       "      <td>godrej</td>\n",
       "      <td>sector 79</td>\n",
       "      <td>134.0</td>\n",
       "      <td>8524.0</td>\n",
       "      <td>1572.03</td>\n",
       "      <td>Super Built up area 1572(146.04 sq.m.)</td>\n",
       "      <td>1572.0</td>\n",
       "      <td>1423.0</td>\n",
       "      <td>NaN</td>\n",
       "      <td>...</td>\n",
       "      <td>7.0</td>\n",
       "      <td>East</td>\n",
       "      <td>Relatively New</td>\n",
       "      <td>2.0</td>\n",
       "      <td>0</td>\n",
       "      <td>0</td>\n",
       "      <td>0</td>\n",
       "      <td>0</td>\n",
       "      <td>0</td>\n",
       "      <td>105.0</td>\n",
       "    </tr>\n",
       "  </tbody>\n",
       "</table>\n",
       "<p>2 rows × 23 columns</p>\n",
       "</div>"
      ],
      "text/plain": [
       "     property_type                  society      sector  price_in_lacs  \\\n",
       "1297          flat  shree vardhman victoria  sector 70           180.0   \n",
       "1464          flat                   godrej  sector 79           134.0   \n",
       "\n",
       "      price_per_sqft_inrs     area                            areaWithType  \\\n",
       "1297               9230.0  1950.16  Super Built up area 1950(181.16 sq.m.)   \n",
       "1464               8524.0  1572.03  Super Built up area 1572(146.04 sq.m.)   \n",
       "\n",
       "      super_builtup  builtup  carpet_area  ...  floorNum      facing  \\\n",
       "1297         1950.0   1765.0          NaN  ...      10.0  North-East   \n",
       "1464         1572.0   1423.0          NaN  ...       7.0        East   \n",
       "\n",
       "       agePossession  furnish_type servant_room study room  pooja room  \\\n",
       "1297    New Property           0.0            0          0           0   \n",
       "1464  Relatively New           2.0            0          0           0   \n",
       "\n",
       "      store_room  others  luxury_score  \n",
       "1297           0       1         100.0  \n",
       "1464           0       0         105.0  \n",
       "\n",
       "[2 rows x 23 columns]"
      ]
     },
     "execution_count": 29,
     "metadata": {},
     "output_type": "execute_result"
    }
   ],
   "source": [
    "b_and_c['builtup'].fillna(round(b_and_c['super_builtup']/s_to_b),inplace=True)\n",
    "b_and_c.sample(2)"
   ]
  },
  {
   "cell_type": "code",
   "execution_count": 30,
   "id": "1d6acc92-c99b-438c-a3a1-5c177dc955a4",
   "metadata": {},
   "outputs": [],
   "source": [
    "df.update(b_and_c)"
   ]
  },
  {
   "cell_type": "code",
   "execution_count": 31,
   "id": "5084c715-ba84-4561-885f-3497aab29f06",
   "metadata": {},
   "outputs": [
    {
     "data": {
      "text/plain": [
       "property_type             0\n",
       "society                   1\n",
       "sector                    0\n",
       "price_in_lacs             0\n",
       "price_per_sqft_inrs       0\n",
       "area                      0\n",
       "areaWithType              0\n",
       "super_builtup          1693\n",
       "builtup                 716\n",
       "carpet_area            1714\n",
       "bedRoom                   0\n",
       "bathroom                  0\n",
       "balcony                   0\n",
       "floorNum                 17\n",
       "facing                 1040\n",
       "agePossession             0\n",
       "furnish_type            135\n",
       "servant_room              0\n",
       "study room                0\n",
       "pooja room                0\n",
       "store_room                0\n",
       "others                    0\n",
       "luxury_score            135\n",
       "dtype: int64"
      ]
     },
     "execution_count": 31,
     "metadata": {},
     "output_type": "execute_result"
    }
   ],
   "source": [
    "df.isnull().sum()"
   ]
  },
  {
   "cell_type": "code",
   "execution_count": 32,
   "id": "63cf58bb-80c9-4665-b3f2-2aa1d32abc08",
   "metadata": {},
   "outputs": [
    {
     "data": {
      "text/html": [
       "<div>\n",
       "<style scoped>\n",
       "    .dataframe tbody tr th:only-of-type {\n",
       "        vertical-align: middle;\n",
       "    }\n",
       "\n",
       "    .dataframe tbody tr th {\n",
       "        vertical-align: top;\n",
       "    }\n",
       "\n",
       "    .dataframe thead th {\n",
       "        text-align: right;\n",
       "    }\n",
       "</style>\n",
       "<table border=\"1\" class=\"dataframe\">\n",
       "  <thead>\n",
       "    <tr style=\"text-align: right;\">\n",
       "      <th></th>\n",
       "      <th>property_type</th>\n",
       "      <th>society</th>\n",
       "      <th>sector</th>\n",
       "      <th>price_in_lacs</th>\n",
       "      <th>price_per_sqft_inrs</th>\n",
       "      <th>area</th>\n",
       "      <th>areaWithType</th>\n",
       "      <th>super_builtup</th>\n",
       "      <th>builtup</th>\n",
       "      <th>carpet_area</th>\n",
       "      <th>...</th>\n",
       "      <th>floorNum</th>\n",
       "      <th>facing</th>\n",
       "      <th>agePossession</th>\n",
       "      <th>furnish_type</th>\n",
       "      <th>servant_room</th>\n",
       "      <th>study room</th>\n",
       "      <th>pooja room</th>\n",
       "      <th>store_room</th>\n",
       "      <th>others</th>\n",
       "      <th>luxury_score</th>\n",
       "    </tr>\n",
       "  </thead>\n",
       "  <tbody>\n",
       "    <tr>\n",
       "      <th>2695</th>\n",
       "      <td>flat</td>\n",
       "      <td>oriental valley chs</td>\n",
       "      <td>sector 9a</td>\n",
       "      <td>150.0</td>\n",
       "      <td>9090.0</td>\n",
       "      <td>1650.17</td>\n",
       "      <td>Carpet area: 1650 (153.29 sq.m.)</td>\n",
       "      <td>NaN</td>\n",
       "      <td>NaN</td>\n",
       "      <td>1650.0</td>\n",
       "      <td>...</td>\n",
       "      <td>8.0</td>\n",
       "      <td>NaN</td>\n",
       "      <td>Relatively New</td>\n",
       "      <td>0.0</td>\n",
       "      <td>0</td>\n",
       "      <td>0</td>\n",
       "      <td>0</td>\n",
       "      <td>0</td>\n",
       "      <td>0</td>\n",
       "      <td>95.0</td>\n",
       "    </tr>\n",
       "  </tbody>\n",
       "</table>\n",
       "<p>1 rows × 23 columns</p>\n",
       "</div>"
      ],
      "text/plain": [
       "     property_type              society      sector  price_in_lacs  \\\n",
       "2695          flat  oriental valley chs  sector 9a           150.0   \n",
       "\n",
       "      price_per_sqft_inrs     area                      areaWithType  \\\n",
       "2695               9090.0  1650.17  Carpet area: 1650 (153.29 sq.m.)   \n",
       "\n",
       "      super_builtup  builtup  carpet_area  ...  floorNum  facing  \\\n",
       "2695            NaN      NaN       1650.0  ...       8.0     NaN   \n",
       "\n",
       "       agePossession  furnish_type servant_room study room  pooja room  \\\n",
       "2695  Relatively New           0.0            0          0           0   \n",
       "\n",
       "      store_room  others  luxury_score  \n",
       "2695           0       0          95.0  \n",
       "\n",
       "[1 rows x 23 columns]"
      ]
     },
     "execution_count": 32,
     "metadata": {},
     "output_type": "execute_result"
    }
   ],
   "source": [
    "b_and_s=df[(df['builtup'].isnull())&(~df['carpet_area'].isnull())&(df['super_builtup'].isnull())]\n",
    "b_and_s.sample(1)"
   ]
  },
  {
   "cell_type": "code",
   "execution_count": 33,
   "id": "42a1b290-de05-4682-84df-ec3868cb4075",
   "metadata": {},
   "outputs": [
    {
     "name": "stderr",
     "output_type": "stream",
     "text": [
      "C:\\Users\\abc\\AppData\\Local\\Temp\\ipykernel_7600\\3531759573.py:1: FutureWarning: A value is trying to be set on a copy of a DataFrame or Series through chained assignment using an inplace method.\n",
      "The behavior will change in pandas 3.0. This inplace method will never work because the intermediate object on which we are setting values always behaves as a copy.\n",
      "\n",
      "For example, when doing 'df[col].method(value, inplace=True)', try using 'df.method({col: value}, inplace=True)' or df[col] = df[col].method(value) instead, to perform the operation inplace on the original object.\n",
      "\n",
      "\n",
      "  b_and_s['builtup'].fillna(round(b_and_s['carpet_area']/s_to_c),inplace=True)\n",
      "C:\\Users\\abc\\AppData\\Local\\Temp\\ipykernel_7600\\3531759573.py:1: SettingWithCopyWarning: \n",
      "A value is trying to be set on a copy of a slice from a DataFrame\n",
      "\n",
      "See the caveats in the documentation: https://pandas.pydata.org/pandas-docs/stable/user_guide/indexing.html#returning-a-view-versus-a-copy\n",
      "  b_and_s['builtup'].fillna(round(b_and_s['carpet_area']/s_to_c),inplace=True)\n"
     ]
    },
    {
     "data": {
      "text/html": [
       "<div>\n",
       "<style scoped>\n",
       "    .dataframe tbody tr th:only-of-type {\n",
       "        vertical-align: middle;\n",
       "    }\n",
       "\n",
       "    .dataframe tbody tr th {\n",
       "        vertical-align: top;\n",
       "    }\n",
       "\n",
       "    .dataframe thead th {\n",
       "        text-align: right;\n",
       "    }\n",
       "</style>\n",
       "<table border=\"1\" class=\"dataframe\">\n",
       "  <thead>\n",
       "    <tr style=\"text-align: right;\">\n",
       "      <th></th>\n",
       "      <th>property_type</th>\n",
       "      <th>society</th>\n",
       "      <th>sector</th>\n",
       "      <th>price_in_lacs</th>\n",
       "      <th>price_per_sqft_inrs</th>\n",
       "      <th>area</th>\n",
       "      <th>areaWithType</th>\n",
       "      <th>super_builtup</th>\n",
       "      <th>builtup</th>\n",
       "      <th>carpet_area</th>\n",
       "      <th>...</th>\n",
       "      <th>floorNum</th>\n",
       "      <th>facing</th>\n",
       "      <th>agePossession</th>\n",
       "      <th>furnish_type</th>\n",
       "      <th>servant_room</th>\n",
       "      <th>study room</th>\n",
       "      <th>pooja room</th>\n",
       "      <th>store_room</th>\n",
       "      <th>others</th>\n",
       "      <th>luxury_score</th>\n",
       "    </tr>\n",
       "  </thead>\n",
       "  <tbody>\n",
       "    <tr>\n",
       "      <th>205</th>\n",
       "      <td>flat</td>\n",
       "      <td>vatika sovereign next</td>\n",
       "      <td>sector 82a</td>\n",
       "      <td>385.0</td>\n",
       "      <td>7500.0</td>\n",
       "      <td>5133.33</td>\n",
       "      <td>Carpet area: 5140 (477.52 sq.m.)</td>\n",
       "      <td>NaN</td>\n",
       "      <td>5710.0</td>\n",
       "      <td>5140.0</td>\n",
       "      <td>...</td>\n",
       "      <td>6.0</td>\n",
       "      <td>NaN</td>\n",
       "      <td>New Property</td>\n",
       "      <td>0.0</td>\n",
       "      <td>1</td>\n",
       "      <td>0</td>\n",
       "      <td>1</td>\n",
       "      <td>0</td>\n",
       "      <td>0</td>\n",
       "      <td>126.0</td>\n",
       "    </tr>\n",
       "  </tbody>\n",
       "</table>\n",
       "<p>1 rows × 23 columns</p>\n",
       "</div>"
      ],
      "text/plain": [
       "    property_type                society       sector  price_in_lacs  \\\n",
       "205          flat  vatika sovereign next  sector 82a           385.0   \n",
       "\n",
       "     price_per_sqft_inrs     area                      areaWithType  \\\n",
       "205               7500.0  5133.33  Carpet area: 5140 (477.52 sq.m.)   \n",
       "\n",
       "     super_builtup  builtup  carpet_area  ...  floorNum  facing agePossession  \\\n",
       "205            NaN   5710.0       5140.0  ...       6.0     NaN  New Property   \n",
       "\n",
       "     furnish_type servant_room study room  pooja room  store_room  others  \\\n",
       "205           0.0            1          0           1           0       0   \n",
       "\n",
       "     luxury_score  \n",
       "205         126.0  \n",
       "\n",
       "[1 rows x 23 columns]"
      ]
     },
     "execution_count": 33,
     "metadata": {},
     "output_type": "execute_result"
    }
   ],
   "source": [
    "b_and_s['builtup'].fillna(round(b_and_s['carpet_area']/s_to_c),inplace=True)\n",
    "b_and_s.sample(1)"
   ]
  },
  {
   "cell_type": "code",
   "execution_count": 34,
   "id": "0a77dd97-1622-4e9d-95e1-91c12de8b8a1",
   "metadata": {},
   "outputs": [],
   "source": [
    "df.update(b_and_s)"
   ]
  },
  {
   "cell_type": "code",
   "execution_count": 35,
   "id": "bf1bdce2-fdd9-4897-b908-60a6dc52c7e9",
   "metadata": {},
   "outputs": [
    {
     "data": {
      "text/plain": [
       "property_type             0\n",
       "society                   1\n",
       "sector                    0\n",
       "price_in_lacs             0\n",
       "price_per_sqft_inrs       0\n",
       "area                      0\n",
       "areaWithType              0\n",
       "super_builtup          1693\n",
       "builtup                   2\n",
       "carpet_area            1714\n",
       "bedRoom                   0\n",
       "bathroom                  0\n",
       "balcony                   0\n",
       "floorNum                 17\n",
       "facing                 1040\n",
       "agePossession             0\n",
       "furnish_type            135\n",
       "servant_room              0\n",
       "study room                0\n",
       "pooja room                0\n",
       "store_room                0\n",
       "others                    0\n",
       "luxury_score            135\n",
       "dtype: int64"
      ]
     },
     "execution_count": 35,
     "metadata": {},
     "output_type": "execute_result"
    }
   ],
   "source": [
    "df.isnull().sum()"
   ]
  },
  {
   "cell_type": "code",
   "execution_count": 36,
   "id": "4cab94f9-01d3-4c81-a8f2-27b78ee556ff",
   "metadata": {},
   "outputs": [
    {
     "data": {
      "text/html": [
       "<div>\n",
       "<style scoped>\n",
       "    .dataframe tbody tr th:only-of-type {\n",
       "        vertical-align: middle;\n",
       "    }\n",
       "\n",
       "    .dataframe tbody tr th {\n",
       "        vertical-align: top;\n",
       "    }\n",
       "\n",
       "    .dataframe thead th {\n",
       "        text-align: right;\n",
       "    }\n",
       "</style>\n",
       "<table border=\"1\" class=\"dataframe\">\n",
       "  <thead>\n",
       "    <tr style=\"text-align: right;\">\n",
       "      <th></th>\n",
       "      <th>property_type</th>\n",
       "      <th>society</th>\n",
       "      <th>sector</th>\n",
       "      <th>price_in_lacs</th>\n",
       "      <th>price_per_sqft_inrs</th>\n",
       "      <th>area</th>\n",
       "      <th>areaWithType</th>\n",
       "      <th>super_builtup</th>\n",
       "      <th>builtup</th>\n",
       "      <th>carpet_area</th>\n",
       "      <th>...</th>\n",
       "      <th>floorNum</th>\n",
       "      <th>facing</th>\n",
       "      <th>agePossession</th>\n",
       "      <th>furnish_type</th>\n",
       "      <th>servant_room</th>\n",
       "      <th>study room</th>\n",
       "      <th>pooja room</th>\n",
       "      <th>store_room</th>\n",
       "      <th>others</th>\n",
       "      <th>luxury_score</th>\n",
       "    </tr>\n",
       "  </thead>\n",
       "  <tbody>\n",
       "    <tr>\n",
       "      <th>3122</th>\n",
       "      <td>house</td>\n",
       "      <td>independent</td>\n",
       "      <td>sector 39</td>\n",
       "      <td>515.0</td>\n",
       "      <td>14072.0</td>\n",
       "      <td>3658.4</td>\n",
       "      <td>Built Up area: 340</td>\n",
       "      <td>NaN</td>\n",
       "      <td>NaN</td>\n",
       "      <td>NaN</td>\n",
       "      <td>...</td>\n",
       "      <td>1.0</td>\n",
       "      <td>NaN</td>\n",
       "      <td>Relatively New</td>\n",
       "      <td>0.0</td>\n",
       "      <td>0</td>\n",
       "      <td>0</td>\n",
       "      <td>0</td>\n",
       "      <td>0</td>\n",
       "      <td>0</td>\n",
       "      <td>0.0</td>\n",
       "    </tr>\n",
       "    <tr>\n",
       "      <th>3308</th>\n",
       "      <td>house</td>\n",
       "      <td>independent</td>\n",
       "      <td>sector 4</td>\n",
       "      <td>55.0</td>\n",
       "      <td>6813.0</td>\n",
       "      <td>807.0</td>\n",
       "      <td>Built Up area: 75</td>\n",
       "      <td>NaN</td>\n",
       "      <td>NaN</td>\n",
       "      <td>NaN</td>\n",
       "      <td>...</td>\n",
       "      <td>1.0</td>\n",
       "      <td>NaN</td>\n",
       "      <td>Moderately Old</td>\n",
       "      <td>2.0</td>\n",
       "      <td>0</td>\n",
       "      <td>0</td>\n",
       "      <td>0</td>\n",
       "      <td>0</td>\n",
       "      <td>0</td>\n",
       "      <td>130.0</td>\n",
       "    </tr>\n",
       "  </tbody>\n",
       "</table>\n",
       "<p>2 rows × 23 columns</p>\n",
       "</div>"
      ],
      "text/plain": [
       "     property_type      society      sector  price_in_lacs  \\\n",
       "3122         house  independent  sector 39           515.0   \n",
       "3308         house  independent    sector 4           55.0   \n",
       "\n",
       "      price_per_sqft_inrs    area        areaWithType  super_builtup  builtup  \\\n",
       "3122              14072.0  3658.4  Built Up area: 340            NaN      NaN   \n",
       "3308               6813.0   807.0   Built Up area: 75            NaN      NaN   \n",
       "\n",
       "      carpet_area  ...  floorNum  facing   agePossession  furnish_type  \\\n",
       "3122          NaN  ...       1.0     NaN  Relatively New           0.0   \n",
       "3308          NaN  ...       1.0     NaN  Moderately Old           2.0   \n",
       "\n",
       "     servant_room study room  pooja room  store_room  others  luxury_score  \n",
       "3122            0          0           0           0       0           0.0  \n",
       "3308            0          0           0           0       0         130.0  \n",
       "\n",
       "[2 rows x 23 columns]"
      ]
     },
     "execution_count": 36,
     "metadata": {},
     "output_type": "execute_result"
    }
   ],
   "source": [
    "df[df['builtup'].isnull()]"
   ]
  },
  {
   "cell_type": "code",
   "execution_count": 37,
   "id": "fa9bb507-63ba-4759-bd99-81ce474266ba",
   "metadata": {},
   "outputs": [],
   "source": [
    "df.loc[3122,'builtup']=340\n",
    "df.loc[3308,'builtup']=75"
   ]
  },
  {
   "cell_type": "code",
   "execution_count": 38,
   "id": "93dbd2f9-88cc-4b38-b2a6-a5d4552febdd",
   "metadata": {},
   "outputs": [
    {
     "data": {
      "text/plain": [
       "property_type             0\n",
       "society                   1\n",
       "sector                    0\n",
       "price_in_lacs             0\n",
       "price_per_sqft_inrs       0\n",
       "area                      0\n",
       "areaWithType              0\n",
       "super_builtup          1693\n",
       "builtup                   0\n",
       "carpet_area            1714\n",
       "bedRoom                   0\n",
       "bathroom                  0\n",
       "balcony                   0\n",
       "floorNum                 17\n",
       "facing                 1040\n",
       "agePossession             0\n",
       "furnish_type            135\n",
       "servant_room              0\n",
       "study room                0\n",
       "pooja room                0\n",
       "store_room                0\n",
       "others                    0\n",
       "luxury_score            135\n",
       "dtype: int64"
      ]
     },
     "execution_count": 38,
     "metadata": {},
     "output_type": "execute_result"
    }
   ],
   "source": [
    "df.isnull().sum()"
   ]
  },
  {
   "cell_type": "code",
   "execution_count": 39,
   "id": "0c0546fa-ff97-443d-9b5d-90556640d246",
   "metadata": {},
   "outputs": [
    {
     "data": {
      "image/png": "[encoded data removed]",
      "text/plain": [
       "<Figure size 1800x500 with 3 Axes>"
      ]
     },
     "metadata": {},
     "output_type": "display_data"
    }
   ],
   "source": [
    "plt.figure(figsize=(18,5))\n",
    "plt.subplot(1,3,1)\n",
    "sns.scatterplot(x='builtup',y='price_in_lacs',data=df)\n",
    "plt.subplot(1,3,2)\n",
    "sns.scatterplot(x='builtup',y='carpet_area',data=df)\n",
    "plt.subplot(1,3,3)\n",
    "sns.scatterplot(x='builtup',y='super_builtup',data=df)\n",
    "plt.show()"
   ]
  },
  {
   "cell_type": "code",
   "execution_count": 40,
   "id": "d12e7c57-cff2-4c37-9b5a-a0100ea74132",
   "metadata": {},
   "outputs": [],
   "source": [
    "anamoly_df=df[(df['builtup']<2000)&(df['price_in_lacs']>250)][['price_in_lacs','area','builtup']]"
   ]
  },
  {
   "cell_type": "code",
   "execution_count": 41,
   "id": "58f92912-73b7-48bf-8e3f-87608e8432d1",
   "metadata": {},
   "outputs": [],
   "source": [
    "anamoly_df['builtup']=anamoly_df['area']"
   ]
  },
  {
   "cell_type": "code",
   "execution_count": 42,
   "id": "b7206a8c-77dc-4956-bacc-2b2b1254c86a",
   "metadata": {},
   "outputs": [
    {
     "data": {
      "text/plain": [
       "(467, 3)"
      ]
     },
     "execution_count": 42,
     "metadata": {},
     "output_type": "execute_result"
    }
   ],
   "source": [
    "anamoly_df.shape"
   ]
  },
  {
   "cell_type": "code",
   "execution_count": 43,
   "id": "e18ca824-8ee0-4390-abfb-832952bd1543",
   "metadata": {},
   "outputs": [],
   "source": [
    "df.update(anamoly_df)"
   ]
  },
  {
   "cell_type": "code",
   "execution_count": 44,
   "id": "48b9a72f-fdf8-4172-9ece-0e7e0aa1dcb6",
   "metadata": {},
   "outputs": [
    {
     "data": {
      "image/png": "[encoded data removed]",
      "text/plain": [
       "<Figure size 1800x500 with 3 Axes>"
      ]
     },
     "metadata": {},
     "output_type": "display_data"
    }
   ],
   "source": [
    "plt.figure(figsize=(18,5))\n",
    "plt.subplot(1,3,1)\n",
    "sns.scatterplot(x='builtup',y='price_in_lacs',data=df)\n",
    "plt.subplot(1,3,2)\n",
    "sns.scatterplot(x='builtup',y='carpet_area',data=df)\n",
    "plt.subplot(1,3,3)\n",
    "sns.scatterplot(x='builtup',y='super_builtup',data=df)\n",
    "plt.show()"
   ]
  },
  {
   "cell_type": "code",
   "execution_count": 45,
   "id": "635a1e70-4fc3-4ef6-b0a3-7e2d6614a129",
   "metadata": {},
   "outputs": [
    {
     "data": {
      "text/plain": [
       "Index(['property_type', 'society', 'sector', 'price_in_lacs',\n",
       "       'price_per_sqft_inrs', 'area', 'areaWithType', 'super_builtup',\n",
       "       'builtup', 'carpet_area', 'bedRoom', 'bathroom', 'balcony', 'floorNum',\n",
       "       'facing', 'agePossession', 'furnish_type', 'servant_room', 'study room',\n",
       "       'pooja room', 'store_room', 'others', 'luxury_score'],\n",
       "      dtype='object')"
      ]
     },
     "execution_count": 45,
     "metadata": {},
     "output_type": "execute_result"
    }
   ],
   "source": [
    "df.columns"
   ]
  },
  {
   "cell_type": "code",
   "execution_count": 46,
   "id": "8743e8c2-bc0c-45b5-9e51-48d2c685565b",
   "metadata": {},
   "outputs": [],
   "source": [
    "df.drop(columns=['area','areaWithType','super_builtup','carpet_area'],inplace=True)"
   ]
  },
  {
   "cell_type": "code",
   "execution_count": 47,
   "id": "c2cab151-df9f-4bdf-b7f8-50f573d1d328",
   "metadata": {},
   "outputs": [
    {
     "data": {
      "text/plain": [
       "property_type             0\n",
       "society                   1\n",
       "sector                    0\n",
       "price_in_lacs             0\n",
       "price_per_sqft_inrs       0\n",
       "builtup                   0\n",
       "bedRoom                   0\n",
       "bathroom                  0\n",
       "balcony                   0\n",
       "floorNum                 17\n",
       "facing                 1040\n",
       "agePossession             0\n",
       "furnish_type            135\n",
       "servant_room              0\n",
       "study room                0\n",
       "pooja room                0\n",
       "store_room                0\n",
       "others                    0\n",
       "luxury_score            135\n",
       "dtype: int64"
      ]
     },
     "execution_count": 47,
     "metadata": {},
     "output_type": "execute_result"
    }
   ],
   "source": [
    "df.isnull().sum()"
   ]
  },
  {
   "cell_type": "markdown",
   "id": "7b7e38ef-df48-4f1e-80af-58ca4b1c6552",
   "metadata": {},
   "source": [
    "# floorNum"
   ]
  },
  {
   "cell_type": "code",
   "execution_count": 48,
   "id": "8c48223d-7f07-497f-8cf8-cc69ee7675b1",
   "metadata": {},
   "outputs": [
    {
     "data": {
      "text/html": [
       "<div>\n",
       "<style scoped>\n",
       "    .dataframe tbody tr th:only-of-type {\n",
       "        vertical-align: middle;\n",
       "    }\n",
       "\n",
       "    .dataframe tbody tr th {\n",
       "        vertical-align: top;\n",
       "    }\n",
       "\n",
       "    .dataframe thead th {\n",
       "        text-align: right;\n",
       "    }\n",
       "</style>\n",
       "<table border=\"1\" class=\"dataframe\">\n",
       "  <thead>\n",
       "    <tr style=\"text-align: right;\">\n",
       "      <th></th>\n",
       "      <th>property_type</th>\n",
       "      <th>society</th>\n",
       "      <th>sector</th>\n",
       "      <th>price_in_lacs</th>\n",
       "      <th>price_per_sqft_inrs</th>\n",
       "      <th>builtup</th>\n",
       "      <th>bedRoom</th>\n",
       "      <th>bathroom</th>\n",
       "      <th>balcony</th>\n",
       "      <th>floorNum</th>\n",
       "      <th>facing</th>\n",
       "      <th>agePossession</th>\n",
       "      <th>furnish_type</th>\n",
       "      <th>servant_room</th>\n",
       "      <th>study room</th>\n",
       "      <th>pooja room</th>\n",
       "      <th>store_room</th>\n",
       "      <th>others</th>\n",
       "      <th>luxury_score</th>\n",
       "    </tr>\n",
       "  </thead>\n",
       "  <tbody>\n",
       "    <tr>\n",
       "      <th>3019</th>\n",
       "      <td>house</td>\n",
       "      <td>independent</td>\n",
       "      <td>sector 24</td>\n",
       "      <td>145.0</td>\n",
       "      <td>26852.0</td>\n",
       "      <td>60.00</td>\n",
       "      <td>3</td>\n",
       "      <td>3</td>\n",
       "      <td>1</td>\n",
       "      <td>NaN</td>\n",
       "      <td>NaN</td>\n",
       "      <td>Old Property</td>\n",
       "      <td>0.0</td>\n",
       "      <td>0</td>\n",
       "      <td>0</td>\n",
       "      <td>0</td>\n",
       "      <td>0</td>\n",
       "      <td>0</td>\n",
       "      <td>0.0</td>\n",
       "    </tr>\n",
       "    <tr>\n",
       "      <th>2953</th>\n",
       "      <td>house</td>\n",
       "      <td>independent</td>\n",
       "      <td>sector 2</td>\n",
       "      <td>560.0</td>\n",
       "      <td>17284.0</td>\n",
       "      <td>3238.76</td>\n",
       "      <td>8</td>\n",
       "      <td>6</td>\n",
       "      <td>3+</td>\n",
       "      <td>NaN</td>\n",
       "      <td>South-West</td>\n",
       "      <td>Moderately Old</td>\n",
       "      <td>1.0</td>\n",
       "      <td>1</td>\n",
       "      <td>1</td>\n",
       "      <td>1</td>\n",
       "      <td>1</td>\n",
       "      <td>0</td>\n",
       "      <td>20.0</td>\n",
       "    </tr>\n",
       "    <tr>\n",
       "      <th>3053</th>\n",
       "      <td>house</td>\n",
       "      <td>independent</td>\n",
       "      <td>sector 3</td>\n",
       "      <td>150.0</td>\n",
       "      <td>10288.0</td>\n",
       "      <td>210.00</td>\n",
       "      <td>3</td>\n",
       "      <td>3</td>\n",
       "      <td>0</td>\n",
       "      <td>NaN</td>\n",
       "      <td>NaN</td>\n",
       "      <td>Old Property</td>\n",
       "      <td>0.0</td>\n",
       "      <td>0</td>\n",
       "      <td>0</td>\n",
       "      <td>0</td>\n",
       "      <td>0</td>\n",
       "      <td>0</td>\n",
       "      <td>0.0</td>\n",
       "    </tr>\n",
       "    <tr>\n",
       "      <th>169</th>\n",
       "      <td>flat</td>\n",
       "      <td>experion heartsong</td>\n",
       "      <td>dwarka expressway</td>\n",
       "      <td>108.0</td>\n",
       "      <td>6150.0</td>\n",
       "      <td>1758.00</td>\n",
       "      <td>3</td>\n",
       "      <td>3</td>\n",
       "      <td>0</td>\n",
       "      <td>NaN</td>\n",
       "      <td>NaN</td>\n",
       "      <td>Under Construction</td>\n",
       "      <td>0.0</td>\n",
       "      <td>0</td>\n",
       "      <td>0</td>\n",
       "      <td>0</td>\n",
       "      <td>0</td>\n",
       "      <td>0</td>\n",
       "      <td>38.0</td>\n",
       "    </tr>\n",
       "    <tr>\n",
       "      <th>3127</th>\n",
       "      <td>house</td>\n",
       "      <td>ansal sushant lok plots</td>\n",
       "      <td>sector 43</td>\n",
       "      <td>330.0</td>\n",
       "      <td>26570.0</td>\n",
       "      <td>1237.40</td>\n",
       "      <td>1</td>\n",
       "      <td>1</td>\n",
       "      <td>0</td>\n",
       "      <td>NaN</td>\n",
       "      <td>NaN</td>\n",
       "      <td>Under Construction</td>\n",
       "      <td>0.0</td>\n",
       "      <td>0</td>\n",
       "      <td>0</td>\n",
       "      <td>0</td>\n",
       "      <td>0</td>\n",
       "      <td>0</td>\n",
       "      <td>0.0</td>\n",
       "    </tr>\n",
       "  </tbody>\n",
       "</table>\n",
       "</div>"
      ],
      "text/plain": [
       "     property_type                  society              sector  \\\n",
       "3019         house              independent           sector 24   \n",
       "2953         house              independent            sector 2   \n",
       "3053         house              independent            sector 3   \n",
       "169           flat       experion heartsong  dwarka expressway    \n",
       "3127         house  ansal sushant lok plots           sector 43   \n",
       "\n",
       "      price_in_lacs  price_per_sqft_inrs  builtup  bedRoom  bathroom balcony  \\\n",
       "3019          145.0              26852.0    60.00        3         3       1   \n",
       "2953          560.0              17284.0  3238.76        8         6      3+   \n",
       "3053          150.0              10288.0   210.00        3         3       0   \n",
       "169           108.0               6150.0  1758.00        3         3       0   \n",
       "3127          330.0              26570.0  1237.40        1         1       0   \n",
       "\n",
       "      floorNum      facing       agePossession  furnish_type  servant_room  \\\n",
       "3019       NaN         NaN        Old Property           0.0             0   \n",
       "2953       NaN  South-West      Moderately Old           1.0             1   \n",
       "3053       NaN         NaN        Old Property           0.0             0   \n",
       "169        NaN         NaN  Under Construction           0.0             0   \n",
       "3127       NaN         NaN  Under Construction           0.0             0   \n",
       "\n",
       "      study room  pooja room  store_room  others  luxury_score  \n",
       "3019           0           0           0       0           0.0  \n",
       "2953           1           1           1       0          20.0  \n",
       "3053           0           0           0       0           0.0  \n",
       "169            0           0           0       0          38.0  \n",
       "3127           0           0           0       0           0.0  "
      ]
     },
     "execution_count": 48,
     "metadata": {},
     "output_type": "execute_result"
    }
   ],
   "source": [
    "df[df['floorNum'].isnull()].sample(5)"
   ]
  },
  {
   "cell_type": "code",
   "execution_count": 49,
   "id": "97b5269e-021e-4a52-a97f-0678da51d7c0",
   "metadata": {},
   "outputs": [
    {
     "data": {
      "text/plain": [
       "2.0"
      ]
     },
     "execution_count": 49,
     "metadata": {},
     "output_type": "execute_result"
    }
   ],
   "source": [
    "df[df['property_type'] == 'house']['floorNum'].median()"
   ]
  },
  {
   "cell_type": "code",
   "execution_count": 50,
   "id": "441e3415-1078-429f-9fdd-e8688ab2eab1",
   "metadata": {},
   "outputs": [
    {
     "name": "stderr",
     "output_type": "stream",
     "text": [
      "C:\\Users\\abc\\AppData\\Local\\Temp\\ipykernel_7600\\15612474.py:1: FutureWarning: A value is trying to be set on a copy of a DataFrame or Series through chained assignment using an inplace method.\n",
      "The behavior will change in pandas 3.0. This inplace method will never work because the intermediate object on which we are setting values always behaves as a copy.\n",
      "\n",
      "For example, when doing 'df[col].method(value, inplace=True)', try using 'df.method({col: value}, inplace=True)' or df[col] = df[col].method(value) instead, to perform the operation inplace on the original object.\n",
      "\n",
      "\n",
      "  df['floorNum'].fillna(2.0,inplace=True)\n"
     ]
    }
   ],
   "source": [
    "df['floorNum'].fillna(2.0,inplace=True)"
   ]
  },
  {
   "cell_type": "code",
   "execution_count": 51,
   "id": "6aedf88d-d263-4de1-87f5-9aaa242fec8a",
   "metadata": {},
   "outputs": [
    {
     "data": {
      "text/plain": [
       "property_type             0\n",
       "society                   1\n",
       "sector                    0\n",
       "price_in_lacs             0\n",
       "price_per_sqft_inrs       0\n",
       "builtup                   0\n",
       "bedRoom                   0\n",
       "bathroom                  0\n",
       "balcony                   0\n",
       "floorNum                  0\n",
       "facing                 1040\n",
       "agePossession             0\n",
       "furnish_type            135\n",
       "servant_room              0\n",
       "study room                0\n",
       "pooja room                0\n",
       "store_room                0\n",
       "others                    0\n",
       "luxury_score            135\n",
       "dtype: int64"
      ]
     },
     "execution_count": 51,
     "metadata": {},
     "output_type": "execute_result"
    }
   ],
   "source": [
    "df.isnull().sum()"
   ]
  },
  {
   "cell_type": "markdown",
   "id": "b6d538b1-e587-4cbe-9703-f1d48da308d3",
   "metadata": {},
   "source": [
    "# facing"
   ]
  },
  {
   "cell_type": "code",
   "execution_count": null,
   "id": "62def116-db07-43ff-9c2a-04ca6c1752af",
   "metadata": {},
   "outputs": [],
   "source": []
  },
  {
   "cell_type": "code",
   "execution_count": 52,
   "id": "608a533c-8ab4-4491-a52a-ab5273dddd36",
   "metadata": {},
   "outputs": [
    {
     "data": {
      "image/png": "[encoded data removed]",
      "text/plain": [
       "<Figure size 640x480 with 1 Axes>"
      ]
     },
     "metadata": {},
     "output_type": "display_data"
    }
   ],
   "source": [
    "x=df['facing'].value_counts()\n",
    "plt.pie(x.values,labels=x.index,autopct='%0.1f%%')\n",
    "plt.show()"
   ]
  },
  {
   "cell_type": "code",
   "execution_count": 53,
   "id": "8e3be08b-db1b-413f-b815-c3c7e8a5713a",
   "metadata": {},
   "outputs": [],
   "source": [
    "df.drop(columns=['facing'],inplace=True)"
   ]
  },
  {
   "cell_type": "code",
   "execution_count": 54,
   "id": "c6b5ba03-dadd-4c45-b643-6cec41f558fe",
   "metadata": {},
   "outputs": [
    {
     "data": {
      "text/plain": [
       "property_type            0\n",
       "society                  1\n",
       "sector                   0\n",
       "price_in_lacs            0\n",
       "price_per_sqft_inrs      0\n",
       "builtup                  0\n",
       "bedRoom                  0\n",
       "bathroom                 0\n",
       "balcony                  0\n",
       "floorNum                 0\n",
       "agePossession            0\n",
       "furnish_type           135\n",
       "servant_room             0\n",
       "study room               0\n",
       "pooja room               0\n",
       "store_room               0\n",
       "others                   0\n",
       "luxury_score           135\n",
       "dtype: int64"
      ]
     },
     "execution_count": 54,
     "metadata": {},
     "output_type": "execute_result"
    }
   ],
   "source": [
    "df.isnull().sum()"
   ]
  },
  {
   "cell_type": "code",
   "execution_count": 55,
   "id": "8391b00b-a126-413f-a7b4-4ec456f4944a",
   "metadata": {},
   "outputs": [
    {
     "data": {
      "text/html": [
       "<div>\n",
       "<style scoped>\n",
       "    .dataframe tbody tr th:only-of-type {\n",
       "        vertical-align: middle;\n",
       "    }\n",
       "\n",
       "    .dataframe tbody tr th {\n",
       "        vertical-align: top;\n",
       "    }\n",
       "\n",
       "    .dataframe thead th {\n",
       "        text-align: right;\n",
       "    }\n",
       "</style>\n",
       "<table border=\"1\" class=\"dataframe\">\n",
       "  <thead>\n",
       "    <tr style=\"text-align: right;\">\n",
       "      <th></th>\n",
       "      <th>property_type</th>\n",
       "      <th>society</th>\n",
       "      <th>sector</th>\n",
       "      <th>price_in_lacs</th>\n",
       "      <th>price_per_sqft_inrs</th>\n",
       "      <th>builtup</th>\n",
       "      <th>bedRoom</th>\n",
       "      <th>bathroom</th>\n",
       "      <th>balcony</th>\n",
       "      <th>floorNum</th>\n",
       "      <th>agePossession</th>\n",
       "      <th>furnish_type</th>\n",
       "      <th>servant_room</th>\n",
       "      <th>study room</th>\n",
       "      <th>pooja room</th>\n",
       "      <th>store_room</th>\n",
       "      <th>others</th>\n",
       "      <th>luxury_score</th>\n",
       "    </tr>\n",
       "  </thead>\n",
       "  <tbody>\n",
       "    <tr>\n",
       "      <th>2689</th>\n",
       "      <td>flat</td>\n",
       "      <td>NaN</td>\n",
       "      <td>sector 78</td>\n",
       "      <td>60.0</td>\n",
       "      <td>3692.0</td>\n",
       "      <td>1625.0</td>\n",
       "      <td>2</td>\n",
       "      <td>2</td>\n",
       "      <td>0</td>\n",
       "      <td>2.0</td>\n",
       "      <td>Under Construction</td>\n",
       "      <td>0.0</td>\n",
       "      <td>0</td>\n",
       "      <td>0</td>\n",
       "      <td>0</td>\n",
       "      <td>0</td>\n",
       "      <td>0</td>\n",
       "      <td>31.0</td>\n",
       "    </tr>\n",
       "  </tbody>\n",
       "</table>\n",
       "</div>"
      ],
      "text/plain": [
       "     property_type society      sector  price_in_lacs  price_per_sqft_inrs  \\\n",
       "2689          flat     NaN  sector 78            60.0               3692.0   \n",
       "\n",
       "      builtup  bedRoom  bathroom balcony  floorNum       agePossession  \\\n",
       "2689   1625.0        2         2       0       2.0  Under Construction   \n",
       "\n",
       "      furnish_type  servant_room  study room  pooja room  store_room  others  \\\n",
       "2689           0.0             0           0           0           0       0   \n",
       "\n",
       "      luxury_score  \n",
       "2689          31.0  "
      ]
     },
     "execution_count": 55,
     "metadata": {},
     "output_type": "execute_result"
    }
   ],
   "source": [
    "df[df['society'].isnull()]"
   ]
  },
  {
   "cell_type": "code",
   "execution_count": 56,
   "id": "759e6bda-ff51-4c0d-8165-7c159edf1b92",
   "metadata": {},
   "outputs": [],
   "source": [
    "df.drop(index=[2689],inplace=True)"
   ]
  },
  {
   "cell_type": "code",
   "execution_count": 57,
   "id": "dd647eac-57df-4da8-9d48-f6473da81c2f",
   "metadata": {},
   "outputs": [
    {
     "data": {
      "text/plain": [
       "property_type            0\n",
       "society                  0\n",
       "sector                   0\n",
       "price_in_lacs            0\n",
       "price_per_sqft_inrs      0\n",
       "builtup                  0\n",
       "bedRoom                  0\n",
       "bathroom                 0\n",
       "balcony                  0\n",
       "floorNum                 0\n",
       "agePossession            0\n",
       "furnish_type           135\n",
       "servant_room             0\n",
       "study room               0\n",
       "pooja room               0\n",
       "store_room               0\n",
       "others                   0\n",
       "luxury_score           135\n",
       "dtype: int64"
      ]
     },
     "execution_count": 57,
     "metadata": {},
     "output_type": "execute_result"
    }
   ],
   "source": [
    "df.isnull().sum()"
   ]
  },
  {
   "cell_type": "markdown",
   "id": "fa023355-9ef0-4bf8-b7d2-fdb45b5f357a",
   "metadata": {},
   "source": [
    "# furnish_type"
   ]
  },
  {
   "cell_type": "code",
   "execution_count": 58,
   "id": "3176a139-8022-4eb1-8752-46ee7f0e26f8",
   "metadata": {},
   "outputs": [
    {
     "data": {
      "text/plain": [
       "furnish_type\n",
       "0.0    2258\n",
       "2.0    1000\n",
       "1.0     211\n",
       "Name: count, dtype: int64"
      ]
     },
     "execution_count": 58,
     "metadata": {},
     "output_type": "execute_result"
    }
   ],
   "source": [
    "df['furnish_type'].value_counts()"
   ]
  },
  {
   "cell_type": "code",
   "execution_count": 59,
   "id": "9b95446d-31d8-4c54-8aca-7198bbfea486",
   "metadata": {},
   "outputs": [
    {
     "name": "stderr",
     "output_type": "stream",
     "text": [
      "C:\\Users\\abc\\AppData\\Local\\Temp\\ipykernel_7600\\3861046051.py:1: FutureWarning: ChainedAssignmentError: behaviour will change in pandas 3.0!\n",
      "You are setting values through chained assignment. Currently this works in certain cases, but when using Copy-on-Write (which will become the default behaviour in pandas 3.0) this will never work to update the original DataFrame or Series, because the intermediate object on which we are setting values will behave as a copy.\n",
      "A typical example is when you are setting values in a column of a DataFrame, like:\n",
      "\n",
      "df[\"col\"][row_indexer] = value\n",
      "\n",
      "Use `df.loc[row_indexer, \"col\"] = values` instead, to perform the assignment in a single step and ensure this keeps updating the original `df`.\n",
      "\n",
      "See the caveats in the documentation: https://pandas.pydata.org/pandas-docs/stable/user_guide/indexing.html#returning-a-view-versus-a-copy\n",
      "\n",
      "  df['furnish_type'][df['furnish_type'].isnull()]=0\n",
      "C:\\Users\\abc\\AppData\\Local\\Temp\\ipykernel_7600\\3861046051.py:1: SettingWithCopyWarning: \n",
      "A value is trying to be set on a copy of a slice from a DataFrame\n",
      "\n",
      "See the caveats in the documentation: https://pandas.pydata.org/pandas-docs/stable/user_guide/indexing.html#returning-a-view-versus-a-copy\n",
      "  df['furnish_type'][df['furnish_type'].isnull()]=0\n"
     ]
    }
   ],
   "source": [
    "df['furnish_type'][df['furnish_type'].isnull()]=0"
   ]
  },
  {
   "cell_type": "code",
   "execution_count": 60,
   "id": "34d1aae9-5d5e-450f-818d-c9cdbc839f02",
   "metadata": {},
   "outputs": [
    {
     "data": {
      "text/plain": [
       "property_type            0\n",
       "society                  0\n",
       "sector                   0\n",
       "price_in_lacs            0\n",
       "price_per_sqft_inrs      0\n",
       "builtup                  0\n",
       "bedRoom                  0\n",
       "bathroom                 0\n",
       "balcony                  0\n",
       "floorNum                 0\n",
       "agePossession            0\n",
       "furnish_type             0\n",
       "servant_room             0\n",
       "study room               0\n",
       "pooja room               0\n",
       "store_room               0\n",
       "others                   0\n",
       "luxury_score           135\n",
       "dtype: int64"
      ]
     },
     "execution_count": 60,
     "metadata": {},
     "output_type": "execute_result"
    }
   ],
   "source": [
    "df.isnull().sum()"
   ]
  },
  {
   "cell_type": "markdown",
   "id": "cfc83192-9612-452b-871a-1c9269aa9be4",
   "metadata": {},
   "source": [
    "# luxury_score"
   ]
  },
  {
   "cell_type": "code",
   "execution_count": 61,
   "id": "88d11f7a-94c1-4b72-b552-f359b24b85d5",
   "metadata": {},
   "outputs": [
    {
     "name": "stderr",
     "output_type": "stream",
     "text": [
      "C:\\Users\\abc\\AppData\\Local\\Temp\\ipykernel_7600\\1913328011.py:1: FutureWarning: ChainedAssignmentError: behaviour will change in pandas 3.0!\n",
      "You are setting values through chained assignment. Currently this works in certain cases, but when using Copy-on-Write (which will become the default behaviour in pandas 3.0) this will never work to update the original DataFrame or Series, because the intermediate object on which we are setting values will behave as a copy.\n",
      "A typical example is when you are setting values in a column of a DataFrame, like:\n",
      "\n",
      "df[\"col\"][row_indexer] = value\n",
      "\n",
      "Use `df.loc[row_indexer, \"col\"] = values` instead, to perform the assignment in a single step and ensure this keeps updating the original `df`.\n",
      "\n",
      "See the caveats in the documentation: https://pandas.pydata.org/pandas-docs/stable/user_guide/indexing.html#returning-a-view-versus-a-copy\n",
      "\n",
      "  df['luxury_score'][df['luxury_score'].isnull()]=0\n",
      "C:\\Users\\abc\\AppData\\Local\\Temp\\ipykernel_7600\\1913328011.py:1: SettingWithCopyWarning: \n",
      "A value is trying to be set on a copy of a slice from a DataFrame\n",
      "\n",
      "See the caveats in the documentation: https://pandas.pydata.org/pandas-docs/stable/user_guide/indexing.html#returning-a-view-versus-a-copy\n",
      "  df['luxury_score'][df['luxury_score'].isnull()]=0\n"
     ]
    }
   ],
   "source": [
    "df['luxury_score'][df['luxury_score'].isnull()]=0"
   ]
  },
  {
   "cell_type": "code",
   "execution_count": 62,
   "id": "4f420753-2abf-4b81-b66b-548e49f9d90a",
   "metadata": {},
   "outputs": [
    {
     "data": {
      "text/plain": [
       "property_type          0\n",
       "society                0\n",
       "sector                 0\n",
       "price_in_lacs          0\n",
       "price_per_sqft_inrs    0\n",
       "builtup                0\n",
       "bedRoom                0\n",
       "bathroom               0\n",
       "balcony                0\n",
       "floorNum               0\n",
       "agePossession          0\n",
       "furnish_type           0\n",
       "servant_room           0\n",
       "study room             0\n",
       "pooja room             0\n",
       "store_room             0\n",
       "others                 0\n",
       "luxury_score           0\n",
       "dtype: int64"
      ]
     },
     "execution_count": 62,
     "metadata": {},
     "output_type": "execute_result"
    }
   ],
   "source": [
    "df.isnull().sum()"
   ]
  },
  {
   "cell_type": "markdown",
   "id": "37af4185-34b3-4ac3-8192-350492634428",
   "metadata": {},
   "source": [
    "# agePossession"
   ]
  },
  {
   "cell_type": "code",
   "execution_count": 63,
   "id": "b7e29b23-f6f0-4957-b78f-a492fccb0053",
   "metadata": {},
   "outputs": [
    {
     "data": {
      "text/plain": [
       "agePossession\n",
       "Relatively New        1620\n",
       "New Property           585\n",
       "Moderately Old         544\n",
       "Undefined              296\n",
       "Old Property           281\n",
       "Under Construction     278\n",
       "Name: count, dtype: int64"
      ]
     },
     "execution_count": 63,
     "metadata": {},
     "output_type": "execute_result"
    }
   ],
   "source": [
    "df['agePossession'].value_counts()"
   ]
  },
  {
   "cell_type": "code",
   "execution_count": 64,
   "id": "b4ba3040-8602-49bc-ad7f-4bfa9b388fdb",
   "metadata": {},
   "outputs": [],
   "source": [
    "def agePossession(row):\n",
    "    if row['agePossession']=='Undefined':\n",
    "        mode_value=df[(df['sector']==row['sector']) & (df['property_type']==row['property_type'])]['agePossession'].mode()\n",
    "        if not mode_value.empty:\n",
    "            return mode_value.iloc[0]\n",
    "        else:\n",
    "            return np.nan\n",
    "    else:\n",
    "        return row['agePossession']"
   ]
  },
  {
   "cell_type": "code",
   "execution_count": 65,
   "id": "ab1ce638-c9c5-4a9c-aca1-27f468d4b9ec",
   "metadata": {},
   "outputs": [],
   "source": [
    "df['agePossession']=df.apply(agePossession,axis=1)"
   ]
  },
  {
   "cell_type": "code",
   "execution_count": 66,
   "id": "67bb9c20-c8d9-4fa6-a74d-71c1d0c8426c",
   "metadata": {},
   "outputs": [
    {
     "data": {
      "text/plain": [
       "agePossession\n",
       "Relatively New        1747\n",
       "New Property           627\n",
       "Moderately Old         583\n",
       "Old Property           299\n",
       "Under Construction     293\n",
       "Undefined               55\n",
       "Name: count, dtype: int64"
      ]
     },
     "execution_count": 66,
     "metadata": {},
     "output_type": "execute_result"
    }
   ],
   "source": [
    "df['agePossession'].value_counts()"
   ]
  },
  {
   "cell_type": "code",
   "execution_count": 67,
   "id": "0243c9d8-56f8-403c-b8d7-452f96caf8d1",
   "metadata": {},
   "outputs": [],
   "source": [
    "def agePossession2(row):\n",
    "    if row['agePossession']=='Undefined':\n",
    "        mode_value=df[(df['sector']==row['sector'])]['agePossession'].mode()\n",
    "        if not mode_value.empty:\n",
    "            return mode_value.iloc[0]\n",
    "        else:\n",
    "            return np.nan\n",
    "    else:\n",
    "        return row['agePossession']"
   ]
  },
  {
   "cell_type": "code",
   "execution_count": 68,
   "id": "5eec25fd-fbda-4b86-acae-451d92600d5e",
   "metadata": {},
   "outputs": [],
   "source": [
    "df['agePossession']=df.apply(agePossession2,axis=1)"
   ]
  },
  {
   "cell_type": "code",
   "execution_count": 69,
   "id": "e8f7754b-aa26-4363-bf95-abbb2ea1034b",
   "metadata": {},
   "outputs": [
    {
     "data": {
      "text/plain": [
       "agePossession\n",
       "Relatively New        1763\n",
       "New Property           628\n",
       "Moderately Old         587\n",
       "Old Property           301\n",
       "Under Construction     293\n",
       "Undefined               32\n",
       "Name: count, dtype: int64"
      ]
     },
     "execution_count": 69,
     "metadata": {},
     "output_type": "execute_result"
    }
   ],
   "source": [
    "df['agePossession'].value_counts()"
   ]
  },
  {
   "cell_type": "code",
   "execution_count": 70,
   "id": "16cc76a8-377c-46e4-98ab-9e1685234ffe",
   "metadata": {},
   "outputs": [],
   "source": [
    "def agePossession3(row):\n",
    "    if row['agePossession']=='Undefined':\n",
    "        mode_value=df[(df['property_type']==row['property_type'])]['agePossession'].mode()\n",
    "        if not mode_value.empty:\n",
    "            return mode_value.iloc[0]\n",
    "        else:\n",
    "            return np.nan\n",
    "    else:\n",
    "        return row['agePossession']"
   ]
  },
  {
   "cell_type": "code",
   "execution_count": 71,
   "id": "a2adcb4c-2674-49bf-b46c-2d4563f08d46",
   "metadata": {},
   "outputs": [],
   "source": [
    "df['agePossession']=df.apply(agePossession3,axis=1)"
   ]
  },
  {
   "cell_type": "code",
   "execution_count": 72,
   "id": "3c3a64f8-7ee9-48eb-b381-b11bf3368a0c",
   "metadata": {},
   "outputs": [
    {
     "data": {
      "text/plain": [
       "agePossession\n",
       "Relatively New        1773\n",
       "New Property           628\n",
       "Moderately Old         609\n",
       "Old Property           301\n",
       "Under Construction     293\n",
       "Name: count, dtype: int64"
      ]
     },
     "execution_count": 72,
     "metadata": {},
     "output_type": "execute_result"
    }
   ],
   "source": [
    "df['agePossession'].value_counts()"
   ]
  },
  {
   "cell_type": "code",
   "execution_count": 73,
   "id": "3cc2b968-ffa6-41ea-b86d-6f105e14dec1",
   "metadata": {},
   "outputs": [
    {
     "data": {
      "text/plain": [
       "property_type          0\n",
       "society                0\n",
       "sector                 0\n",
       "price_in_lacs          0\n",
       "price_per_sqft_inrs    0\n",
       "builtup                0\n",
       "bedRoom                0\n",
       "bathroom               0\n",
       "balcony                0\n",
       "floorNum               0\n",
       "agePossession          0\n",
       "furnish_type           0\n",
       "servant_room           0\n",
       "study room             0\n",
       "pooja room             0\n",
       "store_room             0\n",
       "others                 0\n",
       "luxury_score           0\n",
       "dtype: int64"
      ]
     },
     "execution_count": 73,
     "metadata": {},
     "output_type": "execute_result"
    }
   ],
   "source": [
    "df.isnull().sum()"
   ]
  },
  {
   "cell_type": "code",
   "execution_count": 74,
   "id": "c164ffba-8269-4bf2-9373-bfe8a5e26f73",
   "metadata": {},
   "outputs": [
    {
     "data": {
      "text/plain": [
       "(3604, 18)"
      ]
     },
     "execution_count": 74,
     "metadata": {},
     "output_type": "execute_result"
    }
   ],
   "source": [
    "df.shape"
   ]
  },
  {
   "cell_type": "code",
   "execution_count": 75,
   "id": "b1ccd422-13bd-4731-9eed-5905582f769e",
   "metadata": {},
   "outputs": [],
   "source": [
    "df.to_csv(r'C:\\Users\\abc\\Data Science and ML\\CampusX\\Project\\self\\project_4.csv',index=False)"
   ]
  },
  {
   "cell_type": "code",
   "execution_count": null,
   "id": "984a22ab-2aec-45fd-bdee-e49506fda937",
   "metadata": {},
   "outputs": [],
   "source": []
  }
 ],
 "metadata": {
  "kernelspec": {
   "display_name": "Python 3 (ipykernel)",
   "language": "python",
   "name": "python3"
  },
  "language_info": {
   "codemirror_mode": {
    "name": "ipython",
    "version": 3
   },
   "file_extension": ".py",
   "mimetype": "text/x-python",
   "name": "python",
   "nbconvert_exporter": "python",
   "pygments_lexer": "ipython3",
   "version": "3.12.7"
  }
 },
 "nbformat": 4,
 "nbformat_minor": 5
}
