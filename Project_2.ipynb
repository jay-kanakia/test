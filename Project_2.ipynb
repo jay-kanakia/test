{
 "cells": [
  {
   "cell_type": "code",
   "execution_count": 1,
   "id": "7970142e-08eb-4d51-8416-4de26d4527a1",
   "metadata": {},
   "outputs": [],
   "source": [
    "import pandas as pd"
   ]
  },
  {
   "cell_type": "code",
   "execution_count": 2,
   "id": "142bf8eb-b6c5-498b-8370-4a47938ed9ab",
   "metadata": {},
   "outputs": [],
   "source": [
    "df=pd.read_csv(r'C:\\Users\\abc\\Data Science and ML\\CampusX\\Project\\houses.csv')"
   ]
  },
  {
   "cell_type": "code",
   "execution_count": 3,
   "id": "f951abe9-df17-4bbd-806e-67496080b944",
   "metadata": {},
   "outputs": [
    {
     "data": {
      "text/html": [
       "<div>\n",
       "<style scoped>\n",
       "    .dataframe tbody tr th:only-of-type {\n",
       "        vertical-align: middle;\n",
       "    }\n",
       "\n",
       "    .dataframe tbody tr th {\n",
       "        vertical-align: top;\n",
       "    }\n",
       "\n",
       "    .dataframe thead th {\n",
       "        text-align: right;\n",
       "    }\n",
       "</style>\n",
       "<table border=\"1\" class=\"dataframe\">\n",
       "  <thead>\n",
       "    <tr style=\"text-align: right;\">\n",
       "      <th></th>\n",
       "      <th>property_name</th>\n",
       "      <th>link</th>\n",
       "      <th>society</th>\n",
       "      <th>price</th>\n",
       "      <th>rate</th>\n",
       "      <th>area</th>\n",
       "      <th>areaWithType</th>\n",
       "      <th>bedRoom</th>\n",
       "      <th>bathroom</th>\n",
       "      <th>balcony</th>\n",
       "      <th>...</th>\n",
       "      <th>address</th>\n",
       "      <th>noOfFloor</th>\n",
       "      <th>facing</th>\n",
       "      <th>agePossession</th>\n",
       "      <th>nearbyLocations</th>\n",
       "      <th>description</th>\n",
       "      <th>furnishDetails</th>\n",
       "      <th>features</th>\n",
       "      <th>rating</th>\n",
       "      <th>property_id</th>\n",
       "    </tr>\n",
       "  </thead>\n",
       "  <tbody>\n",
       "    <tr>\n",
       "      <th>272</th>\n",
       "      <td>4 Bedroom House for sale in Ravi Nagar</td>\n",
       "      <td>https://www.99acres.com/4-bhk-bedroom-independ...</td>\n",
       "      <td>NaN</td>\n",
       "      <td>1.1 Crore</td>\n",
       "      <td>₹ 55,000/sq.ft.</td>\n",
       "      <td>(19 sq.m.) Plot Area</td>\n",
       "      <td>Plot area 200(18.58 sq.m.)</td>\n",
       "      <td>4 Bedrooms</td>\n",
       "      <td>3 Bathrooms</td>\n",
       "      <td>1 Balcony</td>\n",
       "      <td>...</td>\n",
       "      <td>15/2 Gali No 3, Ravi Nagar, Gurgaon, Haryana</td>\n",
       "      <td>2 Floors</td>\n",
       "      <td>North-East</td>\n",
       "      <td>10+ Year Old</td>\n",
       "      <td>['Hanuman Mandir', 'Sharma Hospital Gurgaon', ...</td>\n",
       "      <td>Interested to sell independent house/villa.It ...</td>\n",
       "      <td>NaN</td>\n",
       "      <td>NaN</td>\n",
       "      <td>NaN</td>\n",
       "      <td>O27405853</td>\n",
       "    </tr>\n",
       "    <tr>\n",
       "      <th>322</th>\n",
       "      <td>4 Bedroom House for sale in Pratap Nagar</td>\n",
       "      <td>https://www.99acres.com/4-bhk-bedroom-independ...</td>\n",
       "      <td>NaN</td>\n",
       "      <td>2.1 Crore</td>\n",
       "      <td>₹ 8,386/sq.ft.</td>\n",
       "      <td>(233 sq.m.) Built-up Area</td>\n",
       "      <td>Built Up area: 2504 (232.63 sq.m.)</td>\n",
       "      <td>4 Bedrooms</td>\n",
       "      <td>3 Bathrooms</td>\n",
       "      <td>No Balcony</td>\n",
       "      <td>...</td>\n",
       "      <td>Pratap Nagar, Pratap Nagar, Gurgaon, Haryana</td>\n",
       "      <td>2 Floors</td>\n",
       "      <td>NaN</td>\n",
       "      <td>undefined</td>\n",
       "      <td>NaN</td>\n",
       "      <td>Best in class property available at pratap nag...</td>\n",
       "      <td>['1 Light', 'No AC', 'No Bed', 'No Chimney', '...</td>\n",
       "      <td>NaN</td>\n",
       "      <td>NaN</td>\n",
       "      <td>K69442020</td>\n",
       "    </tr>\n",
       "  </tbody>\n",
       "</table>\n",
       "<p>2 rows × 21 columns</p>\n",
       "</div>"
      ],
      "text/plain": [
       "                                property_name  \\\n",
       "272    4 Bedroom House for sale in Ravi Nagar   \n",
       "322  4 Bedroom House for sale in Pratap Nagar   \n",
       "\n",
       "                                                  link society      price  \\\n",
       "272  https://www.99acres.com/4-bhk-bedroom-independ...     NaN  1.1 Crore   \n",
       "322  https://www.99acres.com/4-bhk-bedroom-independ...     NaN  2.1 Crore   \n",
       "\n",
       "                rate                       area  \\\n",
       "272  ₹ 55,000/sq.ft.       (19 sq.m.) Plot Area   \n",
       "322   ₹ 8,386/sq.ft.  (233 sq.m.) Built-up Area   \n",
       "\n",
       "                           areaWithType     bedRoom     bathroom     balcony  \\\n",
       "272          Plot area 200(18.58 sq.m.)  4 Bedrooms  3 Bathrooms   1 Balcony   \n",
       "322  Built Up area: 2504 (232.63 sq.m.)  4 Bedrooms  3 Bathrooms  No Balcony   \n",
       "\n",
       "     ...                                       address noOfFloor      facing  \\\n",
       "272  ...  15/2 Gali No 3, Ravi Nagar, Gurgaon, Haryana  2 Floors  North-East   \n",
       "322  ...  Pratap Nagar, Pratap Nagar, Gurgaon, Haryana  2 Floors         NaN   \n",
       "\n",
       "    agePossession                                    nearbyLocations  \\\n",
       "272  10+ Year Old  ['Hanuman Mandir', 'Sharma Hospital Gurgaon', ...   \n",
       "322     undefined                                                NaN   \n",
       "\n",
       "                                           description  \\\n",
       "272  Interested to sell independent house/villa.It ...   \n",
       "322  Best in class property available at pratap nag...   \n",
       "\n",
       "                                        furnishDetails features rating  \\\n",
       "272                                                NaN      NaN    NaN   \n",
       "322  ['1 Light', 'No AC', 'No Bed', 'No Chimney', '...      NaN    NaN   \n",
       "\n",
       "    property_id  \n",
       "272   O27405853  \n",
       "322   K69442020  \n",
       "\n",
       "[2 rows x 21 columns]"
      ]
     },
     "execution_count": 3,
     "metadata": {},
     "output_type": "execute_result"
    }
   ],
   "source": [
    "df.sample(2)"
   ]
  },
  {
   "cell_type": "code",
   "execution_count": 4,
   "id": "e33fe6ce-5588-4ea4-b939-b4865b9ef591",
   "metadata": {},
   "outputs": [],
   "source": [
    "df.drop(columns=['link','property_id'],inplace=True)"
   ]
  },
  {
   "cell_type": "code",
   "execution_count": 5,
   "id": "672bde1e-6042-4518-989a-7bf2de4d2bad",
   "metadata": {},
   "outputs": [
    {
     "data": {
      "text/html": [
       "<div>\n",
       "<style scoped>\n",
       "    .dataframe tbody tr th:only-of-type {\n",
       "        vertical-align: middle;\n",
       "    }\n",
       "\n",
       "    .dataframe tbody tr th {\n",
       "        vertical-align: top;\n",
       "    }\n",
       "\n",
       "    .dataframe thead th {\n",
       "        text-align: right;\n",
       "    }\n",
       "</style>\n",
       "<table border=\"1\" class=\"dataframe\">\n",
       "  <thead>\n",
       "    <tr style=\"text-align: right;\">\n",
       "      <th></th>\n",
       "      <th>property_name</th>\n",
       "      <th>society</th>\n",
       "      <th>price</th>\n",
       "      <th>rate</th>\n",
       "      <th>area</th>\n",
       "      <th>areaWithType</th>\n",
       "      <th>bedRoom</th>\n",
       "      <th>bathroom</th>\n",
       "      <th>balcony</th>\n",
       "      <th>additionalRoom</th>\n",
       "      <th>address</th>\n",
       "      <th>noOfFloor</th>\n",
       "      <th>facing</th>\n",
       "      <th>agePossession</th>\n",
       "      <th>nearbyLocations</th>\n",
       "      <th>description</th>\n",
       "      <th>furnishDetails</th>\n",
       "      <th>features</th>\n",
       "      <th>rating</th>\n",
       "    </tr>\n",
       "  </thead>\n",
       "  <tbody>\n",
       "    <tr>\n",
       "      <th>299</th>\n",
       "      <td>2 Bedroom House for sale in Shakti Nagar</td>\n",
       "      <td>NaN</td>\n",
       "      <td>NaN</td>\n",
       "      <td>NaN</td>\n",
       "      <td>(93 sq.m.) Plot Area</td>\n",
       "      <td>Plot area 1000(92.9 sq.m.)</td>\n",
       "      <td>2 Bedrooms</td>\n",
       "      <td>2 Bathrooms</td>\n",
       "      <td>1 Balcony</td>\n",
       "      <td>NaN</td>\n",
       "      <td>Shakti Nagar, Gurgaon, Haryana</td>\n",
       "      <td>1 Floors</td>\n",
       "      <td>NaN</td>\n",
       "      <td>5 to 10 Year Old</td>\n",
       "      <td>['Lal Superspeciality Hospital', 'Shri Gobind ...</td>\n",
       "      <td>2 bath, dimensions 1000 x 500 ft, semi-Furnish...</td>\n",
       "      <td>['1 Light', 'No AC', 'No Bed', 'No Chimney', '...</td>\n",
       "      <td>NaN</td>\n",
       "      <td>['Environment4 out of 5', 'Lifestyle4 out of 5...</td>\n",
       "    </tr>\n",
       "  </tbody>\n",
       "</table>\n",
       "</div>"
      ],
      "text/plain": [
       "                                property_name society price rate  \\\n",
       "299  2 Bedroom House for sale in Shakti Nagar     NaN   NaN  NaN   \n",
       "\n",
       "                     area                areaWithType     bedRoom  \\\n",
       "299  (93 sq.m.) Plot Area  Plot area 1000(92.9 sq.m.)  2 Bedrooms   \n",
       "\n",
       "        bathroom    balcony additionalRoom                         address  \\\n",
       "299  2 Bathrooms  1 Balcony            NaN  Shakti Nagar, Gurgaon, Haryana   \n",
       "\n",
       "    noOfFloor facing     agePossession  \\\n",
       "299  1 Floors    NaN  5 to 10 Year Old   \n",
       "\n",
       "                                       nearbyLocations  \\\n",
       "299  ['Lal Superspeciality Hospital', 'Shri Gobind ...   \n",
       "\n",
       "                                           description  \\\n",
       "299  2 bath, dimensions 1000 x 500 ft, semi-Furnish...   \n",
       "\n",
       "                                        furnishDetails features  \\\n",
       "299  ['1 Light', 'No AC', 'No Bed', 'No Chimney', '...      NaN   \n",
       "\n",
       "                                                rating  \n",
       "299  ['Environment4 out of 5', 'Lifestyle4 out of 5...  "
      ]
     },
     "execution_count": 5,
     "metadata": {},
     "output_type": "execute_result"
    }
   ],
   "source": [
    "df.sample(1)"
   ]
  },
  {
   "cell_type": "code",
   "execution_count": 6,
   "id": "c6cc0cf4-bbbb-4766-b897-47060335c4b8",
   "metadata": {},
   "outputs": [],
   "source": [
    "pd.set_option('display.max_rows',None)\n",
    "pd.set_option('display.max_columns',None)"
   ]
  },
  {
   "cell_type": "code",
   "execution_count": 7,
   "id": "ae6871b0-a2f1-4fbf-a880-150202bb9420",
   "metadata": {},
   "outputs": [
    {
     "name": "stdout",
     "output_type": "stream",
     "text": [
      "<class 'pandas.core.frame.DataFrame'>\n",
      "RangeIndex: 1044 entries, 0 to 1043\n",
      "Data columns (total 19 columns):\n",
      " #   Column           Non-Null Count  Dtype \n",
      "---  ------           --------------  ----- \n",
      " 0   property_name    1044 non-null   object\n",
      " 1   society          453 non-null    object\n",
      " 2   price            968 non-null    object\n",
      " 3   rate             1005 non-null   object\n",
      " 4   area             1044 non-null   object\n",
      " 5   areaWithType     987 non-null    object\n",
      " 6   bedRoom          987 non-null    object\n",
      " 7   bathroom         987 non-null    object\n",
      " 8   balcony          987 non-null    object\n",
      " 9   additionalRoom   589 non-null    object\n",
      " 10  address          1031 non-null   object\n",
      " 11  noOfFloor        967 non-null    object\n",
      " 12  facing           674 non-null    object\n",
      " 13  agePossession    987 non-null    object\n",
      " 14  nearbyLocations  913 non-null    object\n",
      " 15  description      1036 non-null   object\n",
      " 16  furnishDetails   743 non-null    object\n",
      " 17  features         674 non-null    object\n",
      " 18  rating           907 non-null    object\n",
      "dtypes: object(19)\n",
      "memory usage: 155.1+ KB\n"
     ]
    }
   ],
   "source": [
    "df.info()"
   ]
  },
  {
   "cell_type": "code",
   "execution_count": 8,
   "id": "1902838e-18b8-4a12-9a14-032eda50520f",
   "metadata": {},
   "outputs": [
    {
     "data": {
      "text/plain": [
       "property_name        0\n",
       "society            591\n",
       "price               76\n",
       "rate                39\n",
       "area                 0\n",
       "areaWithType        57\n",
       "bedRoom             57\n",
       "bathroom            57\n",
       "balcony             57\n",
       "additionalRoom     455\n",
       "address             13\n",
       "noOfFloor           77\n",
       "facing             370\n",
       "agePossession       57\n",
       "nearbyLocations    131\n",
       "description          8\n",
       "furnishDetails     301\n",
       "features           370\n",
       "rating             137\n",
       "dtype: int64"
      ]
     },
     "execution_count": 8,
     "metadata": {},
     "output_type": "execute_result"
    }
   ],
   "source": [
    "df.isnull().sum()"
   ]
  },
  {
   "cell_type": "code",
   "execution_count": 9,
   "id": "fb5e4b0b-6292-403a-aaac-6804d0bc9651",
   "metadata": {},
   "outputs": [
    {
     "data": {
      "text/plain": [
       "(1044, 19)"
      ]
     },
     "execution_count": 9,
     "metadata": {},
     "output_type": "execute_result"
    }
   ],
   "source": [
    "df.shape"
   ]
  },
  {
   "cell_type": "code",
   "execution_count": 10,
   "id": "f59805f1-53b4-4de9-95dc-60040933d2b0",
   "metadata": {},
   "outputs": [
    {
     "data": {
      "text/plain": [
       "21"
      ]
     },
     "execution_count": 10,
     "metadata": {},
     "output_type": "execute_result"
    }
   ],
   "source": [
    "df.duplicated().sum()"
   ]
  },
  {
   "cell_type": "code",
   "execution_count": 11,
   "id": "6c57285d-a69a-4330-8d99-01558826943d",
   "metadata": {},
   "outputs": [],
   "source": [
    "df.drop_duplicates(inplace=True)"
   ]
  },
  {
   "cell_type": "code",
   "execution_count": 12,
   "id": "9a5758b9-d39c-4504-a946-93fe3e45e35f",
   "metadata": {},
   "outputs": [
    {
     "data": {
      "text/plain": [
       "0"
      ]
     },
     "execution_count": 12,
     "metadata": {},
     "output_type": "execute_result"
    }
   ],
   "source": [
    "df.duplicated().sum()"
   ]
  },
  {
   "cell_type": "markdown",
   "id": "8a1ac430-dbb4-4645-91ce-5533ecca75d3",
   "metadata": {},
   "source": [
    "# society column"
   ]
  },
  {
   "cell_type": "code",
   "execution_count": 13,
   "id": "0425186e-01c9-4fd8-8693-91848f489018",
   "metadata": {},
   "outputs": [],
   "source": [
    "#df['society'].value_counts()"
   ]
  },
  {
   "cell_type": "code",
   "execution_count": 14,
   "id": "d51058a0-35d7-4f6c-a323-f41ef621eb9e",
   "metadata": {},
   "outputs": [],
   "source": [
    "import re\n",
    "df['society'] = df['society'].apply(lambda name: re.sub(r'\\d+(\\.\\d+)?\\s?★', '', str(name)).strip()).str.lower()"
   ]
  },
  {
   "cell_type": "code",
   "execution_count": 15,
   "id": "bf2e45ad-1cc4-4929-ac49-8bc9044f0a05",
   "metadata": {},
   "outputs": [],
   "source": [
    "df['society'] = df['society'].str.replace('nan','independent')"
   ]
  },
  {
   "cell_type": "markdown",
   "id": "3a66dbf5-1a90-412f-b351-c2ba465545b4",
   "metadata": {},
   "source": [
    "# price column"
   ]
  },
  {
   "cell_type": "code",
   "execution_count": 18,
   "id": "92224634-51ae-46b3-8a8d-7baf3411ac01",
   "metadata": {},
   "outputs": [],
   "source": [
    "df['price']=df['price'][df['price']!='Price on Request']"
   ]
  },
  {
   "cell_type": "code",
   "execution_count": 23,
   "id": "150a18eb-d434-402d-b2f9-8d4948cf1034",
   "metadata": {},
   "outputs": [],
   "source": [
    "df.dropna(subset=['price'],inplace=True)"
   ]
  },
  {
   "cell_type": "code",
   "execution_count": 24,
   "id": "7c22a7fa-d2c8-4cc2-b685-121a21fb2fc9",
   "metadata": {},
   "outputs": [
    {
     "data": {
      "text/plain": [
       "0"
      ]
     },
     "execution_count": 24,
     "metadata": {},
     "output_type": "execute_result"
    }
   ],
   "source": [
    "df['price'].isnull().sum()"
   ]
  },
  {
   "cell_type": "code",
   "execution_count": 25,
   "id": "54d46057-a2c1-438e-b346-15ba977d2be9",
   "metadata": {},
   "outputs": [],
   "source": [
    "#df['price'].value_counts()"
   ]
  },
  {
   "cell_type": "code",
   "execution_count": 26,
   "id": "8d87360e-8054-4138-8236-5aa4d6c490cd",
   "metadata": {},
   "outputs": [],
   "source": [
    "def clean_price(price):\n",
    "    if 'crore' in price:\n",
    "        return float(price.split(' ')[0])*100\n",
    "    elif 'lac' in price:\n",
    "        return float(price.split(' ')[0])"
   ]
  },
  {
   "cell_type": "code",
   "execution_count": 27,
   "id": "92ed9abd-84ba-4c17-a6f1-b56ff0c2489d",
   "metadata": {},
   "outputs": [],
   "source": [
    "df['price']=df['price'].str.lower().str.strip().apply(clean_price)"
   ]
  },
  {
   "cell_type": "markdown",
   "id": "5fefd1d2-5157-48dc-9f8f-65750da512fc",
   "metadata": {},
   "source": [
    "# rate : price_per_sqft column"
   ]
  },
  {
   "cell_type": "code",
   "execution_count": 36,
   "id": "e2989ba5-83c3-484d-bb57-c4e2f5a0c8e0",
   "metadata": {},
   "outputs": [],
   "source": [
    "df['rate']=df['rate'].str.split('/').str.get(0).str.strip().str.split(' ').str.get(1).str.strip().str.replace(',','').astype('float')"
   ]
  },
  {
   "cell_type": "code",
   "execution_count": 38,
   "id": "c6400903-3a0e-4bb6-a502-ea18b08f2c31",
   "metadata": {},
   "outputs": [],
   "source": [
    "df.rename(columns={'price':'price_in_lacs','rate':'rate_per_sqft_inrs'},inplace=True)"
   ]
  },
  {
   "cell_type": "markdown",
   "id": "f86eb940-2d72-49d6-ab15-232f7a3b8fb8",
   "metadata": {},
   "source": [
    "# bedroom column"
   ]
  },
  {
   "cell_type": "code",
   "execution_count": 42,
   "id": "52c18ecd-87f3-44af-afe9-2a8f1b4a5be4",
   "metadata": {},
   "outputs": [
    {
     "data": {
      "text/plain": [
       "bedRoom\n",
       "4 Bedrooms     230\n",
       "5 Bedrooms     183\n",
       "3 Bedrooms     146\n",
       "2 Bedrooms      87\n",
       "6 Bedrooms      80\n",
       "9 Bedrooms      44\n",
       "1 Bedroom       38\n",
       "8 Bedrooms      33\n",
       "7 Bedrooms      30\n",
       "12 Bedrooms     27\n",
       "10 Bedrooms     21\n",
       "16 Bedrooms     11\n",
       "13 Bedrooms      4\n",
       "18 Bedrooms      2\n",
       "19 Bedrooms      2\n",
       "11 Bedrooms      2\n",
       "20 Bedrooms      1\n",
       "21 Bedrooms      1\n",
       "36 Bedrooms      1\n",
       "34 Bedrooms      1\n",
       "14 Bedrooms      1\n",
       "Name: count, dtype: int64"
      ]
     },
     "execution_count": 42,
     "metadata": {},
     "output_type": "execute_result"
    }
   ],
   "source": [
    "df['bedRoom'].value_counts()"
   ]
  },
  {
   "cell_type": "code",
   "execution_count": 47,
   "id": "eb173d8e-42b2-4c55-a7e9-5a8827a2b81f",
   "metadata": {},
   "outputs": [],
   "source": [
    "df['bedRoom']=df['bedRoom'].str.strip().str.split(' ').str.get(0).astype('int')"
   ]
  },
  {
   "cell_type": "markdown",
   "id": "4ac01b0d-bc08-43bf-8b03-52b1ff50ec2c",
   "metadata": {},
   "source": [
    "# bathroom column"
   ]
  },
  {
   "cell_type": "code",
   "execution_count": 53,
   "id": "5ce2dc8b-035b-48e9-b309-9ac994895c90",
   "metadata": {},
   "outputs": [],
   "source": [
    "df['bathroom']=df['bathroom'].str.strip().str.split(' ').str.get(0).astype('int')"
   ]
  },
  {
   "cell_type": "markdown",
   "id": "4611a8b4-52d7-45fd-94b4-669c89885349",
   "metadata": {},
   "source": [
    "# balcony column"
   ]
  },
  {
   "cell_type": "code",
   "execution_count": 56,
   "id": "74cc82c3-b751-4665-8e30-458a0746c00b",
   "metadata": {},
   "outputs": [
    {
     "data": {
      "text/plain": [
       "balcony\n",
       "3+ Balconies    352\n",
       "2 Balconies     217\n",
       "3 Balconies     158\n",
       "No Balcony      114\n",
       "1 Balcony       104\n",
       "Name: count, dtype: int64"
      ]
     },
     "execution_count": 56,
     "metadata": {},
     "output_type": "execute_result"
    }
   ],
   "source": [
    "df['balcony'].value_counts()"
   ]
  },
  {
   "cell_type": "code",
   "execution_count": 61,
   "id": "15e8e3c3-fc07-4e5a-8cf3-b1ab6fc83037",
   "metadata": {},
   "outputs": [],
   "source": [
    "df['balcony']=df['balcony'].str.strip().str.replace('Balconies','').str.replace('No Balcony','0').str.replace('Balcony','')"
   ]
  },
  {
   "cell_type": "markdown",
   "id": "e5e1e1bd-134c-433b-a411-a0d6c152a03c",
   "metadata": {},
   "source": [
    "# additional room  column"
   ]
  },
  {
   "cell_type": "code",
   "execution_count": 62,
   "id": "e8753a8a-376b-47b9-bcd6-7765897b01ed",
   "metadata": {},
   "outputs": [
    {
     "data": {
      "text/html": [
       "<div>\n",
       "<style scoped>\n",
       "    .dataframe tbody tr th:only-of-type {\n",
       "        vertical-align: middle;\n",
       "    }\n",
       "\n",
       "    .dataframe tbody tr th {\n",
       "        vertical-align: top;\n",
       "    }\n",
       "\n",
       "    .dataframe thead th {\n",
       "        text-align: right;\n",
       "    }\n",
       "</style>\n",
       "<table border=\"1\" class=\"dataframe\">\n",
       "  <thead>\n",
       "    <tr style=\"text-align: right;\">\n",
       "      <th></th>\n",
       "      <th>property_name</th>\n",
       "      <th>society</th>\n",
       "      <th>price_in_lacs</th>\n",
       "      <th>rate_per_sqft_inrs</th>\n",
       "      <th>area</th>\n",
       "      <th>areaWithType</th>\n",
       "      <th>bedRoom</th>\n",
       "      <th>bathroom</th>\n",
       "      <th>balcony</th>\n",
       "      <th>additionalRoom</th>\n",
       "      <th>address</th>\n",
       "      <th>noOfFloor</th>\n",
       "      <th>facing</th>\n",
       "      <th>agePossession</th>\n",
       "      <th>nearbyLocations</th>\n",
       "      <th>description</th>\n",
       "      <th>furnishDetails</th>\n",
       "      <th>features</th>\n",
       "      <th>rating</th>\n",
       "    </tr>\n",
       "  </thead>\n",
       "  <tbody>\n",
       "    <tr>\n",
       "      <th>0</th>\n",
       "      <td>5 Bedroom House for sale in Sector 70A Gurgaon</td>\n",
       "      <td>bptp visionnaire</td>\n",
       "      <td>525.0</td>\n",
       "      <td>20115.0</td>\n",
       "      <td>(242 sq.m.) Plot Area</td>\n",
       "      <td>Plot area 290(242.48 sq.m.)</td>\n",
       "      <td>5</td>\n",
       "      <td>4</td>\n",
       "      <td>3+</td>\n",
       "      <td>Servant Room</td>\n",
       "      <td>29b, Sector 70A Gurgaon, Gurgaon, Haryana</td>\n",
       "      <td>3 Floors</td>\n",
       "      <td>North-East</td>\n",
       "      <td>0 to 1 Year Old</td>\n",
       "      <td>['Good Earth City Center 2', 'Kunskapsskolan I...</td>\n",
       "      <td>Do you wish to buy an independent house in sec...</td>\n",
       "      <td>['1 Wardrobe', '1 Fan', '1 Exhaust Fan', '1 Ge...</td>\n",
       "      <td>['Feng Shui / Vaastu Compliant', 'Private Gard...</td>\n",
       "      <td>['Environment5 out of 5', 'Lifestyle4 out of 5...</td>\n",
       "    </tr>\n",
       "  </tbody>\n",
       "</table>\n",
       "</div>"
      ],
      "text/plain": [
       "                                    property_name           society  \\\n",
       "0  5 Bedroom House for sale in Sector 70A Gurgaon  bptp visionnaire   \n",
       "\n",
       "   price_in_lacs  rate_per_sqft_inrs                   area  \\\n",
       "0          525.0             20115.0  (242 sq.m.) Plot Area   \n",
       "\n",
       "                  areaWithType  bedRoom  bathroom balcony additionalRoom  \\\n",
       "0  Plot area 290(242.48 sq.m.)        5         4     3+    Servant Room   \n",
       "\n",
       "                                     address noOfFloor      facing  \\\n",
       "0  29b, Sector 70A Gurgaon, Gurgaon, Haryana  3 Floors  North-East   \n",
       "\n",
       "     agePossession                                    nearbyLocations  \\\n",
       "0  0 to 1 Year Old  ['Good Earth City Center 2', 'Kunskapsskolan I...   \n",
       "\n",
       "                                         description  \\\n",
       "0  Do you wish to buy an independent house in sec...   \n",
       "\n",
       "                                      furnishDetails  \\\n",
       "0  ['1 Wardrobe', '1 Fan', '1 Exhaust Fan', '1 Ge...   \n",
       "\n",
       "                                            features  \\\n",
       "0  ['Feng Shui / Vaastu Compliant', 'Private Gard...   \n",
       "\n",
       "                                              rating  \n",
       "0  ['Environment5 out of 5', 'Lifestyle4 out of 5...  "
      ]
     },
     "execution_count": 62,
     "metadata": {},
     "output_type": "execute_result"
    }
   ],
   "source": [
    "df.head(1)"
   ]
  },
  {
   "cell_type": "code",
   "execution_count": 65,
   "id": "89b1f1a6-9500-4d78-b4b4-7b58b32a08b1",
   "metadata": {},
   "outputs": [
    {
     "data": {
      "text/plain": [
       "379"
      ]
     },
     "execution_count": 65,
     "metadata": {},
     "output_type": "execute_result"
    }
   ],
   "source": [
    "df['additionalRoom'].isnull().sum()"
   ]
  },
  {
   "cell_type": "code",
   "execution_count": 66,
   "id": "fa1034a5-2372-4eb7-9ad4-60e987401e75",
   "metadata": {},
   "outputs": [],
   "source": [
    "df['additionalRoom'].fillna('NotAvailable',inplace=True)"
   ]
  },
  {
   "cell_type": "code",
   "execution_count": 67,
   "id": "bd49ff77-c782-4241-b334-340b1536695f",
   "metadata": {},
   "outputs": [
    {
     "data": {
      "text/plain": [
       "0"
      ]
     },
     "execution_count": 67,
     "metadata": {},
     "output_type": "execute_result"
    }
   ],
   "source": [
    "df['additionalRoom'].isnull().sum()"
   ]
  },
  {
   "cell_type": "code",
   "execution_count": 71,
   "id": "fb624e1f-486e-47f6-9074-43ff287ae971",
   "metadata": {},
   "outputs": [],
   "source": [
    "df['additionalRoom']=df['additionalRoom'].str.strip().str.lower()"
   ]
  },
  {
   "cell_type": "markdown",
   "id": "a3a70c07-1483-4ced-b8f9-db7c7abb6e71",
   "metadata": {},
   "source": [
    "# noOfFloor"
   ]
  },
  {
   "cell_type": "code",
   "execution_count": 72,
   "id": "dc6a5633-7176-43bc-81cd-9dd9f0ed988e",
   "metadata": {},
   "outputs": [
    {
     "data": {
      "text/html": [
       "<div>\n",
       "<style scoped>\n",
       "    .dataframe tbody tr th:only-of-type {\n",
       "        vertical-align: middle;\n",
       "    }\n",
       "\n",
       "    .dataframe tbody tr th {\n",
       "        vertical-align: top;\n",
       "    }\n",
       "\n",
       "    .dataframe thead th {\n",
       "        text-align: right;\n",
       "    }\n",
       "</style>\n",
       "<table border=\"1\" class=\"dataframe\">\n",
       "  <thead>\n",
       "    <tr style=\"text-align: right;\">\n",
       "      <th></th>\n",
       "      <th>property_name</th>\n",
       "      <th>society</th>\n",
       "      <th>price_in_lacs</th>\n",
       "      <th>rate_per_sqft_inrs</th>\n",
       "      <th>area</th>\n",
       "      <th>areaWithType</th>\n",
       "      <th>bedRoom</th>\n",
       "      <th>bathroom</th>\n",
       "      <th>balcony</th>\n",
       "      <th>additionalRoom</th>\n",
       "      <th>address</th>\n",
       "      <th>noOfFloor</th>\n",
       "      <th>facing</th>\n",
       "      <th>agePossession</th>\n",
       "      <th>nearbyLocations</th>\n",
       "      <th>description</th>\n",
       "      <th>furnishDetails</th>\n",
       "      <th>features</th>\n",
       "      <th>rating</th>\n",
       "    </tr>\n",
       "  </thead>\n",
       "  <tbody>\n",
       "    <tr>\n",
       "      <th>0</th>\n",
       "      <td>5 Bedroom House for sale in Sector 70A Gurgaon</td>\n",
       "      <td>bptp visionnaire</td>\n",
       "      <td>525.0</td>\n",
       "      <td>20115.0</td>\n",
       "      <td>(242 sq.m.) Plot Area</td>\n",
       "      <td>Plot area 290(242.48 sq.m.)</td>\n",
       "      <td>5</td>\n",
       "      <td>4</td>\n",
       "      <td>3+</td>\n",
       "      <td>servant room</td>\n",
       "      <td>29b, Sector 70A Gurgaon, Gurgaon, Haryana</td>\n",
       "      <td>3 Floors</td>\n",
       "      <td>North-East</td>\n",
       "      <td>0 to 1 Year Old</td>\n",
       "      <td>['Good Earth City Center 2', 'Kunskapsskolan I...</td>\n",
       "      <td>Do you wish to buy an independent house in sec...</td>\n",
       "      <td>['1 Wardrobe', '1 Fan', '1 Exhaust Fan', '1 Ge...</td>\n",
       "      <td>['Feng Shui / Vaastu Compliant', 'Private Gard...</td>\n",
       "      <td>['Environment5 out of 5', 'Lifestyle4 out of 5...</td>\n",
       "    </tr>\n",
       "  </tbody>\n",
       "</table>\n",
       "</div>"
      ],
      "text/plain": [
       "                                    property_name           society  \\\n",
       "0  5 Bedroom House for sale in Sector 70A Gurgaon  bptp visionnaire   \n",
       "\n",
       "   price_in_lacs  rate_per_sqft_inrs                   area  \\\n",
       "0          525.0             20115.0  (242 sq.m.) Plot Area   \n",
       "\n",
       "                  areaWithType  bedRoom  bathroom balcony additionalRoom  \\\n",
       "0  Plot area 290(242.48 sq.m.)        5         4     3+    servant room   \n",
       "\n",
       "                                     address noOfFloor      facing  \\\n",
       "0  29b, Sector 70A Gurgaon, Gurgaon, Haryana  3 Floors  North-East   \n",
       "\n",
       "     agePossession                                    nearbyLocations  \\\n",
       "0  0 to 1 Year Old  ['Good Earth City Center 2', 'Kunskapsskolan I...   \n",
       "\n",
       "                                         description  \\\n",
       "0  Do you wish to buy an independent house in sec...   \n",
       "\n",
       "                                      furnishDetails  \\\n",
       "0  ['1 Wardrobe', '1 Fan', '1 Exhaust Fan', '1 Ge...   \n",
       "\n",
       "                                            features  \\\n",
       "0  ['Feng Shui / Vaastu Compliant', 'Private Gard...   \n",
       "\n",
       "                                              rating  \n",
       "0  ['Environment5 out of 5', 'Lifestyle4 out of 5...  "
      ]
     },
     "execution_count": 72,
     "metadata": {},
     "output_type": "execute_result"
    }
   ],
   "source": [
    "df.head(1)"
   ]
  },
  {
   "cell_type": "code",
   "execution_count": 74,
   "id": "17172209-b6b8-4e33-8f84-a27d9484584c",
   "metadata": {},
   "outputs": [
    {
     "data": {
      "text/plain": [
       "noOfFloor\n",
       "3 Floors     299\n",
       "2 Floors     282\n",
       "1 Floors     179\n",
       "4 Floors     130\n",
       "5 Floors       9\n",
       "0 Floors       6\n",
       "14 Floors      3\n",
       "6 Floors       3\n",
       "11 Floors      2\n",
       "12 Floors      2\n",
       "10 Floors      2\n",
       "16 Floors      1\n",
       "51 Floors      1\n",
       "41 Floors      1\n",
       "27 Floors      1\n",
       "20 Floors      1\n",
       "13 Floors      1\n",
       "21 Floors      1\n",
       "02 Floors      1\n",
       "33 Floors      1\n",
       "Name: count, dtype: int64"
      ]
     },
     "execution_count": 74,
     "metadata": {},
     "output_type": "execute_result"
    }
   ],
   "source": [
    "df['noOfFloor'].value_counts()"
   ]
  },
  {
   "cell_type": "code",
   "execution_count": 80,
   "id": "ce4e7a07-1d75-486e-b7e2-27856ae49a2a",
   "metadata": {},
   "outputs": [],
   "source": [
    "df['noOfFloor']=df['noOfFloor'].str.strip().str.split().str.get(0).astype('float')"
   ]
  },
  {
   "cell_type": "markdown",
   "id": "9055b0c3-714b-4118-8884-9c5c30857821",
   "metadata": {},
   "source": [
    "# facing"
   ]
  },
  {
   "cell_type": "code",
   "execution_count": 81,
   "id": "3f7a54ce-2381-4a4e-914f-dc94c8a55cab",
   "metadata": {},
   "outputs": [
    {
     "data": {
      "text/html": [
       "<div>\n",
       "<style scoped>\n",
       "    .dataframe tbody tr th:only-of-type {\n",
       "        vertical-align: middle;\n",
       "    }\n",
       "\n",
       "    .dataframe tbody tr th {\n",
       "        vertical-align: top;\n",
       "    }\n",
       "\n",
       "    .dataframe thead th {\n",
       "        text-align: right;\n",
       "    }\n",
       "</style>\n",
       "<table border=\"1\" class=\"dataframe\">\n",
       "  <thead>\n",
       "    <tr style=\"text-align: right;\">\n",
       "      <th></th>\n",
       "      <th>property_name</th>\n",
       "      <th>society</th>\n",
       "      <th>price_in_lacs</th>\n",
       "      <th>rate_per_sqft_inrs</th>\n",
       "      <th>area</th>\n",
       "      <th>areaWithType</th>\n",
       "      <th>bedRoom</th>\n",
       "      <th>bathroom</th>\n",
       "      <th>balcony</th>\n",
       "      <th>additionalRoom</th>\n",
       "      <th>address</th>\n",
       "      <th>noOfFloor</th>\n",
       "      <th>facing</th>\n",
       "      <th>agePossession</th>\n",
       "      <th>nearbyLocations</th>\n",
       "      <th>description</th>\n",
       "      <th>furnishDetails</th>\n",
       "      <th>features</th>\n",
       "      <th>rating</th>\n",
       "    </tr>\n",
       "  </thead>\n",
       "  <tbody>\n",
       "    <tr>\n",
       "      <th>0</th>\n",
       "      <td>5 Bedroom House for sale in Sector 70A Gurgaon</td>\n",
       "      <td>bptp visionnaire</td>\n",
       "      <td>525.0</td>\n",
       "      <td>20115.0</td>\n",
       "      <td>(242 sq.m.) Plot Area</td>\n",
       "      <td>Plot area 290(242.48 sq.m.)</td>\n",
       "      <td>5</td>\n",
       "      <td>4</td>\n",
       "      <td>3+</td>\n",
       "      <td>servant room</td>\n",
       "      <td>29b, Sector 70A Gurgaon, Gurgaon, Haryana</td>\n",
       "      <td>3.0</td>\n",
       "      <td>North-East</td>\n",
       "      <td>0 to 1 Year Old</td>\n",
       "      <td>['Good Earth City Center 2', 'Kunskapsskolan I...</td>\n",
       "      <td>Do you wish to buy an independent house in sec...</td>\n",
       "      <td>['1 Wardrobe', '1 Fan', '1 Exhaust Fan', '1 Ge...</td>\n",
       "      <td>['Feng Shui / Vaastu Compliant', 'Private Gard...</td>\n",
       "      <td>['Environment5 out of 5', 'Lifestyle4 out of 5...</td>\n",
       "    </tr>\n",
       "  </tbody>\n",
       "</table>\n",
       "</div>"
      ],
      "text/plain": [
       "                                    property_name           society  \\\n",
       "0  5 Bedroom House for sale in Sector 70A Gurgaon  bptp visionnaire   \n",
       "\n",
       "   price_in_lacs  rate_per_sqft_inrs                   area  \\\n",
       "0          525.0             20115.0  (242 sq.m.) Plot Area   \n",
       "\n",
       "                  areaWithType  bedRoom  bathroom balcony additionalRoom  \\\n",
       "0  Plot area 290(242.48 sq.m.)        5         4     3+    servant room   \n",
       "\n",
       "                                     address  noOfFloor      facing  \\\n",
       "0  29b, Sector 70A Gurgaon, Gurgaon, Haryana        3.0  North-East   \n",
       "\n",
       "     agePossession                                    nearbyLocations  \\\n",
       "0  0 to 1 Year Old  ['Good Earth City Center 2', 'Kunskapsskolan I...   \n",
       "\n",
       "                                         description  \\\n",
       "0  Do you wish to buy an independent house in sec...   \n",
       "\n",
       "                                      furnishDetails  \\\n",
       "0  ['1 Wardrobe', '1 Fan', '1 Exhaust Fan', '1 Ge...   \n",
       "\n",
       "                                            features  \\\n",
       "0  ['Feng Shui / Vaastu Compliant', 'Private Gard...   \n",
       "\n",
       "                                              rating  \n",
       "0  ['Environment5 out of 5', 'Lifestyle4 out of 5...  "
      ]
     },
     "execution_count": 81,
     "metadata": {},
     "output_type": "execute_result"
    }
   ],
   "source": [
    "df.head(1)"
   ]
  },
  {
   "cell_type": "code",
   "execution_count": 83,
   "id": "41b4b395-5e63-47f6-8123-ff217bdce58a",
   "metadata": {},
   "outputs": [
    {
     "data": {
      "text/plain": [
       "facing\n",
       "East          176\n",
       "North-East    156\n",
       "North         107\n",
       "West           72\n",
       "North-West     43\n",
       "South-East     37\n",
       "South          33\n",
       "South-West     24\n",
       "Name: count, dtype: int64"
      ]
     },
     "execution_count": 83,
     "metadata": {},
     "output_type": "execute_result"
    }
   ],
   "source": [
    "df['facing'].value_counts()"
   ]
  },
  {
   "cell_type": "code",
   "execution_count": 84,
   "id": "a5345c4d-333d-401e-b708-4c184490e704",
   "metadata": {},
   "outputs": [
    {
     "data": {
      "text/plain": [
       "297"
      ]
     },
     "execution_count": 84,
     "metadata": {},
     "output_type": "execute_result"
    }
   ],
   "source": [
    "df['facing'].isnull().sum()"
   ]
  },
  {
   "cell_type": "code",
   "execution_count": 85,
   "id": "9be4dfbe-ae6b-4798-be46-dadcd98f53c4",
   "metadata": {},
   "outputs": [],
   "source": [
    "df['facing'].fillna('NA',inplace=True)"
   ]
  },
  {
   "cell_type": "code",
   "execution_count": 86,
   "id": "51b61057-7671-4c01-b41e-19e0e00c4345",
   "metadata": {},
   "outputs": [
    {
     "data": {
      "text/plain": [
       "0"
      ]
     },
     "execution_count": 86,
     "metadata": {},
     "output_type": "execute_result"
    }
   ],
   "source": [
    "df['facing'].isnull().sum()"
   ]
  },
  {
   "cell_type": "code",
   "execution_count": 88,
   "id": "98e3f816-3e5d-4d3d-be47-978700aba332",
   "metadata": {},
   "outputs": [
    {
     "data": {
      "text/html": [
       "<div>\n",
       "<style scoped>\n",
       "    .dataframe tbody tr th:only-of-type {\n",
       "        vertical-align: middle;\n",
       "    }\n",
       "\n",
       "    .dataframe tbody tr th {\n",
       "        vertical-align: top;\n",
       "    }\n",
       "\n",
       "    .dataframe thead th {\n",
       "        text-align: right;\n",
       "    }\n",
       "</style>\n",
       "<table border=\"1\" class=\"dataframe\">\n",
       "  <thead>\n",
       "    <tr style=\"text-align: right;\">\n",
       "      <th></th>\n",
       "      <th>property_name</th>\n",
       "      <th>society</th>\n",
       "      <th>price_in_lacs</th>\n",
       "      <th>rate_per_sqft_inrs</th>\n",
       "      <th>area</th>\n",
       "      <th>areaWithType</th>\n",
       "      <th>bedRoom</th>\n",
       "      <th>bathroom</th>\n",
       "      <th>balcony</th>\n",
       "      <th>additionalRoom</th>\n",
       "      <th>address</th>\n",
       "      <th>noOfFloor</th>\n",
       "      <th>facing</th>\n",
       "      <th>agePossession</th>\n",
       "      <th>nearbyLocations</th>\n",
       "      <th>description</th>\n",
       "      <th>furnishDetails</th>\n",
       "      <th>features</th>\n",
       "      <th>rating</th>\n",
       "    </tr>\n",
       "  </thead>\n",
       "  <tbody>\n",
       "    <tr>\n",
       "      <th>875</th>\n",
       "      <td>5 Bedroom House for sale in Sector 66 Gurgaon</td>\n",
       "      <td>emaar mgf marbella</td>\n",
       "      <td>1100.0</td>\n",
       "      <td>33951.0</td>\n",
       "      <td>(301 sq.m.) Plot Area</td>\n",
       "      <td>Plot area 360(301.01 sq.m.)</td>\n",
       "      <td>5</td>\n",
       "      <td>6</td>\n",
       "      <td>3+</td>\n",
       "      <td>pooja room,study room,servant room,store room</td>\n",
       "      <td>Emaar Mgf Marbella, Sector 66, Gurugram, Secto...</td>\n",
       "      <td>2.0</td>\n",
       "      <td>North-East</td>\n",
       "      <td>0 to 1 Year Old</td>\n",
       "      <td>['Sector 55-56 Rapid Metro Station', 'HUB 66',...</td>\n",
       "      <td>360 sq yards duplex villa available for sale i...</td>\n",
       "      <td>['4 Wardrobe', '7 Fan', '1 Fridge', '1 Exhaust...</td>\n",
       "      <td>['Security / Fire Alarm', 'Feng Shui / Vaastu ...</td>\n",
       "      <td>['Environment3 out of 5', 'Safety4 out of 5', ...</td>\n",
       "    </tr>\n",
       "    <tr>\n",
       "      <th>828</th>\n",
       "      <td>4 Bedroom House for sale in Sector 109 Gurgaon</td>\n",
       "      <td>international city by sobha phase 2</td>\n",
       "      <td>848.0</td>\n",
       "      <td>23556.0</td>\n",
       "      <td>(334 sq.m.) Plot Area</td>\n",
       "      <td>Plot area 400(334.45 sq.m.)</td>\n",
       "      <td>4</td>\n",
       "      <td>6</td>\n",
       "      <td>3+</td>\n",
       "      <td>pooja room,study room,servant room,store room</td>\n",
       "      <td>A123, Sector 109 Gurgaon, Gurgaon, Haryana</td>\n",
       "      <td>3.0</td>\n",
       "      <td>North-East</td>\n",
       "      <td>0 to 1 Year Old</td>\n",
       "      <td>['Dwarka Sector 21 Metro Station', 'Pacific D2...</td>\n",
       "      <td>400 sqyd plot , 4bhk sobha villa with lift pro...</td>\n",
       "      <td>NaN</td>\n",
       "      <td>['Security / Fire Alarm', 'Feng Shui / Vaastu ...</td>\n",
       "      <td>['Environment5 out of 5', 'Lifestyle4 out of 5...</td>\n",
       "    </tr>\n",
       "  </tbody>\n",
       "</table>\n",
       "</div>"
      ],
      "text/plain": [
       "                                      property_name  \\\n",
       "875   5 Bedroom House for sale in Sector 66 Gurgaon   \n",
       "828  4 Bedroom House for sale in Sector 109 Gurgaon   \n",
       "\n",
       "                                 society  price_in_lacs  rate_per_sqft_inrs  \\\n",
       "875                   emaar mgf marbella         1100.0             33951.0   \n",
       "828  international city by sobha phase 2          848.0             23556.0   \n",
       "\n",
       "                      area                 areaWithType  bedRoom  bathroom  \\\n",
       "875  (301 sq.m.) Plot Area  Plot area 360(301.01 sq.m.)        5         6   \n",
       "828  (334 sq.m.) Plot Area  Plot area 400(334.45 sq.m.)        4         6   \n",
       "\n",
       "    balcony                                 additionalRoom  \\\n",
       "875     3+   pooja room,study room,servant room,store room   \n",
       "828     3+   pooja room,study room,servant room,store room   \n",
       "\n",
       "                                               address  noOfFloor      facing  \\\n",
       "875  Emaar Mgf Marbella, Sector 66, Gurugram, Secto...        2.0  North-East   \n",
       "828         A123, Sector 109 Gurgaon, Gurgaon, Haryana        3.0  North-East   \n",
       "\n",
       "       agePossession                                    nearbyLocations  \\\n",
       "875  0 to 1 Year Old  ['Sector 55-56 Rapid Metro Station', 'HUB 66',...   \n",
       "828  0 to 1 Year Old  ['Dwarka Sector 21 Metro Station', 'Pacific D2...   \n",
       "\n",
       "                                           description  \\\n",
       "875  360 sq yards duplex villa available for sale i...   \n",
       "828  400 sqyd plot , 4bhk sobha villa with lift pro...   \n",
       "\n",
       "                                        furnishDetails  \\\n",
       "875  ['4 Wardrobe', '7 Fan', '1 Fridge', '1 Exhaust...   \n",
       "828                                                NaN   \n",
       "\n",
       "                                              features  \\\n",
       "875  ['Security / Fire Alarm', 'Feng Shui / Vaastu ...   \n",
       "828  ['Security / Fire Alarm', 'Feng Shui / Vaastu ...   \n",
       "\n",
       "                                                rating  \n",
       "875  ['Environment3 out of 5', 'Safety4 out of 5', ...  \n",
       "828  ['Environment5 out of 5', 'Lifestyle4 out of 5...  "
      ]
     },
     "execution_count": 88,
     "metadata": {},
     "output_type": "execute_result"
    }
   ],
   "source": [
    "df.sample(2)"
   ]
  },
  {
   "cell_type": "markdown",
   "id": "dd6023a8-8587-4460-b14b-081f863ebd2b",
   "metadata": {},
   "source": [
    "# propert type"
   ]
  },
  {
   "cell_type": "code",
   "execution_count": 89,
   "id": "262b8781-dcf7-4909-a6ea-1a2440090fc9",
   "metadata": {},
   "outputs": [],
   "source": [
    "df.insert(1,'property_type','house')"
   ]
  },
  {
   "cell_type": "code",
   "execution_count": 90,
   "id": "e08a8922-b2a4-4d2a-af8e-58f5ab7645c5",
   "metadata": {},
   "outputs": [
    {
     "data": {
      "text/html": [
       "<div>\n",
       "<style scoped>\n",
       "    .dataframe tbody tr th:only-of-type {\n",
       "        vertical-align: middle;\n",
       "    }\n",
       "\n",
       "    .dataframe tbody tr th {\n",
       "        vertical-align: top;\n",
       "    }\n",
       "\n",
       "    .dataframe thead th {\n",
       "        text-align: right;\n",
       "    }\n",
       "</style>\n",
       "<table border=\"1\" class=\"dataframe\">\n",
       "  <thead>\n",
       "    <tr style=\"text-align: right;\">\n",
       "      <th></th>\n",
       "      <th>property_name</th>\n",
       "      <th>property_type</th>\n",
       "      <th>society</th>\n",
       "      <th>price_in_lacs</th>\n",
       "      <th>rate_per_sqft_inrs</th>\n",
       "      <th>area</th>\n",
       "      <th>areaWithType</th>\n",
       "      <th>bedRoom</th>\n",
       "      <th>bathroom</th>\n",
       "      <th>balcony</th>\n",
       "      <th>additionalRoom</th>\n",
       "      <th>address</th>\n",
       "      <th>noOfFloor</th>\n",
       "      <th>facing</th>\n",
       "      <th>agePossession</th>\n",
       "      <th>nearbyLocations</th>\n",
       "      <th>description</th>\n",
       "      <th>furnishDetails</th>\n",
       "      <th>features</th>\n",
       "      <th>rating</th>\n",
       "    </tr>\n",
       "  </thead>\n",
       "  <tbody>\n",
       "    <tr>\n",
       "      <th>495</th>\n",
       "      <td>6 Bedroom House for sale in Shivaji Nagar</td>\n",
       "      <td>house</td>\n",
       "      <td>shivaji nagar residential</td>\n",
       "      <td>308.0</td>\n",
       "      <td>11407.0</td>\n",
       "      <td>(251 sq.m.) Built-up Area</td>\n",
       "      <td>Built Up area: 2700 (250.84 sq.m.)</td>\n",
       "      <td>6</td>\n",
       "      <td>4</td>\n",
       "      <td>2</td>\n",
       "      <td>notavailable</td>\n",
       "      <td>4145., Shivaji Nagar, Gurgaon, Haryana</td>\n",
       "      <td>1.0</td>\n",
       "      <td>NA</td>\n",
       "      <td>undefined</td>\n",
       "      <td>['Hanuman Mandir', 'Dr. Ajay S. Gupta Clinic',...</td>\n",
       "      <td>6bhk residential house for resale in shivaji n...</td>\n",
       "      <td>['1 Wardrobe', '1 Fan', '1 Light', 'No AC', 'N...</td>\n",
       "      <td>NaN</td>\n",
       "      <td>['Environment4 out of 5', 'Lifestyle4 out of 5...</td>\n",
       "    </tr>\n",
       "    <tr>\n",
       "      <th>543</th>\n",
       "      <td>2 Bedroom House for sale in Ashok Vihar Phase 2</td>\n",
       "      <td>house</td>\n",
       "      <td>independent</td>\n",
       "      <td>40.0</td>\n",
       "      <td>8000.0</td>\n",
       "      <td>(46 sq.m.) Built-up Area</td>\n",
       "      <td>Built Up area: 500 (46.45 sq.m.)Carpet area: 3...</td>\n",
       "      <td>2</td>\n",
       "      <td>1</td>\n",
       "      <td>0</td>\n",
       "      <td>notavailable</td>\n",
       "      <td>Ashok Vihar Phase 2, Delhi Gurgaon Expressway,...</td>\n",
       "      <td>1.0</td>\n",
       "      <td>South</td>\n",
       "      <td>undefined</td>\n",
       "      <td>NaN</td>\n",
       "      <td>2bhk residential house for resale in ashok vih...</td>\n",
       "      <td>NaN</td>\n",
       "      <td>NaN</td>\n",
       "      <td>['Environment3 out of 5', 'Lifestyle4 out of 5...</td>\n",
       "    </tr>\n",
       "  </tbody>\n",
       "</table>\n",
       "</div>"
      ],
      "text/plain": [
       "                                       property_name property_type  \\\n",
       "495        6 Bedroom House for sale in Shivaji Nagar         house   \n",
       "543  2 Bedroom House for sale in Ashok Vihar Phase 2         house   \n",
       "\n",
       "                       society  price_in_lacs  rate_per_sqft_inrs  \\\n",
       "495  shivaji nagar residential          308.0             11407.0   \n",
       "543                independent           40.0              8000.0   \n",
       "\n",
       "                          area  \\\n",
       "495  (251 sq.m.) Built-up Area   \n",
       "543   (46 sq.m.) Built-up Area   \n",
       "\n",
       "                                          areaWithType  bedRoom  bathroom  \\\n",
       "495                 Built Up area: 2700 (250.84 sq.m.)        6         4   \n",
       "543  Built Up area: 500 (46.45 sq.m.)Carpet area: 3...        2         1   \n",
       "\n",
       "    balcony additionalRoom                                            address  \\\n",
       "495      2    notavailable             4145., Shivaji Nagar, Gurgaon, Haryana   \n",
       "543       0   notavailable  Ashok Vihar Phase 2, Delhi Gurgaon Expressway,...   \n",
       "\n",
       "     noOfFloor facing agePossession  \\\n",
       "495        1.0     NA     undefined   \n",
       "543        1.0  South     undefined   \n",
       "\n",
       "                                       nearbyLocations  \\\n",
       "495  ['Hanuman Mandir', 'Dr. Ajay S. Gupta Clinic',...   \n",
       "543                                                NaN   \n",
       "\n",
       "                                           description  \\\n",
       "495  6bhk residential house for resale in shivaji n...   \n",
       "543  2bhk residential house for resale in ashok vih...   \n",
       "\n",
       "                                        furnishDetails features  \\\n",
       "495  ['1 Wardrobe', '1 Fan', '1 Light', 'No AC', 'N...      NaN   \n",
       "543                                                NaN      NaN   \n",
       "\n",
       "                                                rating  \n",
       "495  ['Environment4 out of 5', 'Lifestyle4 out of 5...  \n",
       "543  ['Environment3 out of 5', 'Lifestyle4 out of 5...  "
      ]
     },
     "execution_count": 90,
     "metadata": {},
     "output_type": "execute_result"
    }
   ],
   "source": [
    "df.sample(2)"
   ]
  },
  {
   "cell_type": "markdown",
   "id": "3beb9ddd-55c0-44ac-9c57-210c1efbe166",
   "metadata": {},
   "source": [
    "# Misscellaneous"
   ]
  },
  {
   "cell_type": "code",
   "execution_count": 91,
   "id": "bab3c68b-43af-4690-95cc-c5939d076504",
   "metadata": {},
   "outputs": [],
   "source": [
    "df.rename(columns={'rate_per_sqft_inrs':'price_per_sqft_inrs'},inplace=True)"
   ]
  },
  {
   "cell_type": "code",
   "execution_count": 92,
   "id": "f6f4dd4a-43e8-44a0-9402-820301f56fe4",
   "metadata": {},
   "outputs": [
    {
     "data": {
      "text/html": [
       "<div>\n",
       "<style scoped>\n",
       "    .dataframe tbody tr th:only-of-type {\n",
       "        vertical-align: middle;\n",
       "    }\n",
       "\n",
       "    .dataframe tbody tr th {\n",
       "        vertical-align: top;\n",
       "    }\n",
       "\n",
       "    .dataframe thead th {\n",
       "        text-align: right;\n",
       "    }\n",
       "</style>\n",
       "<table border=\"1\" class=\"dataframe\">\n",
       "  <thead>\n",
       "    <tr style=\"text-align: right;\">\n",
       "      <th></th>\n",
       "      <th>property_name</th>\n",
       "      <th>property_type</th>\n",
       "      <th>society</th>\n",
       "      <th>price_in_lacs</th>\n",
       "      <th>price_per_sqft_inrs</th>\n",
       "      <th>area</th>\n",
       "      <th>areaWithType</th>\n",
       "      <th>bedRoom</th>\n",
       "      <th>bathroom</th>\n",
       "      <th>balcony</th>\n",
       "      <th>additionalRoom</th>\n",
       "      <th>address</th>\n",
       "      <th>noOfFloor</th>\n",
       "      <th>facing</th>\n",
       "      <th>agePossession</th>\n",
       "      <th>nearbyLocations</th>\n",
       "      <th>description</th>\n",
       "      <th>furnishDetails</th>\n",
       "      <th>features</th>\n",
       "      <th>rating</th>\n",
       "    </tr>\n",
       "  </thead>\n",
       "  <tbody>\n",
       "    <tr>\n",
       "      <th>32</th>\n",
       "      <td>10 Bedroom House for sale in DLF Phase 2</td>\n",
       "      <td>house</td>\n",
       "      <td>independent</td>\n",
       "      <td>900.00</td>\n",
       "      <td>28490.0</td>\n",
       "      <td>(293 sq.m.) Plot Area</td>\n",
       "      <td>Plot area 351(293.48 sq.m.)</td>\n",
       "      <td>10</td>\n",
       "      <td>10</td>\n",
       "      <td>3</td>\n",
       "      <td>pooja room</td>\n",
       "      <td>M15, DLF Phase 2, Gurgaon, Haryana</td>\n",
       "      <td>3.0</td>\n",
       "      <td>East</td>\n",
       "      <td>10+ Year Old</td>\n",
       "      <td>['Vodafone belvedere towers metro station', 'D...</td>\n",
       "      <td>A 5 bhk semi furnished independent house is av...</td>\n",
       "      <td>['5 Wardrobe', '1 Water Purifier', '7 Fan', '1...</td>\n",
       "      <td>['Feng Shui / Vaastu Compliant', 'Private Gard...</td>\n",
       "      <td>['Environment5 out of 5', 'Lifestyle5 out of 5...</td>\n",
       "    </tr>\n",
       "    <tr>\n",
       "      <th>41</th>\n",
       "      <td>2 Bedroom House for sale in Narsinghpur</td>\n",
       "      <td>house</td>\n",
       "      <td>sector 37</td>\n",
       "      <td>55.11</td>\n",
       "      <td>7290.0</td>\n",
       "      <td>(70 sq.m.) Plot Area</td>\n",
       "      <td>Plot area 84(70.23 sq.m.)Built Up area: 83 sq....</td>\n",
       "      <td>2</td>\n",
       "      <td>1</td>\n",
       "      <td>1</td>\n",
       "      <td>store room</td>\n",
       "      <td>House No. 4, Narsinghpur, Gurgaon, Haryana</td>\n",
       "      <td>1.0</td>\n",
       "      <td>East</td>\n",
       "      <td>0 to 1 Year Old</td>\n",
       "      <td>['S.R.S. Hospital and Critical Care Unit', 'Ko...</td>\n",
       "      <td>Independent house available for sale in narsin...</td>\n",
       "      <td>['1 Wardrobe', '10 Light', '1 Modular Kitchen'...</td>\n",
       "      <td>['Feng Shui / Vaastu Compliant', 'Private Gard...</td>\n",
       "      <td>NaN</td>\n",
       "    </tr>\n",
       "  </tbody>\n",
       "</table>\n",
       "</div>"
      ],
      "text/plain": [
       "                               property_name property_type      society  \\\n",
       "32  10 Bedroom House for sale in DLF Phase 2         house  independent   \n",
       "41   2 Bedroom House for sale in Narsinghpur         house    sector 37   \n",
       "\n",
       "    price_in_lacs  price_per_sqft_inrs                   area  \\\n",
       "32         900.00              28490.0  (293 sq.m.) Plot Area   \n",
       "41          55.11               7290.0   (70 sq.m.) Plot Area   \n",
       "\n",
       "                                         areaWithType  bedRoom  bathroom  \\\n",
       "32                        Plot area 351(293.48 sq.m.)       10        10   \n",
       "41  Plot area 84(70.23 sq.m.)Built Up area: 83 sq....        2         1   \n",
       "\n",
       "   balcony additionalRoom                                     address  \\\n",
       "32      3      pooja room          M15, DLF Phase 2, Gurgaon, Haryana   \n",
       "41      1      store room  House No. 4, Narsinghpur, Gurgaon, Haryana   \n",
       "\n",
       "    noOfFloor facing    agePossession  \\\n",
       "32        3.0   East     10+ Year Old   \n",
       "41        1.0   East  0 to 1 Year Old   \n",
       "\n",
       "                                      nearbyLocations  \\\n",
       "32  ['Vodafone belvedere towers metro station', 'D...   \n",
       "41  ['S.R.S. Hospital and Critical Care Unit', 'Ko...   \n",
       "\n",
       "                                          description  \\\n",
       "32  A 5 bhk semi furnished independent house is av...   \n",
       "41  Independent house available for sale in narsin...   \n",
       "\n",
       "                                       furnishDetails  \\\n",
       "32  ['5 Wardrobe', '1 Water Purifier', '7 Fan', '1...   \n",
       "41  ['1 Wardrobe', '10 Light', '1 Modular Kitchen'...   \n",
       "\n",
       "                                             features  \\\n",
       "32  ['Feng Shui / Vaastu Compliant', 'Private Gard...   \n",
       "41  ['Feng Shui / Vaastu Compliant', 'Private Gard...   \n",
       "\n",
       "                                               rating  \n",
       "32  ['Environment5 out of 5', 'Lifestyle5 out of 5...  \n",
       "41                                                NaN  "
      ]
     },
     "execution_count": 92,
     "metadata": {},
     "output_type": "execute_result"
    }
   ],
   "source": [
    "df.sample(2)"
   ]
  },
  {
   "cell_type": "code",
   "execution_count": 95,
   "id": "79272345-4ad5-411d-bb88-2cbf229a7ed7",
   "metadata": {},
   "outputs": [],
   "source": [
    "df.rename(columns={'noOfFloor':'floorNum'},inplace=True)"
   ]
  },
  {
   "cell_type": "code",
   "execution_count": 98,
   "id": "6120c277-f0b9-46db-b8ba-f6ddf7b51044",
   "metadata": {},
   "outputs": [],
   "source": [
    "df.insert(3,'sector','na')"
   ]
  },
  {
   "cell_type": "code",
   "execution_count": 99,
   "id": "b51583d8-a873-477e-a7e3-dd03a66e3813",
   "metadata": {},
   "outputs": [
    {
     "data": {
      "text/html": [
       "<div>\n",
       "<style scoped>\n",
       "    .dataframe tbody tr th:only-of-type {\n",
       "        vertical-align: middle;\n",
       "    }\n",
       "\n",
       "    .dataframe tbody tr th {\n",
       "        vertical-align: top;\n",
       "    }\n",
       "\n",
       "    .dataframe thead th {\n",
       "        text-align: right;\n",
       "    }\n",
       "</style>\n",
       "<table border=\"1\" class=\"dataframe\">\n",
       "  <thead>\n",
       "    <tr style=\"text-align: right;\">\n",
       "      <th></th>\n",
       "      <th>property_name</th>\n",
       "      <th>property_type</th>\n",
       "      <th>society</th>\n",
       "      <th>sector</th>\n",
       "      <th>price_in_lacs</th>\n",
       "      <th>price_per_sqft_inrs</th>\n",
       "      <th>area</th>\n",
       "      <th>areaWithType</th>\n",
       "      <th>bedRoom</th>\n",
       "      <th>bathroom</th>\n",
       "      <th>balcony</th>\n",
       "      <th>additionalRoom</th>\n",
       "      <th>address</th>\n",
       "      <th>floorNum</th>\n",
       "      <th>facing</th>\n",
       "      <th>agePossession</th>\n",
       "      <th>nearbyLocations</th>\n",
       "      <th>description</th>\n",
       "      <th>furnishDetails</th>\n",
       "      <th>features</th>\n",
       "      <th>rating</th>\n",
       "    </tr>\n",
       "  </thead>\n",
       "  <tbody>\n",
       "    <tr>\n",
       "      <th>717</th>\n",
       "      <td>6 Bedroom House for sale in DLF Phase 1</td>\n",
       "      <td>house</td>\n",
       "      <td>dlf city plots</td>\n",
       "      <td>na</td>\n",
       "      <td>1800.0</td>\n",
       "      <td>39841.0</td>\n",
       "      <td>(420 sq.m.) Plot Area</td>\n",
       "      <td>Plot area 502(419.74 sq.m.)</td>\n",
       "      <td>6</td>\n",
       "      <td>6</td>\n",
       "      <td>2</td>\n",
       "      <td>pooja room,servant room,others</td>\n",
       "      <td>Abc108, DLF Phase 1, Gurgaon, Haryana</td>\n",
       "      <td>3.0</td>\n",
       "      <td>North</td>\n",
       "      <td>10+ Year Old</td>\n",
       "      <td>['Phase 2 Metro Station', 'Grand Mall', 'Jacar...</td>\n",
       "      <td>Beautifully well maintained kothi on sale in d...</td>\n",
       "      <td>['22 Wardrobe', '8 Fan', '1 Exhaust Fan', '6 G...</td>\n",
       "      <td>['Feng Shui / Vaastu Compliant', 'Private Gard...</td>\n",
       "      <td>['Environment5 out of 5', 'Lifestyle5 out of 5...</td>\n",
       "    </tr>\n",
       "    <tr>\n",
       "      <th>953</th>\n",
       "      <td>3 Bedroom House for sale in Sector 82 Gurgaon</td>\n",
       "      <td>house</td>\n",
       "      <td>vatika independent floors</td>\n",
       "      <td>na</td>\n",
       "      <td>140.0</td>\n",
       "      <td>8235.0</td>\n",
       "      <td>(158 sq.m.) Plot Area</td>\n",
       "      <td>Plot area 1700(157.94 sq.m.)</td>\n",
       "      <td>3</td>\n",
       "      <td>3</td>\n",
       "      <td>2</td>\n",
       "      <td>pooja room</td>\n",
       "      <td>N-24, Sector 82 Gurgaon, Gurgaon, Haryana</td>\n",
       "      <td>3.0</td>\n",
       "      <td>North-West</td>\n",
       "      <td>0 to 1 Year Old</td>\n",
       "      <td>['Sapphire 83 Mall', 'Delhi Jaipur Expressway'...</td>\n",
       "      <td>Vatika independent floors in sector-84, gurgao...</td>\n",
       "      <td>['5 Fan', '1 Exhaust Fan', '12 Light', '1 Curt...</td>\n",
       "      <td>['Security / Fire Alarm', 'High Ceiling Height...</td>\n",
       "      <td>['Environment4 out of 5', 'Safety4 out of 5', ...</td>\n",
       "    </tr>\n",
       "  </tbody>\n",
       "</table>\n",
       "</div>"
      ],
      "text/plain": [
       "                                     property_name property_type  \\\n",
       "717        6 Bedroom House for sale in DLF Phase 1         house   \n",
       "953  3 Bedroom House for sale in Sector 82 Gurgaon         house   \n",
       "\n",
       "                       society sector  price_in_lacs  price_per_sqft_inrs  \\\n",
       "717             dlf city plots     na         1800.0              39841.0   \n",
       "953  vatika independent floors     na          140.0               8235.0   \n",
       "\n",
       "                      area                  areaWithType  bedRoom  bathroom  \\\n",
       "717  (420 sq.m.) Plot Area   Plot area 502(419.74 sq.m.)        6         6   \n",
       "953  (158 sq.m.) Plot Area  Plot area 1700(157.94 sq.m.)        3         3   \n",
       "\n",
       "    balcony                  additionalRoom  \\\n",
       "717      2   pooja room,servant room,others   \n",
       "953      2                       pooja room   \n",
       "\n",
       "                                       address  floorNum      facing  \\\n",
       "717      Abc108, DLF Phase 1, Gurgaon, Haryana       3.0       North   \n",
       "953  N-24, Sector 82 Gurgaon, Gurgaon, Haryana       3.0  North-West   \n",
       "\n",
       "       agePossession                                    nearbyLocations  \\\n",
       "717     10+ Year Old  ['Phase 2 Metro Station', 'Grand Mall', 'Jacar...   \n",
       "953  0 to 1 Year Old  ['Sapphire 83 Mall', 'Delhi Jaipur Expressway'...   \n",
       "\n",
       "                                           description  \\\n",
       "717  Beautifully well maintained kothi on sale in d...   \n",
       "953  Vatika independent floors in sector-84, gurgao...   \n",
       "\n",
       "                                        furnishDetails  \\\n",
       "717  ['22 Wardrobe', '8 Fan', '1 Exhaust Fan', '6 G...   \n",
       "953  ['5 Fan', '1 Exhaust Fan', '12 Light', '1 Curt...   \n",
       "\n",
       "                                              features  \\\n",
       "717  ['Feng Shui / Vaastu Compliant', 'Private Gard...   \n",
       "953  ['Security / Fire Alarm', 'High Ceiling Height...   \n",
       "\n",
       "                                                rating  \n",
       "717  ['Environment5 out of 5', 'Lifestyle5 out of 5...  \n",
       "953  ['Environment4 out of 5', 'Safety4 out of 5', ...  "
      ]
     },
     "execution_count": 99,
     "metadata": {},
     "output_type": "execute_result"
    }
   ],
   "source": [
    "df.sample(2)"
   ]
  },
  {
   "cell_type": "code",
   "execution_count": 100,
   "id": "1db51690-e22f-437f-8570-8613fbcdffe1",
   "metadata": {},
   "outputs": [],
   "source": [
    "df.to_csv(r'C:\\Users\\abc\\Data Science and ML\\CampusX\\Project\\self\\house1.csv')"
   ]
  },
  {
   "cell_type": "code",
   "execution_count": null,
   "id": "29714350-86da-4a7f-a26e-30b2d804d8d2",
   "metadata": {},
   "outputs": [],
   "source": []
  },
  {
   "cell_type": "code",
   "execution_count": null,
   "id": "48f08537-15f5-469f-8b90-55f89da54800",
   "metadata": {},
   "outputs": [],
   "source": []
  }
 ],
 "metadata": {
  "kernelspec": {
   "display_name": "Python 3 (ipykernel)",
   "language": "python",
   "name": "python3"
  },
  "language_info": {
   "codemirror_mode": {
    "name": "ipython",
    "version": 3
   },
   "file_extension": ".py",
   "mimetype": "text/x-python",
   "name": "python",
   "nbconvert_exporter": "python",
   "pygments_lexer": "ipython3",
   "version": "3.12.7"
  }
 },
 "nbformat": 4,
 "nbformat_minor": 5
}
